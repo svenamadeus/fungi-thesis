{
 "cells": [
  {
   "cell_type": "code",
   "execution_count": 3,
   "metadata": {},
   "outputs": [
    {
     "name": "stdout",
     "output_type": "stream",
     "text": [
      "['CNP0002114', 'AGP-paper_29795809', 'scfa-paper_34234185', 'crohns-paper_37122605', 'autism-paper_35966698', 'PRJCA010668', 'PRJDB13192', 'PRJDB5316', 'PRJEB25916', 'PRJEB29083', 'PRJEB33756', 'PRJEB34790', 'PRJEB35665', 'PRJEB37810', 'PRJEB38917', 'PRJEB38930', 'PRJEB42375', 'PRJEB42596', 'PRJEB46343', 'PRJEB50185', 'PRJEB50377', 'PRJEB53019', 'PRJEB59212', 'PRJEB61825', 'PRJNA271113', 'PRJNA356769', 'PRJNA379437', 'PRJNA419104', 'PRJNA478949', 'PRJNA517994', 'PRJNA541490', 'PRJNA557226', 'PRJNA565097', 'PRJNA579121', 'PRJNA579284', 'PRJNA589500', 'PRJNA590898', 'PRJNA607176', 'PRJNA627184', 'PRJNA637034', 'PRJNA647266', 'PRJNA655569', 'PRJNA662173', 'PRJNA668386', 'PRJNA668745', 'PRJNA670323', 'PRJNA676148', 'PRJNA686661', 'PRJNA692358', 'PRJNA698272', 'PRJNA703732', 'PRJNA715947', 'PRJNA735021', 'PRJNA746305', 'PRJNA746557', 'PRJNA751473', 'PRJNA756382', 'PRJNA778607', 'PRJNA791216', 'PRJNA794154', 'PRJNA813503', 'PRJNA814728', 'PRJNA833950', 'PRJNA834584', 'PRJNA850895', 'PRJNA935155', 'PRJNA987148']\n"
     ]
    }
   ],
   "source": [
    "import os\n",
    "import csv\n",
    "import subprocess\n",
    "import pandas as pd\n",
    "import numpy as np\n",
    "import matplotlib.pyplot as plt\n",
    "import shutil\n",
    "import csv\n",
    "\n",
    "# Path to your TSV file\n",
    "file_path = 'path/to/tsv'\n",
    "\n",
    "# List to hold the project IDs\n",
    "project_ids = []\n",
    "\n",
    "# Open the file and read it\n",
    "with open(file_path, newline='') as file:\n",
    "    reader = csv.reader(file, delimiter='\\t')\n",
    "    for row in reader:\n",
    "        # Assuming the project ID is in the first column\n",
    "        project_ids.append(row[0])\n",
    "\n",
    "print(project_ids)"
   ]
  },
  {
   "cell_type": "markdown",
   "metadata": {},
   "source": [
    "The metadata files seem to be corrupted or have other problems so I need to re-import them.\n",
    "\n",
    "First I need to get the accession IDs:"
   ]
  },
  {
   "cell_type": "code",
   "execution_count": 8,
   "metadata": {},
   "outputs": [
    {
     "name": "stdout",
     "output_type": "stream",
     "text": [
      "Metadata file for CNP0002114 does not exist.\n",
      "Metadata file for AGP-paper_29795809 does not exist.\n",
      "Metadata file for scfa-paper_34234185 does not exist.\n",
      "Metadata file for crohns-paper_37122605 does not exist.\n",
      "Metadata file for autism-paper_35966698 does not exist.\n",
      "Metadata file for PRJCA010668 does not exist.\n",
      "Imported /Volumes/ANTONS/GLOBAL-GUT-FUNGI/Sven-data/final/PRJDB13192/PRJDB13192-ids.tsv.txt as NCBIAccessionIDsDirFmt to /Users/svenst/Documents/qiime2-wrkdir/global-gutfungi/Metadata/accession-ids/PRJDB13192-ids.qza\n",
      "Imported PRJDB13192 IDs to /Users/svenst/Documents/qiime2-wrkdir/global-gutfungi/Metadata/accession-ids/PRJDB13192-ids.qza\n",
      "Imported /Volumes/ANTONS/GLOBAL-GUT-FUNGI/Sven-data/final/PRJDB5316/PRJDB5316-ids.tsv.txt as NCBIAccessionIDsDirFmt to /Users/svenst/Documents/qiime2-wrkdir/global-gutfungi/Metadata/accession-ids/PRJDB5316-ids.qza\n",
      "Imported PRJDB5316 IDs to /Users/svenst/Documents/qiime2-wrkdir/global-gutfungi/Metadata/accession-ids/PRJDB5316-ids.qza\n",
      "Imported /Volumes/ANTONS/GLOBAL-GUT-FUNGI/Sven-data/final/PRJEB25916/PRJEB25916-ids.tsv.txt as NCBIAccessionIDsDirFmt to /Users/svenst/Documents/qiime2-wrkdir/global-gutfungi/Metadata/accession-ids/PRJEB25916-ids.qza\n",
      "Imported PRJEB25916 IDs to /Users/svenst/Documents/qiime2-wrkdir/global-gutfungi/Metadata/accession-ids/PRJEB25916-ids.qza\n",
      "Imported /Volumes/ANTONS/GLOBAL-GUT-FUNGI/Sven-data/final/PRJEB29083/PRJEB29083-ids.tsv.txt as NCBIAccessionIDsDirFmt to /Users/svenst/Documents/qiime2-wrkdir/global-gutfungi/Metadata/accession-ids/PRJEB29083-ids.qza\n",
      "Imported PRJEB29083 IDs to /Users/svenst/Documents/qiime2-wrkdir/global-gutfungi/Metadata/accession-ids/PRJEB29083-ids.qza\n",
      "Imported /Volumes/ANTONS/GLOBAL-GUT-FUNGI/Sven-data/final/PRJEB33756/PRJEB33756-ids.tsv.txt as NCBIAccessionIDsDirFmt to /Users/svenst/Documents/qiime2-wrkdir/global-gutfungi/Metadata/accession-ids/PRJEB33756-ids.qza\n",
      "Imported PRJEB33756 IDs to /Users/svenst/Documents/qiime2-wrkdir/global-gutfungi/Metadata/accession-ids/PRJEB33756-ids.qza\n",
      "Imported /Volumes/ANTONS/GLOBAL-GUT-FUNGI/Sven-data/final/PRJEB34790/PRJEB34790-ids.tsv.txt as NCBIAccessionIDsDirFmt to /Users/svenst/Documents/qiime2-wrkdir/global-gutfungi/Metadata/accession-ids/PRJEB34790-ids.qza\n",
      "Imported PRJEB34790 IDs to /Users/svenst/Documents/qiime2-wrkdir/global-gutfungi/Metadata/accession-ids/PRJEB34790-ids.qza\n",
      "Imported /Volumes/ANTONS/GLOBAL-GUT-FUNGI/Sven-data/final/PRJEB35665/PRJEB35665-ids.tsv.txt as NCBIAccessionIDsDirFmt to /Users/svenst/Documents/qiime2-wrkdir/global-gutfungi/Metadata/accession-ids/PRJEB35665-ids.qza\n",
      "Imported PRJEB35665 IDs to /Users/svenst/Documents/qiime2-wrkdir/global-gutfungi/Metadata/accession-ids/PRJEB35665-ids.qza\n",
      "Imported /Volumes/ANTONS/GLOBAL-GUT-FUNGI/Sven-data/final/PRJEB37810/PRJEB37810-ids.tsv.txt as NCBIAccessionIDsDirFmt to /Users/svenst/Documents/qiime2-wrkdir/global-gutfungi/Metadata/accession-ids/PRJEB37810-ids.qza\n",
      "Imported PRJEB37810 IDs to /Users/svenst/Documents/qiime2-wrkdir/global-gutfungi/Metadata/accession-ids/PRJEB37810-ids.qza\n",
      "Imported /Volumes/ANTONS/GLOBAL-GUT-FUNGI/Sven-data/final/PRJEB37883/PRJEB37883-ids.tsv.txt as NCBIAccessionIDsDirFmt to /Users/svenst/Documents/qiime2-wrkdir/global-gutfungi/Metadata/accession-ids/PRJEB37883-ids.qza\n",
      "Imported PRJEB37883 IDs to /Users/svenst/Documents/qiime2-wrkdir/global-gutfungi/Metadata/accession-ids/PRJEB37883-ids.qza\n",
      "Imported /Volumes/ANTONS/GLOBAL-GUT-FUNGI/Sven-data/final/PRJEB38917/PRJEB38917-ids.tsv.txt as NCBIAccessionIDsDirFmt to /Users/svenst/Documents/qiime2-wrkdir/global-gutfungi/Metadata/accession-ids/PRJEB38917-ids.qza\n",
      "Imported PRJEB38917 IDs to /Users/svenst/Documents/qiime2-wrkdir/global-gutfungi/Metadata/accession-ids/PRJEB38917-ids.qza\n",
      "Imported /Volumes/ANTONS/GLOBAL-GUT-FUNGI/Sven-data/final/PRJEB38930/PRJEB38930-ids.tsv.txt as NCBIAccessionIDsDirFmt to /Users/svenst/Documents/qiime2-wrkdir/global-gutfungi/Metadata/accession-ids/PRJEB38930-ids.qza\n",
      "Imported PRJEB38930 IDs to /Users/svenst/Documents/qiime2-wrkdir/global-gutfungi/Metadata/accession-ids/PRJEB38930-ids.qza\n",
      "Imported /Volumes/ANTONS/GLOBAL-GUT-FUNGI/Sven-data/final/PRJEB42375/PRJEB42375-ids.tsv.txt as NCBIAccessionIDsDirFmt to /Users/svenst/Documents/qiime2-wrkdir/global-gutfungi/Metadata/accession-ids/PRJEB42375-ids.qza\n",
      "Imported PRJEB42375 IDs to /Users/svenst/Documents/qiime2-wrkdir/global-gutfungi/Metadata/accession-ids/PRJEB42375-ids.qza\n",
      "Imported /Volumes/ANTONS/GLOBAL-GUT-FUNGI/Sven-data/final/PRJEB42596/PRJEB42596-ids.tsv.txt as NCBIAccessionIDsDirFmt to /Users/svenst/Documents/qiime2-wrkdir/global-gutfungi/Metadata/accession-ids/PRJEB42596-ids.qza\n",
      "Imported PRJEB42596 IDs to /Users/svenst/Documents/qiime2-wrkdir/global-gutfungi/Metadata/accession-ids/PRJEB42596-ids.qza\n",
      "Imported /Volumes/ANTONS/GLOBAL-GUT-FUNGI/Sven-data/final/PRJEB46343/PRJEB46343-ids.tsv.txt as NCBIAccessionIDsDirFmt to /Users/svenst/Documents/qiime2-wrkdir/global-gutfungi/Metadata/accession-ids/PRJEB46343-ids.qza\n",
      "Imported PRJEB46343 IDs to /Users/svenst/Documents/qiime2-wrkdir/global-gutfungi/Metadata/accession-ids/PRJEB46343-ids.qza\n",
      "Imported /Volumes/ANTONS/GLOBAL-GUT-FUNGI/Sven-data/final/PRJEB50185/PRJEB50185-ids.tsv.txt as NCBIAccessionIDsDirFmt to /Users/svenst/Documents/qiime2-wrkdir/global-gutfungi/Metadata/accession-ids/PRJEB50185-ids.qza\n",
      "Imported PRJEB50185 IDs to /Users/svenst/Documents/qiime2-wrkdir/global-gutfungi/Metadata/accession-ids/PRJEB50185-ids.qza\n",
      "Imported /Volumes/ANTONS/GLOBAL-GUT-FUNGI/Sven-data/final/PRJEB50377/PRJEB50377-ids.tsv.txt as NCBIAccessionIDsDirFmt to /Users/svenst/Documents/qiime2-wrkdir/global-gutfungi/Metadata/accession-ids/PRJEB50377-ids.qza\n",
      "Imported PRJEB50377 IDs to /Users/svenst/Documents/qiime2-wrkdir/global-gutfungi/Metadata/accession-ids/PRJEB50377-ids.qza\n",
      "Imported /Volumes/ANTONS/GLOBAL-GUT-FUNGI/Sven-data/final/PRJEB53019/PRJEB53019-ids.tsv.txt as NCBIAccessionIDsDirFmt to /Users/svenst/Documents/qiime2-wrkdir/global-gutfungi/Metadata/accession-ids/PRJEB53019-ids.qza\n",
      "Imported PRJEB53019 IDs to /Users/svenst/Documents/qiime2-wrkdir/global-gutfungi/Metadata/accession-ids/PRJEB53019-ids.qza\n",
      "Imported /Volumes/ANTONS/GLOBAL-GUT-FUNGI/Sven-data/final/PRJEB59212/PRJEB59212-ids.tsv.txt as NCBIAccessionIDsDirFmt to /Users/svenst/Documents/qiime2-wrkdir/global-gutfungi/Metadata/accession-ids/PRJEB59212-ids.qza\n",
      "Imported PRJEB59212 IDs to /Users/svenst/Documents/qiime2-wrkdir/global-gutfungi/Metadata/accession-ids/PRJEB59212-ids.qza\n",
      "Imported /Volumes/ANTONS/GLOBAL-GUT-FUNGI/Sven-data/final/PRJEB61825/PRJEB61825-ids.tsv.txt as NCBIAccessionIDsDirFmt to /Users/svenst/Documents/qiime2-wrkdir/global-gutfungi/Metadata/accession-ids/PRJEB61825-ids.qza\n",
      "Imported PRJEB61825 IDs to /Users/svenst/Documents/qiime2-wrkdir/global-gutfungi/Metadata/accession-ids/PRJEB61825-ids.qza\n",
      "Imported /Volumes/ANTONS/GLOBAL-GUT-FUNGI/Sven-data/final/PRJNA271113/PRJNA271113-ids.tsv.txt as NCBIAccessionIDsDirFmt to /Users/svenst/Documents/qiime2-wrkdir/global-gutfungi/Metadata/accession-ids/PRJNA271113-ids.qza\n",
      "Imported PRJNA271113 IDs to /Users/svenst/Documents/qiime2-wrkdir/global-gutfungi/Metadata/accession-ids/PRJNA271113-ids.qza\n",
      "Imported /Volumes/ANTONS/GLOBAL-GUT-FUNGI/Sven-data/final/PRJNA356769/PRJNA356769-ids.tsv.txt as NCBIAccessionIDsDirFmt to /Users/svenst/Documents/qiime2-wrkdir/global-gutfungi/Metadata/accession-ids/PRJNA356769-ids.qza\n",
      "Imported PRJNA356769 IDs to /Users/svenst/Documents/qiime2-wrkdir/global-gutfungi/Metadata/accession-ids/PRJNA356769-ids.qza\n",
      "Imported /Volumes/ANTONS/GLOBAL-GUT-FUNGI/Sven-data/final/PRJNA379437/PRJNA379437-ids.tsv.txt as NCBIAccessionIDsDirFmt to /Users/svenst/Documents/qiime2-wrkdir/global-gutfungi/Metadata/accession-ids/PRJNA379437-ids.qza\n",
      "Imported PRJNA379437 IDs to /Users/svenst/Documents/qiime2-wrkdir/global-gutfungi/Metadata/accession-ids/PRJNA379437-ids.qza\n",
      "Imported /Volumes/ANTONS/GLOBAL-GUT-FUNGI/Sven-data/final/PRJNA419104/PRJNA419104-ids.tsv.txt as NCBIAccessionIDsDirFmt to /Users/svenst/Documents/qiime2-wrkdir/global-gutfungi/Metadata/accession-ids/PRJNA419104-ids.qza\n",
      "Imported PRJNA419104 IDs to /Users/svenst/Documents/qiime2-wrkdir/global-gutfungi/Metadata/accession-ids/PRJNA419104-ids.qza\n",
      "Imported /Volumes/ANTONS/GLOBAL-GUT-FUNGI/Sven-data/final/PRJNA478949/PRJNA478949-ids.tsv.txt as NCBIAccessionIDsDirFmt to /Users/svenst/Documents/qiime2-wrkdir/global-gutfungi/Metadata/accession-ids/PRJNA478949-ids.qza\n",
      "Imported PRJNA478949 IDs to /Users/svenst/Documents/qiime2-wrkdir/global-gutfungi/Metadata/accession-ids/PRJNA478949-ids.qza\n",
      "Imported /Volumes/ANTONS/GLOBAL-GUT-FUNGI/Sven-data/final/PRJNA517994/PRJNA517994-ids.tsv.txt as NCBIAccessionIDsDirFmt to /Users/svenst/Documents/qiime2-wrkdir/global-gutfungi/Metadata/accession-ids/PRJNA517994-ids.qza\n",
      "Imported PRJNA517994 IDs to /Users/svenst/Documents/qiime2-wrkdir/global-gutfungi/Metadata/accession-ids/PRJNA517994-ids.qza\n",
      "Imported /Volumes/ANTONS/GLOBAL-GUT-FUNGI/Sven-data/final/PRJNA517994/PRJNA517994-ids.tsv.txt as NCBIAccessionIDsDirFmt to /Users/svenst/Documents/qiime2-wrkdir/global-gutfungi/Metadata/accession-ids/PRJNA517994-ids.qza\n",
      "Imported PRJNA517994 IDs to /Users/svenst/Documents/qiime2-wrkdir/global-gutfungi/Metadata/accession-ids/PRJNA517994-ids.qza\n",
      "Imported /Volumes/ANTONS/GLOBAL-GUT-FUNGI/Sven-data/final/PRJNA541490/PRJNA541490-ids.tsv.txt as NCBIAccessionIDsDirFmt to /Users/svenst/Documents/qiime2-wrkdir/global-gutfungi/Metadata/accession-ids/PRJNA541490-ids.qza\n",
      "Imported PRJNA541490 IDs to /Users/svenst/Documents/qiime2-wrkdir/global-gutfungi/Metadata/accession-ids/PRJNA541490-ids.qza\n",
      "Imported /Volumes/ANTONS/GLOBAL-GUT-FUNGI/Sven-data/final/PRJNA557226/PRJNA557226-ids.tsv.txt as NCBIAccessionIDsDirFmt to /Users/svenst/Documents/qiime2-wrkdir/global-gutfungi/Metadata/accession-ids/PRJNA557226-ids.qza\n",
      "Imported PRJNA557226 IDs to /Users/svenst/Documents/qiime2-wrkdir/global-gutfungi/Metadata/accession-ids/PRJNA557226-ids.qza\n",
      "Imported /Volumes/ANTONS/GLOBAL-GUT-FUNGI/Sven-data/final/PRJNA565097/PRJNA565097-ids.tsv.txt as NCBIAccessionIDsDirFmt to /Users/svenst/Documents/qiime2-wrkdir/global-gutfungi/Metadata/accession-ids/PRJNA565097-ids.qza\n",
      "Imported PRJNA565097 IDs to /Users/svenst/Documents/qiime2-wrkdir/global-gutfungi/Metadata/accession-ids/PRJNA565097-ids.qza\n",
      "Imported /Volumes/ANTONS/GLOBAL-GUT-FUNGI/Sven-data/final/PRJNA579121/PRJNA579121-ids.tsv.txt as NCBIAccessionIDsDirFmt to /Users/svenst/Documents/qiime2-wrkdir/global-gutfungi/Metadata/accession-ids/PRJNA579121-ids.qza\n",
      "Imported PRJNA579121 IDs to /Users/svenst/Documents/qiime2-wrkdir/global-gutfungi/Metadata/accession-ids/PRJNA579121-ids.qza\n",
      "Imported /Volumes/ANTONS/GLOBAL-GUT-FUNGI/Sven-data/final/PRJNA579284/PRJNA579284-ids.tsv.txt as NCBIAccessionIDsDirFmt to /Users/svenst/Documents/qiime2-wrkdir/global-gutfungi/Metadata/accession-ids/PRJNA579284-ids.qza\n",
      "Imported PRJNA579284 IDs to /Users/svenst/Documents/qiime2-wrkdir/global-gutfungi/Metadata/accession-ids/PRJNA579284-ids.qza\n",
      "Imported /Volumes/ANTONS/GLOBAL-GUT-FUNGI/Sven-data/final/PRJNA589500/PRJNA589500-ids.tsv.txt as NCBIAccessionIDsDirFmt to /Users/svenst/Documents/qiime2-wrkdir/global-gutfungi/Metadata/accession-ids/PRJNA589500-ids.qza\n",
      "Imported PRJNA589500 IDs to /Users/svenst/Documents/qiime2-wrkdir/global-gutfungi/Metadata/accession-ids/PRJNA589500-ids.qza\n",
      "Imported /Volumes/ANTONS/GLOBAL-GUT-FUNGI/Sven-data/final/PRJNA590898/PRJNA590898-ids.tsv.txt as NCBIAccessionIDsDirFmt to /Users/svenst/Documents/qiime2-wrkdir/global-gutfungi/Metadata/accession-ids/PRJNA590898-ids.qza\n",
      "Imported PRJNA590898 IDs to /Users/svenst/Documents/qiime2-wrkdir/global-gutfungi/Metadata/accession-ids/PRJNA590898-ids.qza\n",
      "Imported /Volumes/ANTONS/GLOBAL-GUT-FUNGI/Sven-data/final/PRJNA607176/PRJNA607176-ids.tsv.txt as NCBIAccessionIDsDirFmt to /Users/svenst/Documents/qiime2-wrkdir/global-gutfungi/Metadata/accession-ids/PRJNA607176-ids.qza\n",
      "Imported PRJNA607176 IDs to /Users/svenst/Documents/qiime2-wrkdir/global-gutfungi/Metadata/accession-ids/PRJNA607176-ids.qza\n",
      "Imported /Volumes/ANTONS/GLOBAL-GUT-FUNGI/Sven-data/final/PRJNA627184/PRJNA627184-ids.tsv.txt as NCBIAccessionIDsDirFmt to /Users/svenst/Documents/qiime2-wrkdir/global-gutfungi/Metadata/accession-ids/PRJNA627184-ids.qza\n",
      "Imported PRJNA627184 IDs to /Users/svenst/Documents/qiime2-wrkdir/global-gutfungi/Metadata/accession-ids/PRJNA627184-ids.qza\n",
      "Imported /Volumes/ANTONS/GLOBAL-GUT-FUNGI/Sven-data/final/PRJNA637034/PRJNA637034-ids.tsv.txt as NCBIAccessionIDsDirFmt to /Users/svenst/Documents/qiime2-wrkdir/global-gutfungi/Metadata/accession-ids/PRJNA637034-ids.qza\n",
      "Imported PRJNA637034 IDs to /Users/svenst/Documents/qiime2-wrkdir/global-gutfungi/Metadata/accession-ids/PRJNA637034-ids.qza\n",
      "Imported /Volumes/ANTONS/GLOBAL-GUT-FUNGI/Sven-data/final/PRJNA647266/PRJNA647266-ids.tsv.txt as NCBIAccessionIDsDirFmt to /Users/svenst/Documents/qiime2-wrkdir/global-gutfungi/Metadata/accession-ids/PRJNA647266-ids.qza\n",
      "Imported PRJNA647266 IDs to /Users/svenst/Documents/qiime2-wrkdir/global-gutfungi/Metadata/accession-ids/PRJNA647266-ids.qza\n",
      "Imported /Volumes/ANTONS/GLOBAL-GUT-FUNGI/Sven-data/final/PRJNA655569/PRJNA655569-ids.tsv.txt as NCBIAccessionIDsDirFmt to /Users/svenst/Documents/qiime2-wrkdir/global-gutfungi/Metadata/accession-ids/PRJNA655569-ids.qza\n",
      "Imported PRJNA655569 IDs to /Users/svenst/Documents/qiime2-wrkdir/global-gutfungi/Metadata/accession-ids/PRJNA655569-ids.qza\n",
      "Imported /Volumes/ANTONS/GLOBAL-GUT-FUNGI/Sven-data/final/PRJNA662173/PRJNA662173-ids.tsv.txt as NCBIAccessionIDsDirFmt to /Users/svenst/Documents/qiime2-wrkdir/global-gutfungi/Metadata/accession-ids/PRJNA662173-ids.qza\n",
      "Imported PRJNA662173 IDs to /Users/svenst/Documents/qiime2-wrkdir/global-gutfungi/Metadata/accession-ids/PRJNA662173-ids.qza\n",
      "Imported /Volumes/ANTONS/GLOBAL-GUT-FUNGI/Sven-data/final/PRJNA668386/PRJNA668386-ids.tsv.txt as NCBIAccessionIDsDirFmt to /Users/svenst/Documents/qiime2-wrkdir/global-gutfungi/Metadata/accession-ids/PRJNA668386-ids.qza\n",
      "Imported PRJNA668386 IDs to /Users/svenst/Documents/qiime2-wrkdir/global-gutfungi/Metadata/accession-ids/PRJNA668386-ids.qza\n",
      "Imported /Volumes/ANTONS/GLOBAL-GUT-FUNGI/Sven-data/final/PRJNA668745/PRJNA668745-ids.tsv.txt as NCBIAccessionIDsDirFmt to /Users/svenst/Documents/qiime2-wrkdir/global-gutfungi/Metadata/accession-ids/PRJNA668745-ids.qza\n",
      "Imported PRJNA668745 IDs to /Users/svenst/Documents/qiime2-wrkdir/global-gutfungi/Metadata/accession-ids/PRJNA668745-ids.qza\n",
      "Imported /Volumes/ANTONS/GLOBAL-GUT-FUNGI/Sven-data/final/PRJNA670323/PRJNA670323-ids.tsv.txt as NCBIAccessionIDsDirFmt to /Users/svenst/Documents/qiime2-wrkdir/global-gutfungi/Metadata/accession-ids/PRJNA670323-ids.qza\n",
      "Imported PRJNA670323 IDs to /Users/svenst/Documents/qiime2-wrkdir/global-gutfungi/Metadata/accession-ids/PRJNA670323-ids.qza\n",
      "Imported /Volumes/ANTONS/GLOBAL-GUT-FUNGI/Sven-data/final/PRJNA676148/PRJNA676148-ids.tsv.txt as NCBIAccessionIDsDirFmt to /Users/svenst/Documents/qiime2-wrkdir/global-gutfungi/Metadata/accession-ids/PRJNA676148-ids.qza\n",
      "Imported PRJNA676148 IDs to /Users/svenst/Documents/qiime2-wrkdir/global-gutfungi/Metadata/accession-ids/PRJNA676148-ids.qza\n",
      "Imported /Volumes/ANTONS/GLOBAL-GUT-FUNGI/Sven-data/final/PRJNA686661/PRJNA686661-ids.tsv.txt as NCBIAccessionIDsDirFmt to /Users/svenst/Documents/qiime2-wrkdir/global-gutfungi/Metadata/accession-ids/PRJNA686661-ids.qza\n",
      "Imported PRJNA686661 IDs to /Users/svenst/Documents/qiime2-wrkdir/global-gutfungi/Metadata/accession-ids/PRJNA686661-ids.qza\n",
      "Imported /Volumes/ANTONS/GLOBAL-GUT-FUNGI/Sven-data/final/PRJNA692358/PRJNA692358-ids.tsv.txt as NCBIAccessionIDsDirFmt to /Users/svenst/Documents/qiime2-wrkdir/global-gutfungi/Metadata/accession-ids/PRJNA692358-ids.qza\n",
      "Imported PRJNA692358 IDs to /Users/svenst/Documents/qiime2-wrkdir/global-gutfungi/Metadata/accession-ids/PRJNA692358-ids.qza\n",
      "Imported /Volumes/ANTONS/GLOBAL-GUT-FUNGI/Sven-data/final/PRJNA698272/PRJNA698272-ids.tsv.txt as NCBIAccessionIDsDirFmt to /Users/svenst/Documents/qiime2-wrkdir/global-gutfungi/Metadata/accession-ids/PRJNA698272-ids.qza\n",
      "Imported PRJNA698272 IDs to /Users/svenst/Documents/qiime2-wrkdir/global-gutfungi/Metadata/accession-ids/PRJNA698272-ids.qza\n",
      "Imported /Volumes/ANTONS/GLOBAL-GUT-FUNGI/Sven-data/final/PRJNA703732/PRJNA703732-ids.tsv.txt as NCBIAccessionIDsDirFmt to /Users/svenst/Documents/qiime2-wrkdir/global-gutfungi/Metadata/accession-ids/PRJNA703732-ids.qza\n",
      "Imported PRJNA703732 IDs to /Users/svenst/Documents/qiime2-wrkdir/global-gutfungi/Metadata/accession-ids/PRJNA703732-ids.qza\n",
      "Imported /Volumes/ANTONS/GLOBAL-GUT-FUNGI/Sven-data/final/PRJNA715947/PRJNA715947-ids.tsv.txt as NCBIAccessionIDsDirFmt to /Users/svenst/Documents/qiime2-wrkdir/global-gutfungi/Metadata/accession-ids/PRJNA715947-ids.qza\n",
      "Imported PRJNA715947 IDs to /Users/svenst/Documents/qiime2-wrkdir/global-gutfungi/Metadata/accession-ids/PRJNA715947-ids.qza\n",
      "Imported /Volumes/ANTONS/GLOBAL-GUT-FUNGI/Sven-data/final/PRJNA735021/PRJNA735021-ids.tsv.txt as NCBIAccessionIDsDirFmt to /Users/svenst/Documents/qiime2-wrkdir/global-gutfungi/Metadata/accession-ids/PRJNA735021-ids.qza\n",
      "Imported PRJNA735021 IDs to /Users/svenst/Documents/qiime2-wrkdir/global-gutfungi/Metadata/accession-ids/PRJNA735021-ids.qza\n",
      "Imported /Volumes/ANTONS/GLOBAL-GUT-FUNGI/Sven-data/final/PRJNA746305/PRJNA746305-ids.tsv.txt as NCBIAccessionIDsDirFmt to /Users/svenst/Documents/qiime2-wrkdir/global-gutfungi/Metadata/accession-ids/PRJNA746305-ids.qza\n",
      "Imported PRJNA746305 IDs to /Users/svenst/Documents/qiime2-wrkdir/global-gutfungi/Metadata/accession-ids/PRJNA746305-ids.qza\n",
      "Imported /Volumes/ANTONS/GLOBAL-GUT-FUNGI/Sven-data/final/PRJNA746557/PRJNA746557-ids.tsv.txt as NCBIAccessionIDsDirFmt to /Users/svenst/Documents/qiime2-wrkdir/global-gutfungi/Metadata/accession-ids/PRJNA746557-ids.qza\n",
      "Imported PRJNA746557 IDs to /Users/svenst/Documents/qiime2-wrkdir/global-gutfungi/Metadata/accession-ids/PRJNA746557-ids.qza\n",
      "Imported /Volumes/ANTONS/GLOBAL-GUT-FUNGI/Sven-data/final/PRJNA751473/PRJNA751473-ids.tsv.txt as NCBIAccessionIDsDirFmt to /Users/svenst/Documents/qiime2-wrkdir/global-gutfungi/Metadata/accession-ids/PRJNA751473-ids.qza\n",
      "Imported PRJNA751473 IDs to /Users/svenst/Documents/qiime2-wrkdir/global-gutfungi/Metadata/accession-ids/PRJNA751473-ids.qza\n",
      "Imported /Volumes/ANTONS/GLOBAL-GUT-FUNGI/Sven-data/final/PRJNA756382/PRJNA756382-ids.tsv.txt as NCBIAccessionIDsDirFmt to /Users/svenst/Documents/qiime2-wrkdir/global-gutfungi/Metadata/accession-ids/PRJNA756382-ids.qza\n",
      "Imported PRJNA756382 IDs to /Users/svenst/Documents/qiime2-wrkdir/global-gutfungi/Metadata/accession-ids/PRJNA756382-ids.qza\n",
      "Imported /Volumes/ANTONS/GLOBAL-GUT-FUNGI/Sven-data/final/PRJNA778607/PRJNA778607-ids.tsv.txt as NCBIAccessionIDsDirFmt to /Users/svenst/Documents/qiime2-wrkdir/global-gutfungi/Metadata/accession-ids/PRJNA778607-ids.qza\n",
      "Imported PRJNA778607 IDs to /Users/svenst/Documents/qiime2-wrkdir/global-gutfungi/Metadata/accession-ids/PRJNA778607-ids.qza\n",
      "Imported /Volumes/ANTONS/GLOBAL-GUT-FUNGI/Sven-data/final/PRJNA791216/PRJNA791216-ids.tsv.txt as NCBIAccessionIDsDirFmt to /Users/svenst/Documents/qiime2-wrkdir/global-gutfungi/Metadata/accession-ids/PRJNA791216-ids.qza\n",
      "Imported PRJNA791216 IDs to /Users/svenst/Documents/qiime2-wrkdir/global-gutfungi/Metadata/accession-ids/PRJNA791216-ids.qza\n",
      "Imported /Volumes/ANTONS/GLOBAL-GUT-FUNGI/Sven-data/final/PRJNA794154/PRJNA794154-ids.tsv.txt as NCBIAccessionIDsDirFmt to /Users/svenst/Documents/qiime2-wrkdir/global-gutfungi/Metadata/accession-ids/PRJNA794154-ids.qza\n",
      "Imported PRJNA794154 IDs to /Users/svenst/Documents/qiime2-wrkdir/global-gutfungi/Metadata/accession-ids/PRJNA794154-ids.qza\n",
      "Imported /Volumes/ANTONS/GLOBAL-GUT-FUNGI/Sven-data/final/PRJNA813503/PRJNA813503-ids.tsv.txt as NCBIAccessionIDsDirFmt to /Users/svenst/Documents/qiime2-wrkdir/global-gutfungi/Metadata/accession-ids/PRJNA813503-ids.qza\n",
      "Imported PRJNA813503 IDs to /Users/svenst/Documents/qiime2-wrkdir/global-gutfungi/Metadata/accession-ids/PRJNA813503-ids.qza\n",
      "Imported /Volumes/ANTONS/GLOBAL-GUT-FUNGI/Sven-data/final/PRJNA814728/PRJNA814728-ids.tsv.txt as NCBIAccessionIDsDirFmt to /Users/svenst/Documents/qiime2-wrkdir/global-gutfungi/Metadata/accession-ids/PRJNA814728-ids.qza\n",
      "Imported PRJNA814728 IDs to /Users/svenst/Documents/qiime2-wrkdir/global-gutfungi/Metadata/accession-ids/PRJNA814728-ids.qza\n",
      "Imported /Volumes/ANTONS/GLOBAL-GUT-FUNGI/Sven-data/final/PRJNA833950/PRJNA833950-ids.tsv.txt as NCBIAccessionIDsDirFmt to /Users/svenst/Documents/qiime2-wrkdir/global-gutfungi/Metadata/accession-ids/PRJNA833950-ids.qza\n",
      "Imported PRJNA833950 IDs to /Users/svenst/Documents/qiime2-wrkdir/global-gutfungi/Metadata/accession-ids/PRJNA833950-ids.qza\n",
      "Imported /Volumes/ANTONS/GLOBAL-GUT-FUNGI/Sven-data/final/PRJNA834584/PRJNA834584-ids.tsv.txt as NCBIAccessionIDsDirFmt to /Users/svenst/Documents/qiime2-wrkdir/global-gutfungi/Metadata/accession-ids/PRJNA834584-ids.qza\n",
      "Imported PRJNA834584 IDs to /Users/svenst/Documents/qiime2-wrkdir/global-gutfungi/Metadata/accession-ids/PRJNA834584-ids.qza\n",
      "Imported /Volumes/ANTONS/GLOBAL-GUT-FUNGI/Sven-data/final/PRJNA850895/PRJNA850895-ids.tsv.txt as NCBIAccessionIDsDirFmt to /Users/svenst/Documents/qiime2-wrkdir/global-gutfungi/Metadata/accession-ids/PRJNA850895-ids.qza\n",
      "Imported PRJNA850895 IDs to /Users/svenst/Documents/qiime2-wrkdir/global-gutfungi/Metadata/accession-ids/PRJNA850895-ids.qza\n",
      "Imported /Volumes/ANTONS/GLOBAL-GUT-FUNGI/Sven-data/final/PRJNA935155/PRJNA935155-ids.tsv.txt as NCBIAccessionIDsDirFmt to /Users/svenst/Documents/qiime2-wrkdir/global-gutfungi/Metadata/accession-ids/PRJNA935155-ids.qza\n",
      "Imported PRJNA935155 IDs to /Users/svenst/Documents/qiime2-wrkdir/global-gutfungi/Metadata/accession-ids/PRJNA935155-ids.qza\n",
      "Imported /Volumes/ANTONS/GLOBAL-GUT-FUNGI/Sven-data/final/PRJNA987148/PRJNA987148-ids.tsv.txt as NCBIAccessionIDsDirFmt to /Users/svenst/Documents/qiime2-wrkdir/global-gutfungi/Metadata/accession-ids/PRJNA987148-ids.qza\n",
      "Imported PRJNA987148 IDs to /Users/svenst/Documents/qiime2-wrkdir/global-gutfungi/Metadata/accession-ids/PRJNA987148-ids.qza\n",
      "Process completed.\n"
     ]
    }
   ],
   "source": [
    "for project in project_ids:\n",
    "    input_tsv = f'/Volumes/ANTONS/GLOBAL-GUT-FUNGI/Sven-data/final/{project}/{project}-ids.tsv.txt'\n",
    "\n",
    "    if os.path.isfile(input_tsv):\n",
    "        # Path for the exported file\n",
    "        export_qza = f'/Users/svenst/Documents/qiime2-wrkdir/global-gutfungi/Metadata/accession-ids/{project}-ids.qza'\n",
    "        \n",
    "        # QIIME 2 command to export the metadata.qza file to a tsv file\n",
    "        accession_cmd = [\n",
    "            'qiime',\n",
    "            'tools',\n",
    "            'import',\n",
    "            '--type', 'NCBIAccessionIDs',\n",
    "            '--input-path', input_tsv,\n",
    "            '--output-path', export_qza\n",
    "        ]\n",
    "        subprocess.run(accession_cmd, check=True)\n",
    "        print(f\"Imported {project} IDs to {export_qza}\")\n",
    "    else:\n",
    "        print(f\"Accession IDs File for {project} does not exist.\")\n",
    "\n",
    "print(\"Process completed.\")"
   ]
  },
  {
   "cell_type": "markdown",
   "metadata": {},
   "source": [
    "I will re-fetch the metadata based on the accession IDs and will exclude all non-ITS or shotgun samples after the merging step."
   ]
  },
  {
   "cell_type": "code",
   "execution_count": 10,
   "metadata": {},
   "outputs": [
    {
     "name": "stdout",
     "output_type": "stream",
     "text": [
      "Accession IDs File for CNP0002114 does not exist.\n",
      "Accession IDs File for AGP-paper_29795809 does not exist.\n",
      "Accession IDs File for scfa-paper_34234185 does not exist.\n",
      "Accession IDs File for crohns-paper_37122605 does not exist.\n",
      "Accession IDs File for autism-paper_35966698 does not exist.\n",
      "Accession IDs File for PRJCA010668 does not exist.\n",
      "Saved SRAMetadata to: /Users/svenst/Documents/qiime2-wrkdir/global-gutfungi/Metadata/metadata-files/PRJDB13192-metadata.qza\n",
      "Saved SRAFailedIDs to: /Users/svenst/Documents/qiime2-wrkdir/global-gutfungi/Metadata/metadata-files/PRJDB13192-failed-IDs.qza\n",
      "Imported PRJDB13192 metadata to /Users/svenst/Documents/qiime2-wrkdir/global-gutfungi/Metadata/metadata-files/PRJDB13192-metadata.qza\n",
      "Saved SRAMetadata to: /Users/svenst/Documents/qiime2-wrkdir/global-gutfungi/Metadata/metadata-files/PRJDB5316-metadata.qza\n",
      "Saved SRAFailedIDs to: /Users/svenst/Documents/qiime2-wrkdir/global-gutfungi/Metadata/metadata-files/PRJDB5316-failed-IDs.qza\n",
      "Imported PRJDB5316 metadata to /Users/svenst/Documents/qiime2-wrkdir/global-gutfungi/Metadata/metadata-files/PRJDB5316-metadata.qza\n",
      "Saved SRAMetadata to: /Users/svenst/Documents/qiime2-wrkdir/global-gutfungi/Metadata/metadata-files/PRJEB25916-metadata.qza\n",
      "Saved SRAFailedIDs to: /Users/svenst/Documents/qiime2-wrkdir/global-gutfungi/Metadata/metadata-files/PRJEB25916-failed-IDs.qza\n",
      "Imported PRJEB25916 metadata to /Users/svenst/Documents/qiime2-wrkdir/global-gutfungi/Metadata/metadata-files/PRJEB25916-metadata.qza\n",
      "Saved SRAMetadata to: /Users/svenst/Documents/qiime2-wrkdir/global-gutfungi/Metadata/metadata-files/PRJEB29083-metadata.qza\n",
      "Saved SRAFailedIDs to: /Users/svenst/Documents/qiime2-wrkdir/global-gutfungi/Metadata/metadata-files/PRJEB29083-failed-IDs.qza\n",
      "Imported PRJEB29083 metadata to /Users/svenst/Documents/qiime2-wrkdir/global-gutfungi/Metadata/metadata-files/PRJEB29083-metadata.qza\n",
      "Saved SRAMetadata to: /Users/svenst/Documents/qiime2-wrkdir/global-gutfungi/Metadata/metadata-files/PRJEB33756-metadata.qza\n",
      "Saved SRAFailedIDs to: /Users/svenst/Documents/qiime2-wrkdir/global-gutfungi/Metadata/metadata-files/PRJEB33756-failed-IDs.qza\n",
      "Imported PRJEB33756 metadata to /Users/svenst/Documents/qiime2-wrkdir/global-gutfungi/Metadata/metadata-files/PRJEB33756-metadata.qza\n",
      "Saved SRAMetadata to: /Users/svenst/Documents/qiime2-wrkdir/global-gutfungi/Metadata/metadata-files/PRJEB34790-metadata.qza\n",
      "Saved SRAFailedIDs to: /Users/svenst/Documents/qiime2-wrkdir/global-gutfungi/Metadata/metadata-files/PRJEB34790-failed-IDs.qza\n",
      "Imported PRJEB34790 metadata to /Users/svenst/Documents/qiime2-wrkdir/global-gutfungi/Metadata/metadata-files/PRJEB34790-metadata.qza\n",
      "Saved SRAMetadata to: /Users/svenst/Documents/qiime2-wrkdir/global-gutfungi/Metadata/metadata-files/PRJEB35665-metadata.qza\n",
      "Saved SRAFailedIDs to: /Users/svenst/Documents/qiime2-wrkdir/global-gutfungi/Metadata/metadata-files/PRJEB35665-failed-IDs.qza\n",
      "Imported PRJEB35665 metadata to /Users/svenst/Documents/qiime2-wrkdir/global-gutfungi/Metadata/metadata-files/PRJEB35665-metadata.qza\n",
      "Saved SRAMetadata to: /Users/svenst/Documents/qiime2-wrkdir/global-gutfungi/Metadata/metadata-files/PRJEB37810-metadata.qza\n",
      "Saved SRAFailedIDs to: /Users/svenst/Documents/qiime2-wrkdir/global-gutfungi/Metadata/metadata-files/PRJEB37810-failed-IDs.qza\n",
      "Imported PRJEB37810 metadata to /Users/svenst/Documents/qiime2-wrkdir/global-gutfungi/Metadata/metadata-files/PRJEB37810-metadata.qza\n",
      "Saved SRAMetadata to: /Users/svenst/Documents/qiime2-wrkdir/global-gutfungi/Metadata/metadata-files/PRJEB37883-metadata.qza\n",
      "Saved SRAFailedIDs to: /Users/svenst/Documents/qiime2-wrkdir/global-gutfungi/Metadata/metadata-files/PRJEB37883-failed-IDs.qza\n",
      "Imported PRJEB37883 metadata to /Users/svenst/Documents/qiime2-wrkdir/global-gutfungi/Metadata/metadata-files/PRJEB37883-metadata.qza\n",
      "Saved SRAMetadata to: /Users/svenst/Documents/qiime2-wrkdir/global-gutfungi/Metadata/metadata-files/PRJEB38917-metadata.qza\n",
      "Saved SRAFailedIDs to: /Users/svenst/Documents/qiime2-wrkdir/global-gutfungi/Metadata/metadata-files/PRJEB38917-failed-IDs.qza\n",
      "Imported PRJEB38917 metadata to /Users/svenst/Documents/qiime2-wrkdir/global-gutfungi/Metadata/metadata-files/PRJEB38917-metadata.qza\n",
      "Saved SRAMetadata to: /Users/svenst/Documents/qiime2-wrkdir/global-gutfungi/Metadata/metadata-files/PRJEB38930-metadata.qza\n",
      "Saved SRAFailedIDs to: /Users/svenst/Documents/qiime2-wrkdir/global-gutfungi/Metadata/metadata-files/PRJEB38930-failed-IDs.qza\n",
      "Imported PRJEB38930 metadata to /Users/svenst/Documents/qiime2-wrkdir/global-gutfungi/Metadata/metadata-files/PRJEB38930-metadata.qza\n",
      "Saved SRAMetadata to: /Users/svenst/Documents/qiime2-wrkdir/global-gutfungi/Metadata/metadata-files/PRJEB42375-metadata.qza\n",
      "Saved SRAFailedIDs to: /Users/svenst/Documents/qiime2-wrkdir/global-gutfungi/Metadata/metadata-files/PRJEB42375-failed-IDs.qza\n",
      "Imported PRJEB42375 metadata to /Users/svenst/Documents/qiime2-wrkdir/global-gutfungi/Metadata/metadata-files/PRJEB42375-metadata.qza\n",
      "Saved SRAMetadata to: /Users/svenst/Documents/qiime2-wrkdir/global-gutfungi/Metadata/metadata-files/PRJEB42596-metadata.qza\n",
      "Saved SRAFailedIDs to: /Users/svenst/Documents/qiime2-wrkdir/global-gutfungi/Metadata/metadata-files/PRJEB42596-failed-IDs.qza\n",
      "Imported PRJEB42596 metadata to /Users/svenst/Documents/qiime2-wrkdir/global-gutfungi/Metadata/metadata-files/PRJEB42596-metadata.qza\n",
      "Saved SRAMetadata to: /Users/svenst/Documents/qiime2-wrkdir/global-gutfungi/Metadata/metadata-files/PRJEB46343-metadata.qza\n",
      "Saved SRAFailedIDs to: /Users/svenst/Documents/qiime2-wrkdir/global-gutfungi/Metadata/metadata-files/PRJEB46343-failed-IDs.qza\n",
      "Imported PRJEB46343 metadata to /Users/svenst/Documents/qiime2-wrkdir/global-gutfungi/Metadata/metadata-files/PRJEB46343-metadata.qza\n",
      "Saved SRAMetadata to: /Users/svenst/Documents/qiime2-wrkdir/global-gutfungi/Metadata/metadata-files/PRJEB50185-metadata.qza\n",
      "Saved SRAFailedIDs to: /Users/svenst/Documents/qiime2-wrkdir/global-gutfungi/Metadata/metadata-files/PRJEB50185-failed-IDs.qza\n",
      "Imported PRJEB50185 metadata to /Users/svenst/Documents/qiime2-wrkdir/global-gutfungi/Metadata/metadata-files/PRJEB50185-metadata.qza\n",
      "Saved SRAMetadata to: /Users/svenst/Documents/qiime2-wrkdir/global-gutfungi/Metadata/metadata-files/PRJEB50377-metadata.qza\n",
      "Saved SRAFailedIDs to: /Users/svenst/Documents/qiime2-wrkdir/global-gutfungi/Metadata/metadata-files/PRJEB50377-failed-IDs.qza\n",
      "Imported PRJEB50377 metadata to /Users/svenst/Documents/qiime2-wrkdir/global-gutfungi/Metadata/metadata-files/PRJEB50377-metadata.qza\n",
      "Saved SRAMetadata to: /Users/svenst/Documents/qiime2-wrkdir/global-gutfungi/Metadata/metadata-files/PRJEB53019-metadata.qza\n",
      "Saved SRAFailedIDs to: /Users/svenst/Documents/qiime2-wrkdir/global-gutfungi/Metadata/metadata-files/PRJEB53019-failed-IDs.qza\n",
      "Imported PRJEB53019 metadata to /Users/svenst/Documents/qiime2-wrkdir/global-gutfungi/Metadata/metadata-files/PRJEB53019-metadata.qza\n",
      "Saved SRAMetadata to: /Users/svenst/Documents/qiime2-wrkdir/global-gutfungi/Metadata/metadata-files/PRJEB59212-metadata.qza\n",
      "Saved SRAFailedIDs to: /Users/svenst/Documents/qiime2-wrkdir/global-gutfungi/Metadata/metadata-files/PRJEB59212-failed-IDs.qza\n",
      "Imported PRJEB59212 metadata to /Users/svenst/Documents/qiime2-wrkdir/global-gutfungi/Metadata/metadata-files/PRJEB59212-metadata.qza\n",
      "Saved SRAMetadata to: /Users/svenst/Documents/qiime2-wrkdir/global-gutfungi/Metadata/metadata-files/PRJEB61825-metadata.qza\n",
      "Saved SRAFailedIDs to: /Users/svenst/Documents/qiime2-wrkdir/global-gutfungi/Metadata/metadata-files/PRJEB61825-failed-IDs.qza\n",
      "Imported PRJEB61825 metadata to /Users/svenst/Documents/qiime2-wrkdir/global-gutfungi/Metadata/metadata-files/PRJEB61825-metadata.qza\n",
      "Saved SRAMetadata to: /Users/svenst/Documents/qiime2-wrkdir/global-gutfungi/Metadata/metadata-files/PRJNA271113-metadata.qza\n",
      "Saved SRAFailedIDs to: /Users/svenst/Documents/qiime2-wrkdir/global-gutfungi/Metadata/metadata-files/PRJNA271113-failed-IDs.qza\n",
      "Imported PRJNA271113 metadata to /Users/svenst/Documents/qiime2-wrkdir/global-gutfungi/Metadata/metadata-files/PRJNA271113-metadata.qza\n",
      "Saved SRAMetadata to: /Users/svenst/Documents/qiime2-wrkdir/global-gutfungi/Metadata/metadata-files/PRJNA356769-metadata.qza\n",
      "Saved SRAFailedIDs to: /Users/svenst/Documents/qiime2-wrkdir/global-gutfungi/Metadata/metadata-files/PRJNA356769-failed-IDs.qza\n",
      "Imported PRJNA356769 metadata to /Users/svenst/Documents/qiime2-wrkdir/global-gutfungi/Metadata/metadata-files/PRJNA356769-metadata.qza\n",
      "Saved SRAMetadata to: /Users/svenst/Documents/qiime2-wrkdir/global-gutfungi/Metadata/metadata-files/PRJNA379437-metadata.qza\n",
      "Saved SRAFailedIDs to: /Users/svenst/Documents/qiime2-wrkdir/global-gutfungi/Metadata/metadata-files/PRJNA379437-failed-IDs.qza\n",
      "Imported PRJNA379437 metadata to /Users/svenst/Documents/qiime2-wrkdir/global-gutfungi/Metadata/metadata-files/PRJNA379437-metadata.qza\n",
      "Saved SRAMetadata to: /Users/svenst/Documents/qiime2-wrkdir/global-gutfungi/Metadata/metadata-files/PRJNA419104-metadata.qza\n",
      "Saved SRAFailedIDs to: /Users/svenst/Documents/qiime2-wrkdir/global-gutfungi/Metadata/metadata-files/PRJNA419104-failed-IDs.qza\n",
      "Imported PRJNA419104 metadata to /Users/svenst/Documents/qiime2-wrkdir/global-gutfungi/Metadata/metadata-files/PRJNA419104-metadata.qza\n",
      "Saved SRAMetadata to: /Users/svenst/Documents/qiime2-wrkdir/global-gutfungi/Metadata/metadata-files/PRJNA478949-metadata.qza\n",
      "Saved SRAFailedIDs to: /Users/svenst/Documents/qiime2-wrkdir/global-gutfungi/Metadata/metadata-files/PRJNA478949-failed-IDs.qza\n",
      "Imported PRJNA478949 metadata to /Users/svenst/Documents/qiime2-wrkdir/global-gutfungi/Metadata/metadata-files/PRJNA478949-metadata.qza\n",
      "Saved SRAMetadata to: /Users/svenst/Documents/qiime2-wrkdir/global-gutfungi/Metadata/metadata-files/PRJNA517994-metadata.qza\n",
      "Saved SRAFailedIDs to: /Users/svenst/Documents/qiime2-wrkdir/global-gutfungi/Metadata/metadata-files/PRJNA517994-failed-IDs.qza\n",
      "Imported PRJNA517994 metadata to /Users/svenst/Documents/qiime2-wrkdir/global-gutfungi/Metadata/metadata-files/PRJNA517994-metadata.qza\n",
      "Saved SRAMetadata to: /Users/svenst/Documents/qiime2-wrkdir/global-gutfungi/Metadata/metadata-files/PRJNA517994-metadata.qza\n",
      "Saved SRAFailedIDs to: /Users/svenst/Documents/qiime2-wrkdir/global-gutfungi/Metadata/metadata-files/PRJNA517994-failed-IDs.qza\n",
      "Imported PRJNA517994 metadata to /Users/svenst/Documents/qiime2-wrkdir/global-gutfungi/Metadata/metadata-files/PRJNA517994-metadata.qza\n",
      "Saved SRAMetadata to: /Users/svenst/Documents/qiime2-wrkdir/global-gutfungi/Metadata/metadata-files/PRJNA541490-metadata.qza\n",
      "Saved SRAFailedIDs to: /Users/svenst/Documents/qiime2-wrkdir/global-gutfungi/Metadata/metadata-files/PRJNA541490-failed-IDs.qza\n",
      "Imported PRJNA541490 metadata to /Users/svenst/Documents/qiime2-wrkdir/global-gutfungi/Metadata/metadata-files/PRJNA541490-metadata.qza\n",
      "Saved SRAMetadata to: /Users/svenst/Documents/qiime2-wrkdir/global-gutfungi/Metadata/metadata-files/PRJNA557226-metadata.qza\n",
      "Saved SRAFailedIDs to: /Users/svenst/Documents/qiime2-wrkdir/global-gutfungi/Metadata/metadata-files/PRJNA557226-failed-IDs.qza\n",
      "Imported PRJNA557226 metadata to /Users/svenst/Documents/qiime2-wrkdir/global-gutfungi/Metadata/metadata-files/PRJNA557226-metadata.qza\n",
      "Saved SRAMetadata to: /Users/svenst/Documents/qiime2-wrkdir/global-gutfungi/Metadata/metadata-files/PRJNA565097-metadata.qza\n",
      "Saved SRAFailedIDs to: /Users/svenst/Documents/qiime2-wrkdir/global-gutfungi/Metadata/metadata-files/PRJNA565097-failed-IDs.qza\n",
      "Imported PRJNA565097 metadata to /Users/svenst/Documents/qiime2-wrkdir/global-gutfungi/Metadata/metadata-files/PRJNA565097-metadata.qza\n",
      "Saved SRAMetadata to: /Users/svenst/Documents/qiime2-wrkdir/global-gutfungi/Metadata/metadata-files/PRJNA579121-metadata.qza\n",
      "Saved SRAFailedIDs to: /Users/svenst/Documents/qiime2-wrkdir/global-gutfungi/Metadata/metadata-files/PRJNA579121-failed-IDs.qza\n",
      "Imported PRJNA579121 metadata to /Users/svenst/Documents/qiime2-wrkdir/global-gutfungi/Metadata/metadata-files/PRJNA579121-metadata.qza\n",
      "Saved SRAMetadata to: /Users/svenst/Documents/qiime2-wrkdir/global-gutfungi/Metadata/metadata-files/PRJNA579284-metadata.qza\n",
      "Saved SRAFailedIDs to: /Users/svenst/Documents/qiime2-wrkdir/global-gutfungi/Metadata/metadata-files/PRJNA579284-failed-IDs.qza\n",
      "Imported PRJNA579284 metadata to /Users/svenst/Documents/qiime2-wrkdir/global-gutfungi/Metadata/metadata-files/PRJNA579284-metadata.qza\n",
      "Saved SRAMetadata to: /Users/svenst/Documents/qiime2-wrkdir/global-gutfungi/Metadata/metadata-files/PRJNA589500-metadata.qza\n",
      "Saved SRAFailedIDs to: /Users/svenst/Documents/qiime2-wrkdir/global-gutfungi/Metadata/metadata-files/PRJNA589500-failed-IDs.qza\n",
      "Imported PRJNA589500 metadata to /Users/svenst/Documents/qiime2-wrkdir/global-gutfungi/Metadata/metadata-files/PRJNA589500-metadata.qza\n",
      "Saved SRAMetadata to: /Users/svenst/Documents/qiime2-wrkdir/global-gutfungi/Metadata/metadata-files/PRJNA590898-metadata.qza\n",
      "Saved SRAFailedIDs to: /Users/svenst/Documents/qiime2-wrkdir/global-gutfungi/Metadata/metadata-files/PRJNA590898-failed-IDs.qza\n",
      "Imported PRJNA590898 metadata to /Users/svenst/Documents/qiime2-wrkdir/global-gutfungi/Metadata/metadata-files/PRJNA590898-metadata.qza\n",
      "Saved SRAMetadata to: /Users/svenst/Documents/qiime2-wrkdir/global-gutfungi/Metadata/metadata-files/PRJNA607176-metadata.qza\n",
      "Saved SRAFailedIDs to: /Users/svenst/Documents/qiime2-wrkdir/global-gutfungi/Metadata/metadata-files/PRJNA607176-failed-IDs.qza\n",
      "Imported PRJNA607176 metadata to /Users/svenst/Documents/qiime2-wrkdir/global-gutfungi/Metadata/metadata-files/PRJNA607176-metadata.qza\n",
      "Saved SRAMetadata to: /Users/svenst/Documents/qiime2-wrkdir/global-gutfungi/Metadata/metadata-files/PRJNA627184-metadata.qza\n",
      "Saved SRAFailedIDs to: /Users/svenst/Documents/qiime2-wrkdir/global-gutfungi/Metadata/metadata-files/PRJNA627184-failed-IDs.qza\n",
      "Imported PRJNA627184 metadata to /Users/svenst/Documents/qiime2-wrkdir/global-gutfungi/Metadata/metadata-files/PRJNA627184-metadata.qza\n",
      "Saved SRAMetadata to: /Users/svenst/Documents/qiime2-wrkdir/global-gutfungi/Metadata/metadata-files/PRJNA637034-metadata.qza\n",
      "Saved SRAFailedIDs to: /Users/svenst/Documents/qiime2-wrkdir/global-gutfungi/Metadata/metadata-files/PRJNA637034-failed-IDs.qza\n",
      "Imported PRJNA637034 metadata to /Users/svenst/Documents/qiime2-wrkdir/global-gutfungi/Metadata/metadata-files/PRJNA637034-metadata.qza\n",
      "Saved SRAMetadata to: /Users/svenst/Documents/qiime2-wrkdir/global-gutfungi/Metadata/metadata-files/PRJNA647266-metadata.qza\n",
      "Saved SRAFailedIDs to: /Users/svenst/Documents/qiime2-wrkdir/global-gutfungi/Metadata/metadata-files/PRJNA647266-failed-IDs.qza\n",
      "Imported PRJNA647266 metadata to /Users/svenst/Documents/qiime2-wrkdir/global-gutfungi/Metadata/metadata-files/PRJNA647266-metadata.qza\n",
      "Saved SRAMetadata to: /Users/svenst/Documents/qiime2-wrkdir/global-gutfungi/Metadata/metadata-files/PRJNA655569-metadata.qza\n",
      "Saved SRAFailedIDs to: /Users/svenst/Documents/qiime2-wrkdir/global-gutfungi/Metadata/metadata-files/PRJNA655569-failed-IDs.qza\n",
      "Imported PRJNA655569 metadata to /Users/svenst/Documents/qiime2-wrkdir/global-gutfungi/Metadata/metadata-files/PRJNA655569-metadata.qza\n",
      "Saved SRAMetadata to: /Users/svenst/Documents/qiime2-wrkdir/global-gutfungi/Metadata/metadata-files/PRJNA662173-metadata.qza\n",
      "Saved SRAFailedIDs to: /Users/svenst/Documents/qiime2-wrkdir/global-gutfungi/Metadata/metadata-files/PRJNA662173-failed-IDs.qza\n",
      "Imported PRJNA662173 metadata to /Users/svenst/Documents/qiime2-wrkdir/global-gutfungi/Metadata/metadata-files/PRJNA662173-metadata.qza\n",
      "Saved SRAMetadata to: /Users/svenst/Documents/qiime2-wrkdir/global-gutfungi/Metadata/metadata-files/PRJNA668386-metadata.qza\n",
      "Saved SRAFailedIDs to: /Users/svenst/Documents/qiime2-wrkdir/global-gutfungi/Metadata/metadata-files/PRJNA668386-failed-IDs.qza\n",
      "Imported PRJNA668386 metadata to /Users/svenst/Documents/qiime2-wrkdir/global-gutfungi/Metadata/metadata-files/PRJNA668386-metadata.qza\n",
      "Saved SRAMetadata to: /Users/svenst/Documents/qiime2-wrkdir/global-gutfungi/Metadata/metadata-files/PRJNA668745-metadata.qza\n",
      "Saved SRAFailedIDs to: /Users/svenst/Documents/qiime2-wrkdir/global-gutfungi/Metadata/metadata-files/PRJNA668745-failed-IDs.qza\n",
      "Imported PRJNA668745 metadata to /Users/svenst/Documents/qiime2-wrkdir/global-gutfungi/Metadata/metadata-files/PRJNA668745-metadata.qza\n",
      "Saved SRAMetadata to: /Users/svenst/Documents/qiime2-wrkdir/global-gutfungi/Metadata/metadata-files/PRJNA670323-metadata.qza\n",
      "Saved SRAFailedIDs to: /Users/svenst/Documents/qiime2-wrkdir/global-gutfungi/Metadata/metadata-files/PRJNA670323-failed-IDs.qza\n",
      "Imported PRJNA670323 metadata to /Users/svenst/Documents/qiime2-wrkdir/global-gutfungi/Metadata/metadata-files/PRJNA670323-metadata.qza\n",
      "Saved SRAMetadata to: /Users/svenst/Documents/qiime2-wrkdir/global-gutfungi/Metadata/metadata-files/PRJNA676148-metadata.qza\n",
      "Saved SRAFailedIDs to: /Users/svenst/Documents/qiime2-wrkdir/global-gutfungi/Metadata/metadata-files/PRJNA676148-failed-IDs.qza\n",
      "Imported PRJNA676148 metadata to /Users/svenst/Documents/qiime2-wrkdir/global-gutfungi/Metadata/metadata-files/PRJNA676148-metadata.qza\n",
      "Saved SRAMetadata to: /Users/svenst/Documents/qiime2-wrkdir/global-gutfungi/Metadata/metadata-files/PRJNA686661-metadata.qza\n",
      "Saved SRAFailedIDs to: /Users/svenst/Documents/qiime2-wrkdir/global-gutfungi/Metadata/metadata-files/PRJNA686661-failed-IDs.qza\n",
      "Imported PRJNA686661 metadata to /Users/svenst/Documents/qiime2-wrkdir/global-gutfungi/Metadata/metadata-files/PRJNA686661-metadata.qza\n",
      "Saved SRAMetadata to: /Users/svenst/Documents/qiime2-wrkdir/global-gutfungi/Metadata/metadata-files/PRJNA692358-metadata.qza\n",
      "Saved SRAFailedIDs to: /Users/svenst/Documents/qiime2-wrkdir/global-gutfungi/Metadata/metadata-files/PRJNA692358-failed-IDs.qza\n",
      "Imported PRJNA692358 metadata to /Users/svenst/Documents/qiime2-wrkdir/global-gutfungi/Metadata/metadata-files/PRJNA692358-metadata.qza\n",
      "Saved SRAMetadata to: /Users/svenst/Documents/qiime2-wrkdir/global-gutfungi/Metadata/metadata-files/PRJNA698272-metadata.qza\n",
      "Saved SRAFailedIDs to: /Users/svenst/Documents/qiime2-wrkdir/global-gutfungi/Metadata/metadata-files/PRJNA698272-failed-IDs.qza\n",
      "Imported PRJNA698272 metadata to /Users/svenst/Documents/qiime2-wrkdir/global-gutfungi/Metadata/metadata-files/PRJNA698272-metadata.qza\n",
      "Saved SRAMetadata to: /Users/svenst/Documents/qiime2-wrkdir/global-gutfungi/Metadata/metadata-files/PRJNA703732-metadata.qza\n",
      "Saved SRAFailedIDs to: /Users/svenst/Documents/qiime2-wrkdir/global-gutfungi/Metadata/metadata-files/PRJNA703732-failed-IDs.qza\n",
      "Imported PRJNA703732 metadata to /Users/svenst/Documents/qiime2-wrkdir/global-gutfungi/Metadata/metadata-files/PRJNA703732-metadata.qza\n",
      "Saved SRAMetadata to: /Users/svenst/Documents/qiime2-wrkdir/global-gutfungi/Metadata/metadata-files/PRJNA715947-metadata.qza\n",
      "Saved SRAFailedIDs to: /Users/svenst/Documents/qiime2-wrkdir/global-gutfungi/Metadata/metadata-files/PRJNA715947-failed-IDs.qza\n",
      "Imported PRJNA715947 metadata to /Users/svenst/Documents/qiime2-wrkdir/global-gutfungi/Metadata/metadata-files/PRJNA715947-metadata.qza\n",
      "Saved SRAMetadata to: /Users/svenst/Documents/qiime2-wrkdir/global-gutfungi/Metadata/metadata-files/PRJNA735021-metadata.qza\n",
      "Saved SRAFailedIDs to: /Users/svenst/Documents/qiime2-wrkdir/global-gutfungi/Metadata/metadata-files/PRJNA735021-failed-IDs.qza\n",
      "Imported PRJNA735021 metadata to /Users/svenst/Documents/qiime2-wrkdir/global-gutfungi/Metadata/metadata-files/PRJNA735021-metadata.qza\n",
      "Saved SRAMetadata to: /Users/svenst/Documents/qiime2-wrkdir/global-gutfungi/Metadata/metadata-files/PRJNA746305-metadata.qza\n",
      "Saved SRAFailedIDs to: /Users/svenst/Documents/qiime2-wrkdir/global-gutfungi/Metadata/metadata-files/PRJNA746305-failed-IDs.qza\n",
      "Imported PRJNA746305 metadata to /Users/svenst/Documents/qiime2-wrkdir/global-gutfungi/Metadata/metadata-files/PRJNA746305-metadata.qza\n",
      "Saved SRAMetadata to: /Users/svenst/Documents/qiime2-wrkdir/global-gutfungi/Metadata/metadata-files/PRJNA746557-metadata.qza\n",
      "Saved SRAFailedIDs to: /Users/svenst/Documents/qiime2-wrkdir/global-gutfungi/Metadata/metadata-files/PRJNA746557-failed-IDs.qza\n",
      "Imported PRJNA746557 metadata to /Users/svenst/Documents/qiime2-wrkdir/global-gutfungi/Metadata/metadata-files/PRJNA746557-metadata.qza\n",
      "Saved SRAMetadata to: /Users/svenst/Documents/qiime2-wrkdir/global-gutfungi/Metadata/metadata-files/PRJNA751473-metadata.qza\n",
      "Saved SRAFailedIDs to: /Users/svenst/Documents/qiime2-wrkdir/global-gutfungi/Metadata/metadata-files/PRJNA751473-failed-IDs.qza\n",
      "Imported PRJNA751473 metadata to /Users/svenst/Documents/qiime2-wrkdir/global-gutfungi/Metadata/metadata-files/PRJNA751473-metadata.qza\n",
      "Saved SRAMetadata to: /Users/svenst/Documents/qiime2-wrkdir/global-gutfungi/Metadata/metadata-files/PRJNA756382-metadata.qza\n",
      "Saved SRAFailedIDs to: /Users/svenst/Documents/qiime2-wrkdir/global-gutfungi/Metadata/metadata-files/PRJNA756382-failed-IDs.qza\n",
      "Imported PRJNA756382 metadata to /Users/svenst/Documents/qiime2-wrkdir/global-gutfungi/Metadata/metadata-files/PRJNA756382-metadata.qza\n",
      "Saved SRAMetadata to: /Users/svenst/Documents/qiime2-wrkdir/global-gutfungi/Metadata/metadata-files/PRJNA778607-metadata.qza\n",
      "Saved SRAFailedIDs to: /Users/svenst/Documents/qiime2-wrkdir/global-gutfungi/Metadata/metadata-files/PRJNA778607-failed-IDs.qza\n",
      "Imported PRJNA778607 metadata to /Users/svenst/Documents/qiime2-wrkdir/global-gutfungi/Metadata/metadata-files/PRJNA778607-metadata.qza\n",
      "Saved SRAMetadata to: /Users/svenst/Documents/qiime2-wrkdir/global-gutfungi/Metadata/metadata-files/PRJNA791216-metadata.qza\n",
      "Saved SRAFailedIDs to: /Users/svenst/Documents/qiime2-wrkdir/global-gutfungi/Metadata/metadata-files/PRJNA791216-failed-IDs.qza\n",
      "Imported PRJNA791216 metadata to /Users/svenst/Documents/qiime2-wrkdir/global-gutfungi/Metadata/metadata-files/PRJNA791216-metadata.qza\n",
      "Saved SRAMetadata to: /Users/svenst/Documents/qiime2-wrkdir/global-gutfungi/Metadata/metadata-files/PRJNA794154-metadata.qza\n",
      "Saved SRAFailedIDs to: /Users/svenst/Documents/qiime2-wrkdir/global-gutfungi/Metadata/metadata-files/PRJNA794154-failed-IDs.qza\n",
      "Imported PRJNA794154 metadata to /Users/svenst/Documents/qiime2-wrkdir/global-gutfungi/Metadata/metadata-files/PRJNA794154-metadata.qza\n",
      "Saved SRAMetadata to: /Users/svenst/Documents/qiime2-wrkdir/global-gutfungi/Metadata/metadata-files/PRJNA813503-metadata.qza\n",
      "Saved SRAFailedIDs to: /Users/svenst/Documents/qiime2-wrkdir/global-gutfungi/Metadata/metadata-files/PRJNA813503-failed-IDs.qza\n",
      "Imported PRJNA813503 metadata to /Users/svenst/Documents/qiime2-wrkdir/global-gutfungi/Metadata/metadata-files/PRJNA813503-metadata.qza\n",
      "Saved SRAMetadata to: /Users/svenst/Documents/qiime2-wrkdir/global-gutfungi/Metadata/metadata-files/PRJNA814728-metadata.qza\n",
      "Saved SRAFailedIDs to: /Users/svenst/Documents/qiime2-wrkdir/global-gutfungi/Metadata/metadata-files/PRJNA814728-failed-IDs.qza\n",
      "Imported PRJNA814728 metadata to /Users/svenst/Documents/qiime2-wrkdir/global-gutfungi/Metadata/metadata-files/PRJNA814728-metadata.qza\n",
      "Saved SRAMetadata to: /Users/svenst/Documents/qiime2-wrkdir/global-gutfungi/Metadata/metadata-files/PRJNA833950-metadata.qza\n",
      "Saved SRAFailedIDs to: /Users/svenst/Documents/qiime2-wrkdir/global-gutfungi/Metadata/metadata-files/PRJNA833950-failed-IDs.qza\n",
      "Imported PRJNA833950 metadata to /Users/svenst/Documents/qiime2-wrkdir/global-gutfungi/Metadata/metadata-files/PRJNA833950-metadata.qza\n",
      "Saved SRAMetadata to: /Users/svenst/Documents/qiime2-wrkdir/global-gutfungi/Metadata/metadata-files/PRJNA834584-metadata.qza\n",
      "Saved SRAFailedIDs to: /Users/svenst/Documents/qiime2-wrkdir/global-gutfungi/Metadata/metadata-files/PRJNA834584-failed-IDs.qza\n",
      "Imported PRJNA834584 metadata to /Users/svenst/Documents/qiime2-wrkdir/global-gutfungi/Metadata/metadata-files/PRJNA834584-metadata.qza\n",
      "Saved SRAMetadata to: /Users/svenst/Documents/qiime2-wrkdir/global-gutfungi/Metadata/metadata-files/PRJNA850895-metadata.qza\n",
      "Saved SRAFailedIDs to: /Users/svenst/Documents/qiime2-wrkdir/global-gutfungi/Metadata/metadata-files/PRJNA850895-failed-IDs.qza\n",
      "Imported PRJNA850895 metadata to /Users/svenst/Documents/qiime2-wrkdir/global-gutfungi/Metadata/metadata-files/PRJNA850895-metadata.qza\n",
      "Saved SRAMetadata to: /Users/svenst/Documents/qiime2-wrkdir/global-gutfungi/Metadata/metadata-files/PRJNA935155-metadata.qza\n",
      "Saved SRAFailedIDs to: /Users/svenst/Documents/qiime2-wrkdir/global-gutfungi/Metadata/metadata-files/PRJNA935155-failed-IDs.qza\n",
      "Imported PRJNA935155 metadata to /Users/svenst/Documents/qiime2-wrkdir/global-gutfungi/Metadata/metadata-files/PRJNA935155-metadata.qza\n",
      "Saved SRAMetadata to: /Users/svenst/Documents/qiime2-wrkdir/global-gutfungi/Metadata/metadata-files/PRJNA987148-metadata.qza\n",
      "Saved SRAFailedIDs to: /Users/svenst/Documents/qiime2-wrkdir/global-gutfungi/Metadata/metadata-files/PRJNA987148-failed-IDs.qza\n",
      "Imported PRJNA987148 metadata to /Users/svenst/Documents/qiime2-wrkdir/global-gutfungi/Metadata/metadata-files/PRJNA987148-metadata.qza\n",
      "Process completed.\n"
     ]
    }
   ],
   "source": [
    "for project in project_ids:\n",
    "    input_qza = f'/Users/svenst/Documents/qiime2-wrkdir/global-gutfungi/Metadata/accession-ids/{project}-ids.qza'\n",
    "\n",
    "    if os.path.isfile(input_qza):\n",
    "        # Path for the exported file\n",
    "        output_metadata = f'/Users/svenst/Documents/qiime2-wrkdir/global-gutfungi/Metadata/metadata-files/{project}-metadata.qza'\n",
    "        output_failed_ids = f'/Users/svenst/Documents/qiime2-wrkdir/global-gutfungi/Metadata/metadata-files/{project}-failed-IDs.qza'\n",
    "        \n",
    "        # QIIME 2 command to export the metadata.qza file to a tsv file\n",
    "        accession_cmd = [\n",
    "            'qiime',\n",
    "            'fondue',\n",
    "            'get-metadata',\n",
    "            '--i-accession-ids', input_qza,\n",
    "            '--p-n-jobs', '1',\n",
    "            '--p-email', 'sven.stoltenberg@hest.ethz.ch',\n",
    "            '--o-metadata', output_metadata,\n",
    "            '--o-failed-runs', output_failed_ids\n",
    "        ]\n",
    "        subprocess.run(accession_cmd, check=True)\n",
    "        print(f\"Imported {project} metadata to {output_metadata}\")\n",
    "    else:\n",
    "        print(f\"Accession IDs File for {project} does not exist.\")\n",
    "\n",
    "print(\"Process completed.\")"
   ]
  },
  {
   "cell_type": "code",
   "execution_count": 4,
   "metadata": {},
   "outputs": [
    {
     "name": "stdout",
     "output_type": "stream",
     "text": [
      "Failed IDs file for CNP0002114 does not exist.\n",
      "Exported /Users/svenst/Documents/qiime2-wrkdir/global-gutfungi/Metadata/metadata-files/AGP-paper_29795809-failed-IDs.qza as SRAFailedIDsDirFmt to directory /Users/svenst/Documents/qiime2-wrkdir/global-gutfungi/Metadata/metadata-files/AGP-paper_29795809-failed-IDs.tsv\n",
      "Exported failed IDs for AGP-paper_29795809 to /Users/svenst/Documents/qiime2-wrkdir/global-gutfungi/Metadata/metadata-files/AGP-paper_29795809-failed-IDs.tsv\n",
      "Failed IDs file for scfa-paper_34234185 does not exist.\n",
      "Failed IDs file for crohns-paper_37122605 does not exist.\n",
      "Failed IDs file for autism-paper_35966698 does not exist.\n",
      "Failed IDs file for PRJCA010668 does not exist.\n",
      "Exported /Users/svenst/Documents/qiime2-wrkdir/global-gutfungi/Metadata/metadata-files/PRJDB13192-failed-IDs.qza as SRAFailedIDsDirFmt to directory /Users/svenst/Documents/qiime2-wrkdir/global-gutfungi/Metadata/metadata-files/PRJDB13192-failed-IDs.tsv\n",
      "Exported failed IDs for PRJDB13192 to /Users/svenst/Documents/qiime2-wrkdir/global-gutfungi/Metadata/metadata-files/PRJDB13192-failed-IDs.tsv\n",
      "Exported /Users/svenst/Documents/qiime2-wrkdir/global-gutfungi/Metadata/metadata-files/PRJDB5316-failed-IDs.qza as SRAFailedIDsDirFmt to directory /Users/svenst/Documents/qiime2-wrkdir/global-gutfungi/Metadata/metadata-files/PRJDB5316-failed-IDs.tsv\n",
      "Exported failed IDs for PRJDB5316 to /Users/svenst/Documents/qiime2-wrkdir/global-gutfungi/Metadata/metadata-files/PRJDB5316-failed-IDs.tsv\n",
      "Exported /Users/svenst/Documents/qiime2-wrkdir/global-gutfungi/Metadata/metadata-files/PRJEB25916-failed-IDs.qza as SRAFailedIDsDirFmt to directory /Users/svenst/Documents/qiime2-wrkdir/global-gutfungi/Metadata/metadata-files/PRJEB25916-failed-IDs.tsv\n",
      "Exported failed IDs for PRJEB25916 to /Users/svenst/Documents/qiime2-wrkdir/global-gutfungi/Metadata/metadata-files/PRJEB25916-failed-IDs.tsv\n",
      "Exported /Users/svenst/Documents/qiime2-wrkdir/global-gutfungi/Metadata/metadata-files/PRJEB29083-failed-IDs.qza as SRAFailedIDsDirFmt to directory /Users/svenst/Documents/qiime2-wrkdir/global-gutfungi/Metadata/metadata-files/PRJEB29083-failed-IDs.tsv\n",
      "Exported failed IDs for PRJEB29083 to /Users/svenst/Documents/qiime2-wrkdir/global-gutfungi/Metadata/metadata-files/PRJEB29083-failed-IDs.tsv\n",
      "Exported /Users/svenst/Documents/qiime2-wrkdir/global-gutfungi/Metadata/metadata-files/PRJEB33756-failed-IDs.qza as SRAFailedIDsDirFmt to directory /Users/svenst/Documents/qiime2-wrkdir/global-gutfungi/Metadata/metadata-files/PRJEB33756-failed-IDs.tsv\n",
      "Exported failed IDs for PRJEB33756 to /Users/svenst/Documents/qiime2-wrkdir/global-gutfungi/Metadata/metadata-files/PRJEB33756-failed-IDs.tsv\n",
      "Exported /Users/svenst/Documents/qiime2-wrkdir/global-gutfungi/Metadata/metadata-files/PRJEB34790-failed-IDs.qza as SRAFailedIDsDirFmt to directory /Users/svenst/Documents/qiime2-wrkdir/global-gutfungi/Metadata/metadata-files/PRJEB34790-failed-IDs.tsv\n",
      "Exported failed IDs for PRJEB34790 to /Users/svenst/Documents/qiime2-wrkdir/global-gutfungi/Metadata/metadata-files/PRJEB34790-failed-IDs.tsv\n",
      "Exported /Users/svenst/Documents/qiime2-wrkdir/global-gutfungi/Metadata/metadata-files/PRJEB35665-failed-IDs.qza as SRAFailedIDsDirFmt to directory /Users/svenst/Documents/qiime2-wrkdir/global-gutfungi/Metadata/metadata-files/PRJEB35665-failed-IDs.tsv\n",
      "Exported failed IDs for PRJEB35665 to /Users/svenst/Documents/qiime2-wrkdir/global-gutfungi/Metadata/metadata-files/PRJEB35665-failed-IDs.tsv\n",
      "Exported /Users/svenst/Documents/qiime2-wrkdir/global-gutfungi/Metadata/metadata-files/PRJEB37810-failed-IDs.qza as SRAFailedIDsDirFmt to directory /Users/svenst/Documents/qiime2-wrkdir/global-gutfungi/Metadata/metadata-files/PRJEB37810-failed-IDs.tsv\n",
      "Exported failed IDs for PRJEB37810 to /Users/svenst/Documents/qiime2-wrkdir/global-gutfungi/Metadata/metadata-files/PRJEB37810-failed-IDs.tsv\n",
      "Exported /Users/svenst/Documents/qiime2-wrkdir/global-gutfungi/Metadata/metadata-files/PRJEB38917-failed-IDs.qza as SRAFailedIDsDirFmt to directory /Users/svenst/Documents/qiime2-wrkdir/global-gutfungi/Metadata/metadata-files/PRJEB38917-failed-IDs.tsv\n",
      "Exported failed IDs for PRJEB38917 to /Users/svenst/Documents/qiime2-wrkdir/global-gutfungi/Metadata/metadata-files/PRJEB38917-failed-IDs.tsv\n",
      "Exported /Users/svenst/Documents/qiime2-wrkdir/global-gutfungi/Metadata/metadata-files/PRJEB38930-failed-IDs.qza as SRAFailedIDsDirFmt to directory /Users/svenst/Documents/qiime2-wrkdir/global-gutfungi/Metadata/metadata-files/PRJEB38930-failed-IDs.tsv\n",
      "Exported failed IDs for PRJEB38930 to /Users/svenst/Documents/qiime2-wrkdir/global-gutfungi/Metadata/metadata-files/PRJEB38930-failed-IDs.tsv\n",
      "Exported /Users/svenst/Documents/qiime2-wrkdir/global-gutfungi/Metadata/metadata-files/PRJEB42375-failed-IDs.qza as SRAFailedIDsDirFmt to directory /Users/svenst/Documents/qiime2-wrkdir/global-gutfungi/Metadata/metadata-files/PRJEB42375-failed-IDs.tsv\n",
      "Exported failed IDs for PRJEB42375 to /Users/svenst/Documents/qiime2-wrkdir/global-gutfungi/Metadata/metadata-files/PRJEB42375-failed-IDs.tsv\n",
      "Exported /Users/svenst/Documents/qiime2-wrkdir/global-gutfungi/Metadata/metadata-files/PRJEB42596-failed-IDs.qza as SRAFailedIDsDirFmt to directory /Users/svenst/Documents/qiime2-wrkdir/global-gutfungi/Metadata/metadata-files/PRJEB42596-failed-IDs.tsv\n",
      "Exported failed IDs for PRJEB42596 to /Users/svenst/Documents/qiime2-wrkdir/global-gutfungi/Metadata/metadata-files/PRJEB42596-failed-IDs.tsv\n",
      "Exported /Users/svenst/Documents/qiime2-wrkdir/global-gutfungi/Metadata/metadata-files/PRJEB46343-failed-IDs.qza as SRAFailedIDsDirFmt to directory /Users/svenst/Documents/qiime2-wrkdir/global-gutfungi/Metadata/metadata-files/PRJEB46343-failed-IDs.tsv\n",
      "Exported failed IDs for PRJEB46343 to /Users/svenst/Documents/qiime2-wrkdir/global-gutfungi/Metadata/metadata-files/PRJEB46343-failed-IDs.tsv\n",
      "Exported /Users/svenst/Documents/qiime2-wrkdir/global-gutfungi/Metadata/metadata-files/PRJEB50185-failed-IDs.qza as SRAFailedIDsDirFmt to directory /Users/svenst/Documents/qiime2-wrkdir/global-gutfungi/Metadata/metadata-files/PRJEB50185-failed-IDs.tsv\n",
      "Exported failed IDs for PRJEB50185 to /Users/svenst/Documents/qiime2-wrkdir/global-gutfungi/Metadata/metadata-files/PRJEB50185-failed-IDs.tsv\n",
      "Exported /Users/svenst/Documents/qiime2-wrkdir/global-gutfungi/Metadata/metadata-files/PRJEB50377-failed-IDs.qza as SRAFailedIDsDirFmt to directory /Users/svenst/Documents/qiime2-wrkdir/global-gutfungi/Metadata/metadata-files/PRJEB50377-failed-IDs.tsv\n",
      "Exported failed IDs for PRJEB50377 to /Users/svenst/Documents/qiime2-wrkdir/global-gutfungi/Metadata/metadata-files/PRJEB50377-failed-IDs.tsv\n",
      "Exported /Users/svenst/Documents/qiime2-wrkdir/global-gutfungi/Metadata/metadata-files/PRJEB53019-failed-IDs.qza as SRAFailedIDsDirFmt to directory /Users/svenst/Documents/qiime2-wrkdir/global-gutfungi/Metadata/metadata-files/PRJEB53019-failed-IDs.tsv\n",
      "Exported failed IDs for PRJEB53019 to /Users/svenst/Documents/qiime2-wrkdir/global-gutfungi/Metadata/metadata-files/PRJEB53019-failed-IDs.tsv\n",
      "Exported /Users/svenst/Documents/qiime2-wrkdir/global-gutfungi/Metadata/metadata-files/PRJEB59212-failed-IDs.qza as SRAFailedIDsDirFmt to directory /Users/svenst/Documents/qiime2-wrkdir/global-gutfungi/Metadata/metadata-files/PRJEB59212-failed-IDs.tsv\n",
      "Exported failed IDs for PRJEB59212 to /Users/svenst/Documents/qiime2-wrkdir/global-gutfungi/Metadata/metadata-files/PRJEB59212-failed-IDs.tsv\n",
      "Exported /Users/svenst/Documents/qiime2-wrkdir/global-gutfungi/Metadata/metadata-files/PRJEB61825-failed-IDs.qza as SRAFailedIDsDirFmt to directory /Users/svenst/Documents/qiime2-wrkdir/global-gutfungi/Metadata/metadata-files/PRJEB61825-failed-IDs.tsv\n",
      "Exported failed IDs for PRJEB61825 to /Users/svenst/Documents/qiime2-wrkdir/global-gutfungi/Metadata/metadata-files/PRJEB61825-failed-IDs.tsv\n",
      "Exported /Users/svenst/Documents/qiime2-wrkdir/global-gutfungi/Metadata/metadata-files/PRJNA271113-failed-IDs.qza as SRAFailedIDsDirFmt to directory /Users/svenst/Documents/qiime2-wrkdir/global-gutfungi/Metadata/metadata-files/PRJNA271113-failed-IDs.tsv\n",
      "Exported failed IDs for PRJNA271113 to /Users/svenst/Documents/qiime2-wrkdir/global-gutfungi/Metadata/metadata-files/PRJNA271113-failed-IDs.tsv\n",
      "Exported /Users/svenst/Documents/qiime2-wrkdir/global-gutfungi/Metadata/metadata-files/PRJNA356769-failed-IDs.qza as SRAFailedIDsDirFmt to directory /Users/svenst/Documents/qiime2-wrkdir/global-gutfungi/Metadata/metadata-files/PRJNA356769-failed-IDs.tsv\n",
      "Exported failed IDs for PRJNA356769 to /Users/svenst/Documents/qiime2-wrkdir/global-gutfungi/Metadata/metadata-files/PRJNA356769-failed-IDs.tsv\n",
      "Exported /Users/svenst/Documents/qiime2-wrkdir/global-gutfungi/Metadata/metadata-files/PRJNA379437-failed-IDs.qza as SRAFailedIDsDirFmt to directory /Users/svenst/Documents/qiime2-wrkdir/global-gutfungi/Metadata/metadata-files/PRJNA379437-failed-IDs.tsv\n",
      "Exported failed IDs for PRJNA379437 to /Users/svenst/Documents/qiime2-wrkdir/global-gutfungi/Metadata/metadata-files/PRJNA379437-failed-IDs.tsv\n",
      "Exported /Users/svenst/Documents/qiime2-wrkdir/global-gutfungi/Metadata/metadata-files/PRJNA419104-failed-IDs.qza as SRAFailedIDsDirFmt to directory /Users/svenst/Documents/qiime2-wrkdir/global-gutfungi/Metadata/metadata-files/PRJNA419104-failed-IDs.tsv\n",
      "Exported failed IDs for PRJNA419104 to /Users/svenst/Documents/qiime2-wrkdir/global-gutfungi/Metadata/metadata-files/PRJNA419104-failed-IDs.tsv\n",
      "Exported /Users/svenst/Documents/qiime2-wrkdir/global-gutfungi/Metadata/metadata-files/PRJNA478949-failed-IDs.qza as SRAFailedIDsDirFmt to directory /Users/svenst/Documents/qiime2-wrkdir/global-gutfungi/Metadata/metadata-files/PRJNA478949-failed-IDs.tsv\n",
      "Exported failed IDs for PRJNA478949 to /Users/svenst/Documents/qiime2-wrkdir/global-gutfungi/Metadata/metadata-files/PRJNA478949-failed-IDs.tsv\n",
      "Exported /Users/svenst/Documents/qiime2-wrkdir/global-gutfungi/Metadata/metadata-files/PRJNA517994-failed-IDs.qza as SRAFailedIDsDirFmt to directory /Users/svenst/Documents/qiime2-wrkdir/global-gutfungi/Metadata/metadata-files/PRJNA517994-failed-IDs.tsv\n",
      "Exported failed IDs for PRJNA517994 to /Users/svenst/Documents/qiime2-wrkdir/global-gutfungi/Metadata/metadata-files/PRJNA517994-failed-IDs.tsv\n",
      "Exported /Users/svenst/Documents/qiime2-wrkdir/global-gutfungi/Metadata/metadata-files/PRJNA541490-failed-IDs.qza as SRAFailedIDsDirFmt to directory /Users/svenst/Documents/qiime2-wrkdir/global-gutfungi/Metadata/metadata-files/PRJNA541490-failed-IDs.tsv\n",
      "Exported failed IDs for PRJNA541490 to /Users/svenst/Documents/qiime2-wrkdir/global-gutfungi/Metadata/metadata-files/PRJNA541490-failed-IDs.tsv\n",
      "Exported /Users/svenst/Documents/qiime2-wrkdir/global-gutfungi/Metadata/metadata-files/PRJNA557226-failed-IDs.qza as SRAFailedIDsDirFmt to directory /Users/svenst/Documents/qiime2-wrkdir/global-gutfungi/Metadata/metadata-files/PRJNA557226-failed-IDs.tsv\n",
      "Exported failed IDs for PRJNA557226 to /Users/svenst/Documents/qiime2-wrkdir/global-gutfungi/Metadata/metadata-files/PRJNA557226-failed-IDs.tsv\n",
      "Exported /Users/svenst/Documents/qiime2-wrkdir/global-gutfungi/Metadata/metadata-files/PRJNA565097-failed-IDs.qza as SRAFailedIDsDirFmt to directory /Users/svenst/Documents/qiime2-wrkdir/global-gutfungi/Metadata/metadata-files/PRJNA565097-failed-IDs.tsv\n",
      "Exported failed IDs for PRJNA565097 to /Users/svenst/Documents/qiime2-wrkdir/global-gutfungi/Metadata/metadata-files/PRJNA565097-failed-IDs.tsv\n",
      "Exported /Users/svenst/Documents/qiime2-wrkdir/global-gutfungi/Metadata/metadata-files/PRJNA579121-failed-IDs.qza as SRAFailedIDsDirFmt to directory /Users/svenst/Documents/qiime2-wrkdir/global-gutfungi/Metadata/metadata-files/PRJNA579121-failed-IDs.tsv\n",
      "Exported failed IDs for PRJNA579121 to /Users/svenst/Documents/qiime2-wrkdir/global-gutfungi/Metadata/metadata-files/PRJNA579121-failed-IDs.tsv\n",
      "Exported /Users/svenst/Documents/qiime2-wrkdir/global-gutfungi/Metadata/metadata-files/PRJNA579284-failed-IDs.qza as SRAFailedIDsDirFmt to directory /Users/svenst/Documents/qiime2-wrkdir/global-gutfungi/Metadata/metadata-files/PRJNA579284-failed-IDs.tsv\n",
      "Exported failed IDs for PRJNA579284 to /Users/svenst/Documents/qiime2-wrkdir/global-gutfungi/Metadata/metadata-files/PRJNA579284-failed-IDs.tsv\n",
      "Exported /Users/svenst/Documents/qiime2-wrkdir/global-gutfungi/Metadata/metadata-files/PRJNA589500-failed-IDs.qza as SRAFailedIDsDirFmt to directory /Users/svenst/Documents/qiime2-wrkdir/global-gutfungi/Metadata/metadata-files/PRJNA589500-failed-IDs.tsv\n",
      "Exported failed IDs for PRJNA589500 to /Users/svenst/Documents/qiime2-wrkdir/global-gutfungi/Metadata/metadata-files/PRJNA589500-failed-IDs.tsv\n",
      "Exported /Users/svenst/Documents/qiime2-wrkdir/global-gutfungi/Metadata/metadata-files/PRJNA590898-failed-IDs.qza as SRAFailedIDsDirFmt to directory /Users/svenst/Documents/qiime2-wrkdir/global-gutfungi/Metadata/metadata-files/PRJNA590898-failed-IDs.tsv\n",
      "Exported failed IDs for PRJNA590898 to /Users/svenst/Documents/qiime2-wrkdir/global-gutfungi/Metadata/metadata-files/PRJNA590898-failed-IDs.tsv\n",
      "Exported /Users/svenst/Documents/qiime2-wrkdir/global-gutfungi/Metadata/metadata-files/PRJNA607176-failed-IDs.qza as SRAFailedIDsDirFmt to directory /Users/svenst/Documents/qiime2-wrkdir/global-gutfungi/Metadata/metadata-files/PRJNA607176-failed-IDs.tsv\n",
      "Exported failed IDs for PRJNA607176 to /Users/svenst/Documents/qiime2-wrkdir/global-gutfungi/Metadata/metadata-files/PRJNA607176-failed-IDs.tsv\n",
      "Exported /Users/svenst/Documents/qiime2-wrkdir/global-gutfungi/Metadata/metadata-files/PRJNA627184-failed-IDs.qza as SRAFailedIDsDirFmt to directory /Users/svenst/Documents/qiime2-wrkdir/global-gutfungi/Metadata/metadata-files/PRJNA627184-failed-IDs.tsv\n",
      "Exported failed IDs for PRJNA627184 to /Users/svenst/Documents/qiime2-wrkdir/global-gutfungi/Metadata/metadata-files/PRJNA627184-failed-IDs.tsv\n",
      "Exported /Users/svenst/Documents/qiime2-wrkdir/global-gutfungi/Metadata/metadata-files/PRJNA637034-failed-IDs.qza as SRAFailedIDsDirFmt to directory /Users/svenst/Documents/qiime2-wrkdir/global-gutfungi/Metadata/metadata-files/PRJNA637034-failed-IDs.tsv\n",
      "Exported failed IDs for PRJNA637034 to /Users/svenst/Documents/qiime2-wrkdir/global-gutfungi/Metadata/metadata-files/PRJNA637034-failed-IDs.tsv\n",
      "Exported /Users/svenst/Documents/qiime2-wrkdir/global-gutfungi/Metadata/metadata-files/PRJNA647266-failed-IDs.qza as SRAFailedIDsDirFmt to directory /Users/svenst/Documents/qiime2-wrkdir/global-gutfungi/Metadata/metadata-files/PRJNA647266-failed-IDs.tsv\n",
      "Exported failed IDs for PRJNA647266 to /Users/svenst/Documents/qiime2-wrkdir/global-gutfungi/Metadata/metadata-files/PRJNA647266-failed-IDs.tsv\n",
      "Exported /Users/svenst/Documents/qiime2-wrkdir/global-gutfungi/Metadata/metadata-files/PRJNA655569-failed-IDs.qza as SRAFailedIDsDirFmt to directory /Users/svenst/Documents/qiime2-wrkdir/global-gutfungi/Metadata/metadata-files/PRJNA655569-failed-IDs.tsv\n",
      "Exported failed IDs for PRJNA655569 to /Users/svenst/Documents/qiime2-wrkdir/global-gutfungi/Metadata/metadata-files/PRJNA655569-failed-IDs.tsv\n",
      "Exported /Users/svenst/Documents/qiime2-wrkdir/global-gutfungi/Metadata/metadata-files/PRJNA662173-failed-IDs.qza as SRAFailedIDsDirFmt to directory /Users/svenst/Documents/qiime2-wrkdir/global-gutfungi/Metadata/metadata-files/PRJNA662173-failed-IDs.tsv\n",
      "Exported failed IDs for PRJNA662173 to /Users/svenst/Documents/qiime2-wrkdir/global-gutfungi/Metadata/metadata-files/PRJNA662173-failed-IDs.tsv\n",
      "Exported /Users/svenst/Documents/qiime2-wrkdir/global-gutfungi/Metadata/metadata-files/PRJNA668386-failed-IDs.qza as SRAFailedIDsDirFmt to directory /Users/svenst/Documents/qiime2-wrkdir/global-gutfungi/Metadata/metadata-files/PRJNA668386-failed-IDs.tsv\n",
      "Exported failed IDs for PRJNA668386 to /Users/svenst/Documents/qiime2-wrkdir/global-gutfungi/Metadata/metadata-files/PRJNA668386-failed-IDs.tsv\n",
      "Exported /Users/svenst/Documents/qiime2-wrkdir/global-gutfungi/Metadata/metadata-files/PRJNA668745-failed-IDs.qza as SRAFailedIDsDirFmt to directory /Users/svenst/Documents/qiime2-wrkdir/global-gutfungi/Metadata/metadata-files/PRJNA668745-failed-IDs.tsv\n",
      "Exported failed IDs for PRJNA668745 to /Users/svenst/Documents/qiime2-wrkdir/global-gutfungi/Metadata/metadata-files/PRJNA668745-failed-IDs.tsv\n",
      "Exported /Users/svenst/Documents/qiime2-wrkdir/global-gutfungi/Metadata/metadata-files/PRJNA670323-failed-IDs.qza as SRAFailedIDsDirFmt to directory /Users/svenst/Documents/qiime2-wrkdir/global-gutfungi/Metadata/metadata-files/PRJNA670323-failed-IDs.tsv\n",
      "Exported failed IDs for PRJNA670323 to /Users/svenst/Documents/qiime2-wrkdir/global-gutfungi/Metadata/metadata-files/PRJNA670323-failed-IDs.tsv\n",
      "Exported /Users/svenst/Documents/qiime2-wrkdir/global-gutfungi/Metadata/metadata-files/PRJNA676148-failed-IDs.qza as SRAFailedIDsDirFmt to directory /Users/svenst/Documents/qiime2-wrkdir/global-gutfungi/Metadata/metadata-files/PRJNA676148-failed-IDs.tsv\n",
      "Exported failed IDs for PRJNA676148 to /Users/svenst/Documents/qiime2-wrkdir/global-gutfungi/Metadata/metadata-files/PRJNA676148-failed-IDs.tsv\n",
      "Exported /Users/svenst/Documents/qiime2-wrkdir/global-gutfungi/Metadata/metadata-files/PRJNA686661-failed-IDs.qza as SRAFailedIDsDirFmt to directory /Users/svenst/Documents/qiime2-wrkdir/global-gutfungi/Metadata/metadata-files/PRJNA686661-failed-IDs.tsv\n",
      "Exported failed IDs for PRJNA686661 to /Users/svenst/Documents/qiime2-wrkdir/global-gutfungi/Metadata/metadata-files/PRJNA686661-failed-IDs.tsv\n",
      "Exported /Users/svenst/Documents/qiime2-wrkdir/global-gutfungi/Metadata/metadata-files/PRJNA692358-failed-IDs.qza as SRAFailedIDsDirFmt to directory /Users/svenst/Documents/qiime2-wrkdir/global-gutfungi/Metadata/metadata-files/PRJNA692358-failed-IDs.tsv\n",
      "Exported failed IDs for PRJNA692358 to /Users/svenst/Documents/qiime2-wrkdir/global-gutfungi/Metadata/metadata-files/PRJNA692358-failed-IDs.tsv\n",
      "Exported /Users/svenst/Documents/qiime2-wrkdir/global-gutfungi/Metadata/metadata-files/PRJNA698272-failed-IDs.qza as SRAFailedIDsDirFmt to directory /Users/svenst/Documents/qiime2-wrkdir/global-gutfungi/Metadata/metadata-files/PRJNA698272-failed-IDs.tsv\n",
      "Exported failed IDs for PRJNA698272 to /Users/svenst/Documents/qiime2-wrkdir/global-gutfungi/Metadata/metadata-files/PRJNA698272-failed-IDs.tsv\n",
      "Exported /Users/svenst/Documents/qiime2-wrkdir/global-gutfungi/Metadata/metadata-files/PRJNA703732-failed-IDs.qza as SRAFailedIDsDirFmt to directory /Users/svenst/Documents/qiime2-wrkdir/global-gutfungi/Metadata/metadata-files/PRJNA703732-failed-IDs.tsv\n",
      "Exported failed IDs for PRJNA703732 to /Users/svenst/Documents/qiime2-wrkdir/global-gutfungi/Metadata/metadata-files/PRJNA703732-failed-IDs.tsv\n",
      "Exported /Users/svenst/Documents/qiime2-wrkdir/global-gutfungi/Metadata/metadata-files/PRJNA715947-failed-IDs.qza as SRAFailedIDsDirFmt to directory /Users/svenst/Documents/qiime2-wrkdir/global-gutfungi/Metadata/metadata-files/PRJNA715947-failed-IDs.tsv\n",
      "Exported failed IDs for PRJNA715947 to /Users/svenst/Documents/qiime2-wrkdir/global-gutfungi/Metadata/metadata-files/PRJNA715947-failed-IDs.tsv\n",
      "Exported /Users/svenst/Documents/qiime2-wrkdir/global-gutfungi/Metadata/metadata-files/PRJNA735021-failed-IDs.qza as SRAFailedIDsDirFmt to directory /Users/svenst/Documents/qiime2-wrkdir/global-gutfungi/Metadata/metadata-files/PRJNA735021-failed-IDs.tsv\n",
      "Exported failed IDs for PRJNA735021 to /Users/svenst/Documents/qiime2-wrkdir/global-gutfungi/Metadata/metadata-files/PRJNA735021-failed-IDs.tsv\n",
      "Exported /Users/svenst/Documents/qiime2-wrkdir/global-gutfungi/Metadata/metadata-files/PRJNA746305-failed-IDs.qza as SRAFailedIDsDirFmt to directory /Users/svenst/Documents/qiime2-wrkdir/global-gutfungi/Metadata/metadata-files/PRJNA746305-failed-IDs.tsv\n",
      "Exported failed IDs for PRJNA746305 to /Users/svenst/Documents/qiime2-wrkdir/global-gutfungi/Metadata/metadata-files/PRJNA746305-failed-IDs.tsv\n",
      "Exported /Users/svenst/Documents/qiime2-wrkdir/global-gutfungi/Metadata/metadata-files/PRJNA746557-failed-IDs.qza as SRAFailedIDsDirFmt to directory /Users/svenst/Documents/qiime2-wrkdir/global-gutfungi/Metadata/metadata-files/PRJNA746557-failed-IDs.tsv\n",
      "Exported failed IDs for PRJNA746557 to /Users/svenst/Documents/qiime2-wrkdir/global-gutfungi/Metadata/metadata-files/PRJNA746557-failed-IDs.tsv\n",
      "Exported /Users/svenst/Documents/qiime2-wrkdir/global-gutfungi/Metadata/metadata-files/PRJNA751473-failed-IDs.qza as SRAFailedIDsDirFmt to directory /Users/svenst/Documents/qiime2-wrkdir/global-gutfungi/Metadata/metadata-files/PRJNA751473-failed-IDs.tsv\n",
      "Exported failed IDs for PRJNA751473 to /Users/svenst/Documents/qiime2-wrkdir/global-gutfungi/Metadata/metadata-files/PRJNA751473-failed-IDs.tsv\n",
      "Exported /Users/svenst/Documents/qiime2-wrkdir/global-gutfungi/Metadata/metadata-files/PRJNA756382-failed-IDs.qza as SRAFailedIDsDirFmt to directory /Users/svenst/Documents/qiime2-wrkdir/global-gutfungi/Metadata/metadata-files/PRJNA756382-failed-IDs.tsv\n",
      "Exported failed IDs for PRJNA756382 to /Users/svenst/Documents/qiime2-wrkdir/global-gutfungi/Metadata/metadata-files/PRJNA756382-failed-IDs.tsv\n",
      "Exported /Users/svenst/Documents/qiime2-wrkdir/global-gutfungi/Metadata/metadata-files/PRJNA778607-failed-IDs.qza as SRAFailedIDsDirFmt to directory /Users/svenst/Documents/qiime2-wrkdir/global-gutfungi/Metadata/metadata-files/PRJNA778607-failed-IDs.tsv\n",
      "Exported failed IDs for PRJNA778607 to /Users/svenst/Documents/qiime2-wrkdir/global-gutfungi/Metadata/metadata-files/PRJNA778607-failed-IDs.tsv\n",
      "Exported /Users/svenst/Documents/qiime2-wrkdir/global-gutfungi/Metadata/metadata-files/PRJNA791216-failed-IDs.qza as SRAFailedIDsDirFmt to directory /Users/svenst/Documents/qiime2-wrkdir/global-gutfungi/Metadata/metadata-files/PRJNA791216-failed-IDs.tsv\n",
      "Exported failed IDs for PRJNA791216 to /Users/svenst/Documents/qiime2-wrkdir/global-gutfungi/Metadata/metadata-files/PRJNA791216-failed-IDs.tsv\n",
      "Exported /Users/svenst/Documents/qiime2-wrkdir/global-gutfungi/Metadata/metadata-files/PRJNA794154-failed-IDs.qza as SRAFailedIDsDirFmt to directory /Users/svenst/Documents/qiime2-wrkdir/global-gutfungi/Metadata/metadata-files/PRJNA794154-failed-IDs.tsv\n",
      "Exported failed IDs for PRJNA794154 to /Users/svenst/Documents/qiime2-wrkdir/global-gutfungi/Metadata/metadata-files/PRJNA794154-failed-IDs.tsv\n",
      "Exported /Users/svenst/Documents/qiime2-wrkdir/global-gutfungi/Metadata/metadata-files/PRJNA813503-failed-IDs.qza as SRAFailedIDsDirFmt to directory /Users/svenst/Documents/qiime2-wrkdir/global-gutfungi/Metadata/metadata-files/PRJNA813503-failed-IDs.tsv\n",
      "Exported failed IDs for PRJNA813503 to /Users/svenst/Documents/qiime2-wrkdir/global-gutfungi/Metadata/metadata-files/PRJNA813503-failed-IDs.tsv\n",
      "Exported /Users/svenst/Documents/qiime2-wrkdir/global-gutfungi/Metadata/metadata-files/PRJNA814728-failed-IDs.qza as SRAFailedIDsDirFmt to directory /Users/svenst/Documents/qiime2-wrkdir/global-gutfungi/Metadata/metadata-files/PRJNA814728-failed-IDs.tsv\n",
      "Exported failed IDs for PRJNA814728 to /Users/svenst/Documents/qiime2-wrkdir/global-gutfungi/Metadata/metadata-files/PRJNA814728-failed-IDs.tsv\n",
      "Exported /Users/svenst/Documents/qiime2-wrkdir/global-gutfungi/Metadata/metadata-files/PRJNA833950-failed-IDs.qza as SRAFailedIDsDirFmt to directory /Users/svenst/Documents/qiime2-wrkdir/global-gutfungi/Metadata/metadata-files/PRJNA833950-failed-IDs.tsv\n",
      "Exported failed IDs for PRJNA833950 to /Users/svenst/Documents/qiime2-wrkdir/global-gutfungi/Metadata/metadata-files/PRJNA833950-failed-IDs.tsv\n",
      "Exported /Users/svenst/Documents/qiime2-wrkdir/global-gutfungi/Metadata/metadata-files/PRJNA834584-failed-IDs.qza as SRAFailedIDsDirFmt to directory /Users/svenst/Documents/qiime2-wrkdir/global-gutfungi/Metadata/metadata-files/PRJNA834584-failed-IDs.tsv\n",
      "Exported failed IDs for PRJNA834584 to /Users/svenst/Documents/qiime2-wrkdir/global-gutfungi/Metadata/metadata-files/PRJNA834584-failed-IDs.tsv\n",
      "Exported /Users/svenst/Documents/qiime2-wrkdir/global-gutfungi/Metadata/metadata-files/PRJNA850895-failed-IDs.qza as SRAFailedIDsDirFmt to directory /Users/svenst/Documents/qiime2-wrkdir/global-gutfungi/Metadata/metadata-files/PRJNA850895-failed-IDs.tsv\n",
      "Exported failed IDs for PRJNA850895 to /Users/svenst/Documents/qiime2-wrkdir/global-gutfungi/Metadata/metadata-files/PRJNA850895-failed-IDs.tsv\n",
      "Exported /Users/svenst/Documents/qiime2-wrkdir/global-gutfungi/Metadata/metadata-files/PRJNA935155-failed-IDs.qza as SRAFailedIDsDirFmt to directory /Users/svenst/Documents/qiime2-wrkdir/global-gutfungi/Metadata/metadata-files/PRJNA935155-failed-IDs.tsv\n",
      "Exported failed IDs for PRJNA935155 to /Users/svenst/Documents/qiime2-wrkdir/global-gutfungi/Metadata/metadata-files/PRJNA935155-failed-IDs.tsv\n",
      "Exported /Users/svenst/Documents/qiime2-wrkdir/global-gutfungi/Metadata/metadata-files/PRJNA987148-failed-IDs.qza as SRAFailedIDsDirFmt to directory /Users/svenst/Documents/qiime2-wrkdir/global-gutfungi/Metadata/metadata-files/PRJNA987148-failed-IDs.tsv\n",
      "Exported failed IDs for PRJNA987148 to /Users/svenst/Documents/qiime2-wrkdir/global-gutfungi/Metadata/metadata-files/PRJNA987148-failed-IDs.tsv\n",
      "Failed IDs export process completed.\n"
     ]
    }
   ],
   "source": [
    "import subprocess\n",
    "\n",
    "# Loop through each project ID and handle the failed-IDs.qza\n",
    "for project in project_ids:\n",
    "    failed_ids_qza = f'/Users/svenst/Documents/qiime2-wrkdir/global-gutfungi/Metadata/metadata-files/{project}-failed-IDs.qza'\n",
    "    output_failed_ids_tsv = f'/Users/svenst/Documents/qiime2-wrkdir/global-gutfungi/Metadata/metadata-files/{project}-failed-IDs.tsv'\n",
    "    \n",
    "    if os.path.isfile(failed_ids_qza):\n",
    "        # Command to export QZA to TSV\n",
    "        export_cmd = [\n",
    "            'qiime',\n",
    "            'tools',\n",
    "            'export',\n",
    "            '--input-path', failed_ids_qza,\n",
    "            '--output-path', output_failed_ids_tsv  # Make sure this path is to a directory, not a file\n",
    "        ]\n",
    "        subprocess.run(export_cmd, check=True)\n",
    "        print(f\"Exported failed IDs for {project} to {output_failed_ids_tsv}\")\n",
    "    else:\n",
    "        print(f\"Failed IDs file for {project} does not exist.\")\n",
    "\n",
    "print(\"Failed IDs export process completed.\")\n"
   ]
  },
  {
   "cell_type": "markdown",
   "metadata": {},
   "source": [
    "### Additional Steps for American Gut Project Paper"
   ]
  },
  {
   "cell_type": "code",
   "execution_count": 14,
   "metadata": {},
   "outputs": [
    {
     "name": "stdout",
     "output_type": "stream",
     "text": [
      "\u001b[32mImported /Volumes/ANTONS/GLOBAL-GUT-FUNGI/Sven-data/final/AGP-paper_29795809/AGP-paper_29795809-ids.tsv as NCBIAccessionIDsDirFmt to /Users/svenst/Documents/qiime2-wrkdir/global-gutfungi/Metadata/accession-ids/AGP-paper_29795809-ids.qza\u001b[0m\n"
     ]
    }
   ],
   "source": [
    "!qiime tools import \\\n",
    "    --type NCBIAccessionIDs \\\n",
    "    --input-path /Volumes/ANTONS/GLOBAL-GUT-FUNGI/Sven-data/final/AGP-paper_29795809/AGP-paper_29795809-ids.tsv \\\n",
    "    --output-path /Users/svenst/Documents/qiime2-wrkdir/global-gutfungi/Metadata/accession-ids/AGP-paper_29795809-ids.qza"
   ]
  },
  {
   "cell_type": "code",
   "execution_count": 15,
   "metadata": {},
   "outputs": [
    {
     "name": "stdout",
     "output_type": "stream",
     "text": [
      "\u001b[32mSaved SRAMetadata to: /Users/svenst/Documents/qiime2-wrkdir/global-gutfungi/Metadata/metadata-files/AGP-paper_29795809-metadata.qza\u001b[0m\n",
      "\u001b[32mSaved SRAFailedIDs to: /Users/svenst/Documents/qiime2-wrkdir/global-gutfungi/Metadata/metadata-files/AGP-paper_29795809-failed-IDs.qza\u001b[0m\n"
     ]
    }
   ],
   "source": [
    "!qiime fondue get-metadata \\\n",
    "    --i-accession-ids /Users/svenst/Documents/qiime2-wrkdir/global-gutfungi/Metadata/accession-ids/AGP-paper_29795809-ids.qza \\\n",
    "    --p-n-jobs 1 \\\n",
    "    --p-email sven.stoltenberg@hest.ethz.ch \\\n",
    "    --o-metadata /Users/svenst/Documents/qiime2-wrkdir/global-gutfungi/Metadata/metadata-files/AGP-paper_29795809-metadata.qza \\\n",
    "    --o-failed-runs /Users/svenst/Documents/qiime2-wrkdir/global-gutfungi/Metadata/metadata-files/AGP-paper_29795809-failed-IDs.qza"
   ]
  },
  {
   "cell_type": "markdown",
   "metadata": {},
   "source": [
    "Now I will export the qza-files to tsv-format so that I can then merge them with all non-SRA metadata files."
   ]
  },
  {
   "cell_type": "code",
   "execution_count": 12,
   "metadata": {},
   "outputs": [
    {
     "name": "stdout",
     "output_type": "stream",
     "text": [
      "QZA-File for CNP0002114 does not exist.\n",
      "QZA-File for AGP-paper_29795809 does not exist.\n",
      "QZA-File for scfa-paper_34234185 does not exist.\n",
      "QZA-File for crohns-paper_37122605 does not exist.\n",
      "QZA-File for autism-paper_35966698 does not exist.\n",
      "QZA-File for PRJCA010668 does not exist.\n",
      "Exported /Users/svenst/Documents/qiime2-wrkdir/global-gutfungi/Metadata/metadata-files/PRJDB13192-metadata.qza as SRAMetadataDirFmt to directory /Users/svenst/Documents/qiime2-wrkdir/global-gutfungi/Metadata/metadata-files/PRJDB13192-metadata\n",
      "Exported PRJDB13192 metadata to /Users/svenst/Documents/qiime2-wrkdir/global-gutfungi/Metadata/metadata-files/PRJDB13192-metadata\n",
      "Exported /Users/svenst/Documents/qiime2-wrkdir/global-gutfungi/Metadata/metadata-files/PRJDB5316-metadata.qza as SRAMetadataDirFmt to directory /Users/svenst/Documents/qiime2-wrkdir/global-gutfungi/Metadata/metadata-files/PRJDB5316-metadata\n",
      "Exported PRJDB5316 metadata to /Users/svenst/Documents/qiime2-wrkdir/global-gutfungi/Metadata/metadata-files/PRJDB5316-metadata\n",
      "Exported /Users/svenst/Documents/qiime2-wrkdir/global-gutfungi/Metadata/metadata-files/PRJEB25916-metadata.qza as SRAMetadataDirFmt to directory /Users/svenst/Documents/qiime2-wrkdir/global-gutfungi/Metadata/metadata-files/PRJEB25916-metadata\n",
      "Exported PRJEB25916 metadata to /Users/svenst/Documents/qiime2-wrkdir/global-gutfungi/Metadata/metadata-files/PRJEB25916-metadata\n",
      "Exported /Users/svenst/Documents/qiime2-wrkdir/global-gutfungi/Metadata/metadata-files/PRJEB29083-metadata.qza as SRAMetadataDirFmt to directory /Users/svenst/Documents/qiime2-wrkdir/global-gutfungi/Metadata/metadata-files/PRJEB29083-metadata\n",
      "Exported PRJEB29083 metadata to /Users/svenst/Documents/qiime2-wrkdir/global-gutfungi/Metadata/metadata-files/PRJEB29083-metadata\n",
      "Exported /Users/svenst/Documents/qiime2-wrkdir/global-gutfungi/Metadata/metadata-files/PRJEB33756-metadata.qza as SRAMetadataDirFmt to directory /Users/svenst/Documents/qiime2-wrkdir/global-gutfungi/Metadata/metadata-files/PRJEB33756-metadata\n",
      "Exported PRJEB33756 metadata to /Users/svenst/Documents/qiime2-wrkdir/global-gutfungi/Metadata/metadata-files/PRJEB33756-metadata\n",
      "Exported /Users/svenst/Documents/qiime2-wrkdir/global-gutfungi/Metadata/metadata-files/PRJEB34790-metadata.qza as SRAMetadataDirFmt to directory /Users/svenst/Documents/qiime2-wrkdir/global-gutfungi/Metadata/metadata-files/PRJEB34790-metadata\n",
      "Exported PRJEB34790 metadata to /Users/svenst/Documents/qiime2-wrkdir/global-gutfungi/Metadata/metadata-files/PRJEB34790-metadata\n",
      "Exported /Users/svenst/Documents/qiime2-wrkdir/global-gutfungi/Metadata/metadata-files/PRJEB35665-metadata.qza as SRAMetadataDirFmt to directory /Users/svenst/Documents/qiime2-wrkdir/global-gutfungi/Metadata/metadata-files/PRJEB35665-metadata\n",
      "Exported PRJEB35665 metadata to /Users/svenst/Documents/qiime2-wrkdir/global-gutfungi/Metadata/metadata-files/PRJEB35665-metadata\n",
      "Exported /Users/svenst/Documents/qiime2-wrkdir/global-gutfungi/Metadata/metadata-files/PRJEB37810-metadata.qza as SRAMetadataDirFmt to directory /Users/svenst/Documents/qiime2-wrkdir/global-gutfungi/Metadata/metadata-files/PRJEB37810-metadata\n",
      "Exported PRJEB37810 metadata to /Users/svenst/Documents/qiime2-wrkdir/global-gutfungi/Metadata/metadata-files/PRJEB37810-metadata\n",
      "Exported /Users/svenst/Documents/qiime2-wrkdir/global-gutfungi/Metadata/metadata-files/PRJEB37883-metadata.qza as SRAMetadataDirFmt to directory /Users/svenst/Documents/qiime2-wrkdir/global-gutfungi/Metadata/metadata-files/PRJEB37883-metadata\n",
      "Exported PRJEB37883 metadata to /Users/svenst/Documents/qiime2-wrkdir/global-gutfungi/Metadata/metadata-files/PRJEB37883-metadata\n",
      "Exported /Users/svenst/Documents/qiime2-wrkdir/global-gutfungi/Metadata/metadata-files/PRJEB38917-metadata.qza as SRAMetadataDirFmt to directory /Users/svenst/Documents/qiime2-wrkdir/global-gutfungi/Metadata/metadata-files/PRJEB38917-metadata\n",
      "Exported PRJEB38917 metadata to /Users/svenst/Documents/qiime2-wrkdir/global-gutfungi/Metadata/metadata-files/PRJEB38917-metadata\n",
      "Exported /Users/svenst/Documents/qiime2-wrkdir/global-gutfungi/Metadata/metadata-files/PRJEB38930-metadata.qza as SRAMetadataDirFmt to directory /Users/svenst/Documents/qiime2-wrkdir/global-gutfungi/Metadata/metadata-files/PRJEB38930-metadata\n",
      "Exported PRJEB38930 metadata to /Users/svenst/Documents/qiime2-wrkdir/global-gutfungi/Metadata/metadata-files/PRJEB38930-metadata\n",
      "Exported /Users/svenst/Documents/qiime2-wrkdir/global-gutfungi/Metadata/metadata-files/PRJEB42375-metadata.qza as SRAMetadataDirFmt to directory /Users/svenst/Documents/qiime2-wrkdir/global-gutfungi/Metadata/metadata-files/PRJEB42375-metadata\n",
      "Exported PRJEB42375 metadata to /Users/svenst/Documents/qiime2-wrkdir/global-gutfungi/Metadata/metadata-files/PRJEB42375-metadata\n",
      "Exported /Users/svenst/Documents/qiime2-wrkdir/global-gutfungi/Metadata/metadata-files/PRJEB42596-metadata.qza as SRAMetadataDirFmt to directory /Users/svenst/Documents/qiime2-wrkdir/global-gutfungi/Metadata/metadata-files/PRJEB42596-metadata\n",
      "Exported PRJEB42596 metadata to /Users/svenst/Documents/qiime2-wrkdir/global-gutfungi/Metadata/metadata-files/PRJEB42596-metadata\n",
      "Exported /Users/svenst/Documents/qiime2-wrkdir/global-gutfungi/Metadata/metadata-files/PRJEB46343-metadata.qza as SRAMetadataDirFmt to directory /Users/svenst/Documents/qiime2-wrkdir/global-gutfungi/Metadata/metadata-files/PRJEB46343-metadata\n",
      "Exported PRJEB46343 metadata to /Users/svenst/Documents/qiime2-wrkdir/global-gutfungi/Metadata/metadata-files/PRJEB46343-metadata\n",
      "Exported /Users/svenst/Documents/qiime2-wrkdir/global-gutfungi/Metadata/metadata-files/PRJEB50185-metadata.qza as SRAMetadataDirFmt to directory /Users/svenst/Documents/qiime2-wrkdir/global-gutfungi/Metadata/metadata-files/PRJEB50185-metadata\n",
      "Exported PRJEB50185 metadata to /Users/svenst/Documents/qiime2-wrkdir/global-gutfungi/Metadata/metadata-files/PRJEB50185-metadata\n",
      "Exported /Users/svenst/Documents/qiime2-wrkdir/global-gutfungi/Metadata/metadata-files/PRJEB50377-metadata.qza as SRAMetadataDirFmt to directory /Users/svenst/Documents/qiime2-wrkdir/global-gutfungi/Metadata/metadata-files/PRJEB50377-metadata\n",
      "Exported PRJEB50377 metadata to /Users/svenst/Documents/qiime2-wrkdir/global-gutfungi/Metadata/metadata-files/PRJEB50377-metadata\n",
      "Exported /Users/svenst/Documents/qiime2-wrkdir/global-gutfungi/Metadata/metadata-files/PRJEB53019-metadata.qza as SRAMetadataDirFmt to directory /Users/svenst/Documents/qiime2-wrkdir/global-gutfungi/Metadata/metadata-files/PRJEB53019-metadata\n",
      "Exported PRJEB53019 metadata to /Users/svenst/Documents/qiime2-wrkdir/global-gutfungi/Metadata/metadata-files/PRJEB53019-metadata\n",
      "Exported /Users/svenst/Documents/qiime2-wrkdir/global-gutfungi/Metadata/metadata-files/PRJEB59212-metadata.qza as SRAMetadataDirFmt to directory /Users/svenst/Documents/qiime2-wrkdir/global-gutfungi/Metadata/metadata-files/PRJEB59212-metadata\n",
      "Exported PRJEB59212 metadata to /Users/svenst/Documents/qiime2-wrkdir/global-gutfungi/Metadata/metadata-files/PRJEB59212-metadata\n",
      "Exported /Users/svenst/Documents/qiime2-wrkdir/global-gutfungi/Metadata/metadata-files/PRJEB61825-metadata.qza as SRAMetadataDirFmt to directory /Users/svenst/Documents/qiime2-wrkdir/global-gutfungi/Metadata/metadata-files/PRJEB61825-metadata\n",
      "Exported PRJEB61825 metadata to /Users/svenst/Documents/qiime2-wrkdir/global-gutfungi/Metadata/metadata-files/PRJEB61825-metadata\n",
      "Exported /Users/svenst/Documents/qiime2-wrkdir/global-gutfungi/Metadata/metadata-files/PRJNA271113-metadata.qza as SRAMetadataDirFmt to directory /Users/svenst/Documents/qiime2-wrkdir/global-gutfungi/Metadata/metadata-files/PRJNA271113-metadata\n",
      "Exported PRJNA271113 metadata to /Users/svenst/Documents/qiime2-wrkdir/global-gutfungi/Metadata/metadata-files/PRJNA271113-metadata\n",
      "Exported /Users/svenst/Documents/qiime2-wrkdir/global-gutfungi/Metadata/metadata-files/PRJNA356769-metadata.qza as SRAMetadataDirFmt to directory /Users/svenst/Documents/qiime2-wrkdir/global-gutfungi/Metadata/metadata-files/PRJNA356769-metadata\n",
      "Exported PRJNA356769 metadata to /Users/svenst/Documents/qiime2-wrkdir/global-gutfungi/Metadata/metadata-files/PRJNA356769-metadata\n",
      "Exported /Users/svenst/Documents/qiime2-wrkdir/global-gutfungi/Metadata/metadata-files/PRJNA379437-metadata.qza as SRAMetadataDirFmt to directory /Users/svenst/Documents/qiime2-wrkdir/global-gutfungi/Metadata/metadata-files/PRJNA379437-metadata\n",
      "Exported PRJNA379437 metadata to /Users/svenst/Documents/qiime2-wrkdir/global-gutfungi/Metadata/metadata-files/PRJNA379437-metadata\n",
      "Exported /Users/svenst/Documents/qiime2-wrkdir/global-gutfungi/Metadata/metadata-files/PRJNA419104-metadata.qza as SRAMetadataDirFmt to directory /Users/svenst/Documents/qiime2-wrkdir/global-gutfungi/Metadata/metadata-files/PRJNA419104-metadata\n",
      "Exported PRJNA419104 metadata to /Users/svenst/Documents/qiime2-wrkdir/global-gutfungi/Metadata/metadata-files/PRJNA419104-metadata\n",
      "Exported /Users/svenst/Documents/qiime2-wrkdir/global-gutfungi/Metadata/metadata-files/PRJNA478949-metadata.qza as SRAMetadataDirFmt to directory /Users/svenst/Documents/qiime2-wrkdir/global-gutfungi/Metadata/metadata-files/PRJNA478949-metadata\n",
      "Exported PRJNA478949 metadata to /Users/svenst/Documents/qiime2-wrkdir/global-gutfungi/Metadata/metadata-files/PRJNA478949-metadata\n",
      "Exported /Users/svenst/Documents/qiime2-wrkdir/global-gutfungi/Metadata/metadata-files/PRJNA517994-metadata.qza as SRAMetadataDirFmt to directory /Users/svenst/Documents/qiime2-wrkdir/global-gutfungi/Metadata/metadata-files/PRJNA517994-metadata\n",
      "Exported PRJNA517994 metadata to /Users/svenst/Documents/qiime2-wrkdir/global-gutfungi/Metadata/metadata-files/PRJNA517994-metadata\n",
      "Exported /Users/svenst/Documents/qiime2-wrkdir/global-gutfungi/Metadata/metadata-files/PRJNA517994-metadata.qza as SRAMetadataDirFmt to directory /Users/svenst/Documents/qiime2-wrkdir/global-gutfungi/Metadata/metadata-files/PRJNA517994-metadata\n",
      "Exported PRJNA517994 metadata to /Users/svenst/Documents/qiime2-wrkdir/global-gutfungi/Metadata/metadata-files/PRJNA517994-metadata\n",
      "Exported /Users/svenst/Documents/qiime2-wrkdir/global-gutfungi/Metadata/metadata-files/PRJNA541490-metadata.qza as SRAMetadataDirFmt to directory /Users/svenst/Documents/qiime2-wrkdir/global-gutfungi/Metadata/metadata-files/PRJNA541490-metadata\n",
      "Exported PRJNA541490 metadata to /Users/svenst/Documents/qiime2-wrkdir/global-gutfungi/Metadata/metadata-files/PRJNA541490-metadata\n",
      "Exported /Users/svenst/Documents/qiime2-wrkdir/global-gutfungi/Metadata/metadata-files/PRJNA557226-metadata.qza as SRAMetadataDirFmt to directory /Users/svenst/Documents/qiime2-wrkdir/global-gutfungi/Metadata/metadata-files/PRJNA557226-metadata\n",
      "Exported PRJNA557226 metadata to /Users/svenst/Documents/qiime2-wrkdir/global-gutfungi/Metadata/metadata-files/PRJNA557226-metadata\n",
      "Exported /Users/svenst/Documents/qiime2-wrkdir/global-gutfungi/Metadata/metadata-files/PRJNA565097-metadata.qza as SRAMetadataDirFmt to directory /Users/svenst/Documents/qiime2-wrkdir/global-gutfungi/Metadata/metadata-files/PRJNA565097-metadata\n",
      "Exported PRJNA565097 metadata to /Users/svenst/Documents/qiime2-wrkdir/global-gutfungi/Metadata/metadata-files/PRJNA565097-metadata\n",
      "Exported /Users/svenst/Documents/qiime2-wrkdir/global-gutfungi/Metadata/metadata-files/PRJNA579121-metadata.qza as SRAMetadataDirFmt to directory /Users/svenst/Documents/qiime2-wrkdir/global-gutfungi/Metadata/metadata-files/PRJNA579121-metadata\n",
      "Exported PRJNA579121 metadata to /Users/svenst/Documents/qiime2-wrkdir/global-gutfungi/Metadata/metadata-files/PRJNA579121-metadata\n",
      "Exported /Users/svenst/Documents/qiime2-wrkdir/global-gutfungi/Metadata/metadata-files/PRJNA579284-metadata.qza as SRAMetadataDirFmt to directory /Users/svenst/Documents/qiime2-wrkdir/global-gutfungi/Metadata/metadata-files/PRJNA579284-metadata\n",
      "Exported PRJNA579284 metadata to /Users/svenst/Documents/qiime2-wrkdir/global-gutfungi/Metadata/metadata-files/PRJNA579284-metadata\n",
      "Exported /Users/svenst/Documents/qiime2-wrkdir/global-gutfungi/Metadata/metadata-files/PRJNA589500-metadata.qza as SRAMetadataDirFmt to directory /Users/svenst/Documents/qiime2-wrkdir/global-gutfungi/Metadata/metadata-files/PRJNA589500-metadata\n",
      "Exported PRJNA589500 metadata to /Users/svenst/Documents/qiime2-wrkdir/global-gutfungi/Metadata/metadata-files/PRJNA589500-metadata\n",
      "Exported /Users/svenst/Documents/qiime2-wrkdir/global-gutfungi/Metadata/metadata-files/PRJNA590898-metadata.qza as SRAMetadataDirFmt to directory /Users/svenst/Documents/qiime2-wrkdir/global-gutfungi/Metadata/metadata-files/PRJNA590898-metadata\n",
      "Exported PRJNA590898 metadata to /Users/svenst/Documents/qiime2-wrkdir/global-gutfungi/Metadata/metadata-files/PRJNA590898-metadata\n",
      "Exported /Users/svenst/Documents/qiime2-wrkdir/global-gutfungi/Metadata/metadata-files/PRJNA607176-metadata.qza as SRAMetadataDirFmt to directory /Users/svenst/Documents/qiime2-wrkdir/global-gutfungi/Metadata/metadata-files/PRJNA607176-metadata\n",
      "Exported PRJNA607176 metadata to /Users/svenst/Documents/qiime2-wrkdir/global-gutfungi/Metadata/metadata-files/PRJNA607176-metadata\n",
      "Exported /Users/svenst/Documents/qiime2-wrkdir/global-gutfungi/Metadata/metadata-files/PRJNA627184-metadata.qza as SRAMetadataDirFmt to directory /Users/svenst/Documents/qiime2-wrkdir/global-gutfungi/Metadata/metadata-files/PRJNA627184-metadata\n",
      "Exported PRJNA627184 metadata to /Users/svenst/Documents/qiime2-wrkdir/global-gutfungi/Metadata/metadata-files/PRJNA627184-metadata\n",
      "Exported /Users/svenst/Documents/qiime2-wrkdir/global-gutfungi/Metadata/metadata-files/PRJNA637034-metadata.qza as SRAMetadataDirFmt to directory /Users/svenst/Documents/qiime2-wrkdir/global-gutfungi/Metadata/metadata-files/PRJNA637034-metadata\n",
      "Exported PRJNA637034 metadata to /Users/svenst/Documents/qiime2-wrkdir/global-gutfungi/Metadata/metadata-files/PRJNA637034-metadata\n",
      "Exported /Users/svenst/Documents/qiime2-wrkdir/global-gutfungi/Metadata/metadata-files/PRJNA647266-metadata.qza as SRAMetadataDirFmt to directory /Users/svenst/Documents/qiime2-wrkdir/global-gutfungi/Metadata/metadata-files/PRJNA647266-metadata\n",
      "Exported PRJNA647266 metadata to /Users/svenst/Documents/qiime2-wrkdir/global-gutfungi/Metadata/metadata-files/PRJNA647266-metadata\n",
      "Exported /Users/svenst/Documents/qiime2-wrkdir/global-gutfungi/Metadata/metadata-files/PRJNA655569-metadata.qza as SRAMetadataDirFmt to directory /Users/svenst/Documents/qiime2-wrkdir/global-gutfungi/Metadata/metadata-files/PRJNA655569-metadata\n",
      "Exported PRJNA655569 metadata to /Users/svenst/Documents/qiime2-wrkdir/global-gutfungi/Metadata/metadata-files/PRJNA655569-metadata\n",
      "Exported /Users/svenst/Documents/qiime2-wrkdir/global-gutfungi/Metadata/metadata-files/PRJNA662173-metadata.qza as SRAMetadataDirFmt to directory /Users/svenst/Documents/qiime2-wrkdir/global-gutfungi/Metadata/metadata-files/PRJNA662173-metadata\n",
      "Exported PRJNA662173 metadata to /Users/svenst/Documents/qiime2-wrkdir/global-gutfungi/Metadata/metadata-files/PRJNA662173-metadata\n",
      "Exported /Users/svenst/Documents/qiime2-wrkdir/global-gutfungi/Metadata/metadata-files/PRJNA668386-metadata.qza as SRAMetadataDirFmt to directory /Users/svenst/Documents/qiime2-wrkdir/global-gutfungi/Metadata/metadata-files/PRJNA668386-metadata\n",
      "Exported PRJNA668386 metadata to /Users/svenst/Documents/qiime2-wrkdir/global-gutfungi/Metadata/metadata-files/PRJNA668386-metadata\n",
      "Exported /Users/svenst/Documents/qiime2-wrkdir/global-gutfungi/Metadata/metadata-files/PRJNA668745-metadata.qza as SRAMetadataDirFmt to directory /Users/svenst/Documents/qiime2-wrkdir/global-gutfungi/Metadata/metadata-files/PRJNA668745-metadata\n",
      "Exported PRJNA668745 metadata to /Users/svenst/Documents/qiime2-wrkdir/global-gutfungi/Metadata/metadata-files/PRJNA668745-metadata\n",
      "Exported /Users/svenst/Documents/qiime2-wrkdir/global-gutfungi/Metadata/metadata-files/PRJNA670323-metadata.qza as SRAMetadataDirFmt to directory /Users/svenst/Documents/qiime2-wrkdir/global-gutfungi/Metadata/metadata-files/PRJNA670323-metadata\n",
      "Exported PRJNA670323 metadata to /Users/svenst/Documents/qiime2-wrkdir/global-gutfungi/Metadata/metadata-files/PRJNA670323-metadata\n",
      "Exported /Users/svenst/Documents/qiime2-wrkdir/global-gutfungi/Metadata/metadata-files/PRJNA676148-metadata.qza as SRAMetadataDirFmt to directory /Users/svenst/Documents/qiime2-wrkdir/global-gutfungi/Metadata/metadata-files/PRJNA676148-metadata\n",
      "Exported PRJNA676148 metadata to /Users/svenst/Documents/qiime2-wrkdir/global-gutfungi/Metadata/metadata-files/PRJNA676148-metadata\n",
      "Exported /Users/svenst/Documents/qiime2-wrkdir/global-gutfungi/Metadata/metadata-files/PRJNA686661-metadata.qza as SRAMetadataDirFmt to directory /Users/svenst/Documents/qiime2-wrkdir/global-gutfungi/Metadata/metadata-files/PRJNA686661-metadata\n",
      "Exported PRJNA686661 metadata to /Users/svenst/Documents/qiime2-wrkdir/global-gutfungi/Metadata/metadata-files/PRJNA686661-metadata\n",
      "Exported /Users/svenst/Documents/qiime2-wrkdir/global-gutfungi/Metadata/metadata-files/PRJNA692358-metadata.qza as SRAMetadataDirFmt to directory /Users/svenst/Documents/qiime2-wrkdir/global-gutfungi/Metadata/metadata-files/PRJNA692358-metadata\n",
      "Exported PRJNA692358 metadata to /Users/svenst/Documents/qiime2-wrkdir/global-gutfungi/Metadata/metadata-files/PRJNA692358-metadata\n",
      "Exported /Users/svenst/Documents/qiime2-wrkdir/global-gutfungi/Metadata/metadata-files/PRJNA698272-metadata.qza as SRAMetadataDirFmt to directory /Users/svenst/Documents/qiime2-wrkdir/global-gutfungi/Metadata/metadata-files/PRJNA698272-metadata\n",
      "Exported PRJNA698272 metadata to /Users/svenst/Documents/qiime2-wrkdir/global-gutfungi/Metadata/metadata-files/PRJNA698272-metadata\n",
      "Exported /Users/svenst/Documents/qiime2-wrkdir/global-gutfungi/Metadata/metadata-files/PRJNA703732-metadata.qza as SRAMetadataDirFmt to directory /Users/svenst/Documents/qiime2-wrkdir/global-gutfungi/Metadata/metadata-files/PRJNA703732-metadata\n",
      "Exported PRJNA703732 metadata to /Users/svenst/Documents/qiime2-wrkdir/global-gutfungi/Metadata/metadata-files/PRJNA703732-metadata\n",
      "Exported /Users/svenst/Documents/qiime2-wrkdir/global-gutfungi/Metadata/metadata-files/PRJNA715947-metadata.qza as SRAMetadataDirFmt to directory /Users/svenst/Documents/qiime2-wrkdir/global-gutfungi/Metadata/metadata-files/PRJNA715947-metadata\n",
      "Exported PRJNA715947 metadata to /Users/svenst/Documents/qiime2-wrkdir/global-gutfungi/Metadata/metadata-files/PRJNA715947-metadata\n",
      "Exported /Users/svenst/Documents/qiime2-wrkdir/global-gutfungi/Metadata/metadata-files/PRJNA735021-metadata.qza as SRAMetadataDirFmt to directory /Users/svenst/Documents/qiime2-wrkdir/global-gutfungi/Metadata/metadata-files/PRJNA735021-metadata\n",
      "Exported PRJNA735021 metadata to /Users/svenst/Documents/qiime2-wrkdir/global-gutfungi/Metadata/metadata-files/PRJNA735021-metadata\n",
      "Exported /Users/svenst/Documents/qiime2-wrkdir/global-gutfungi/Metadata/metadata-files/PRJNA746305-metadata.qza as SRAMetadataDirFmt to directory /Users/svenst/Documents/qiime2-wrkdir/global-gutfungi/Metadata/metadata-files/PRJNA746305-metadata\n",
      "Exported PRJNA746305 metadata to /Users/svenst/Documents/qiime2-wrkdir/global-gutfungi/Metadata/metadata-files/PRJNA746305-metadata\n",
      "Exported /Users/svenst/Documents/qiime2-wrkdir/global-gutfungi/Metadata/metadata-files/PRJNA746557-metadata.qza as SRAMetadataDirFmt to directory /Users/svenst/Documents/qiime2-wrkdir/global-gutfungi/Metadata/metadata-files/PRJNA746557-metadata\n",
      "Exported PRJNA746557 metadata to /Users/svenst/Documents/qiime2-wrkdir/global-gutfungi/Metadata/metadata-files/PRJNA746557-metadata\n",
      "Exported /Users/svenst/Documents/qiime2-wrkdir/global-gutfungi/Metadata/metadata-files/PRJNA751473-metadata.qza as SRAMetadataDirFmt to directory /Users/svenst/Documents/qiime2-wrkdir/global-gutfungi/Metadata/metadata-files/PRJNA751473-metadata\n",
      "Exported PRJNA751473 metadata to /Users/svenst/Documents/qiime2-wrkdir/global-gutfungi/Metadata/metadata-files/PRJNA751473-metadata\n",
      "Exported /Users/svenst/Documents/qiime2-wrkdir/global-gutfungi/Metadata/metadata-files/PRJNA756382-metadata.qza as SRAMetadataDirFmt to directory /Users/svenst/Documents/qiime2-wrkdir/global-gutfungi/Metadata/metadata-files/PRJNA756382-metadata\n",
      "Exported PRJNA756382 metadata to /Users/svenst/Documents/qiime2-wrkdir/global-gutfungi/Metadata/metadata-files/PRJNA756382-metadata\n",
      "Exported /Users/svenst/Documents/qiime2-wrkdir/global-gutfungi/Metadata/metadata-files/PRJNA778607-metadata.qza as SRAMetadataDirFmt to directory /Users/svenst/Documents/qiime2-wrkdir/global-gutfungi/Metadata/metadata-files/PRJNA778607-metadata\n",
      "Exported PRJNA778607 metadata to /Users/svenst/Documents/qiime2-wrkdir/global-gutfungi/Metadata/metadata-files/PRJNA778607-metadata\n",
      "Exported /Users/svenst/Documents/qiime2-wrkdir/global-gutfungi/Metadata/metadata-files/PRJNA791216-metadata.qza as SRAMetadataDirFmt to directory /Users/svenst/Documents/qiime2-wrkdir/global-gutfungi/Metadata/metadata-files/PRJNA791216-metadata\n",
      "Exported PRJNA791216 metadata to /Users/svenst/Documents/qiime2-wrkdir/global-gutfungi/Metadata/metadata-files/PRJNA791216-metadata\n",
      "Exported /Users/svenst/Documents/qiime2-wrkdir/global-gutfungi/Metadata/metadata-files/PRJNA794154-metadata.qza as SRAMetadataDirFmt to directory /Users/svenst/Documents/qiime2-wrkdir/global-gutfungi/Metadata/metadata-files/PRJNA794154-metadata\n",
      "Exported PRJNA794154 metadata to /Users/svenst/Documents/qiime2-wrkdir/global-gutfungi/Metadata/metadata-files/PRJNA794154-metadata\n",
      "Exported /Users/svenst/Documents/qiime2-wrkdir/global-gutfungi/Metadata/metadata-files/PRJNA813503-metadata.qza as SRAMetadataDirFmt to directory /Users/svenst/Documents/qiime2-wrkdir/global-gutfungi/Metadata/metadata-files/PRJNA813503-metadata\n",
      "Exported PRJNA813503 metadata to /Users/svenst/Documents/qiime2-wrkdir/global-gutfungi/Metadata/metadata-files/PRJNA813503-metadata\n",
      "Exported /Users/svenst/Documents/qiime2-wrkdir/global-gutfungi/Metadata/metadata-files/PRJNA814728-metadata.qza as SRAMetadataDirFmt to directory /Users/svenst/Documents/qiime2-wrkdir/global-gutfungi/Metadata/metadata-files/PRJNA814728-metadata\n",
      "Exported PRJNA814728 metadata to /Users/svenst/Documents/qiime2-wrkdir/global-gutfungi/Metadata/metadata-files/PRJNA814728-metadata\n",
      "Exported /Users/svenst/Documents/qiime2-wrkdir/global-gutfungi/Metadata/metadata-files/PRJNA833950-metadata.qza as SRAMetadataDirFmt to directory /Users/svenst/Documents/qiime2-wrkdir/global-gutfungi/Metadata/metadata-files/PRJNA833950-metadata\n",
      "Exported PRJNA833950 metadata to /Users/svenst/Documents/qiime2-wrkdir/global-gutfungi/Metadata/metadata-files/PRJNA833950-metadata\n",
      "Exported /Users/svenst/Documents/qiime2-wrkdir/global-gutfungi/Metadata/metadata-files/PRJNA834584-metadata.qza as SRAMetadataDirFmt to directory /Users/svenst/Documents/qiime2-wrkdir/global-gutfungi/Metadata/metadata-files/PRJNA834584-metadata\n",
      "Exported PRJNA834584 metadata to /Users/svenst/Documents/qiime2-wrkdir/global-gutfungi/Metadata/metadata-files/PRJNA834584-metadata\n",
      "Exported /Users/svenst/Documents/qiime2-wrkdir/global-gutfungi/Metadata/metadata-files/PRJNA850895-metadata.qza as SRAMetadataDirFmt to directory /Users/svenst/Documents/qiime2-wrkdir/global-gutfungi/Metadata/metadata-files/PRJNA850895-metadata\n",
      "Exported PRJNA850895 metadata to /Users/svenst/Documents/qiime2-wrkdir/global-gutfungi/Metadata/metadata-files/PRJNA850895-metadata\n",
      "Exported /Users/svenst/Documents/qiime2-wrkdir/global-gutfungi/Metadata/metadata-files/PRJNA935155-metadata.qza as SRAMetadataDirFmt to directory /Users/svenst/Documents/qiime2-wrkdir/global-gutfungi/Metadata/metadata-files/PRJNA935155-metadata\n",
      "Exported PRJNA935155 metadata to /Users/svenst/Documents/qiime2-wrkdir/global-gutfungi/Metadata/metadata-files/PRJNA935155-metadata\n",
      "Exported /Users/svenst/Documents/qiime2-wrkdir/global-gutfungi/Metadata/metadata-files/PRJNA987148-metadata.qza as SRAMetadataDirFmt to directory /Users/svenst/Documents/qiime2-wrkdir/global-gutfungi/Metadata/metadata-files/PRJNA987148-metadata\n",
      "Exported PRJNA987148 metadata to /Users/svenst/Documents/qiime2-wrkdir/global-gutfungi/Metadata/metadata-files/PRJNA987148-metadata\n"
     ]
    }
   ],
   "source": [
    "for project in project_ids:\n",
    "    metadata_qza = f'/Users/svenst/Documents/qiime2-wrkdir/global-gutfungi/Metadata/metadata-files/{project}-metadata.qza'\n",
    "\n",
    "    if os.path.isfile(metadata_qza):\n",
    "        exported_tsv = f'/Users/svenst/Documents/qiime2-wrkdir/global-gutfungi/Metadata/metadata-files/{project}-metadata'\n",
    "\n",
    "        export_cmd = [\n",
    "            'qiime',\n",
    "            'tools',\n",
    "            'export',\n",
    "            '--input-path', metadata_qza,\n",
    "            '--output-path', exported_tsv\n",
    "        ]\n",
    "        subprocess.run(export_cmd, check=True)\n",
    "        print(f\"Exported {project} metadata to {exported_tsv}\")\n",
    "    else:\n",
    "        print(f\"QZA-File for {project} does not exist.\")"
   ]
  },
  {
   "cell_type": "code",
   "execution_count": 16,
   "metadata": {},
   "outputs": [
    {
     "name": "stdout",
     "output_type": "stream",
     "text": [
      "\u001b[32mExported /Users/svenst/Documents/qiime2-wrkdir/global-gutfungi/Metadata/metadata-files/AGP-paper_29795809-metadata.qza as SRAMetadataDirFmt to directory /Users/svenst/Documents/qiime2-wrkdir/global-gutfungi/Metadata/metadata-files/AGP-paper_29795809-metadata\u001b[0m\n"
     ]
    }
   ],
   "source": [
    "!qiime tools export \\\n",
    "    --input-path /Users/svenst/Documents/qiime2-wrkdir/global-gutfungi/Metadata/metadata-files/AGP-paper_29795809-metadata.qza \\\n",
    "    --output-path /Users/svenst/Documents/qiime2-wrkdir/global-gutfungi/Metadata/metadata-files/AGP-paper_29795809-metadata"
   ]
  },
  {
   "cell_type": "code",
   "execution_count": 25,
   "metadata": {},
   "outputs": [
    {
     "name": "stdout",
     "output_type": "stream",
     "text": [
      "All metadata has been merged and saved to 'combined_metadata.tsv'.\n"
     ]
    }
   ],
   "source": [
    "merged_metadata = []\n",
    "all_columns = set()  # A set to track all columns across files\n",
    "\n",
    "for project in project_ids:\n",
    "    # Load the exported metadata files\n",
    "    path = f'/Users/svenst/Documents/qiime2-wrkdir/global-gutfungi/Metadata/metadata-files/{project}-metadata/sra-metadata.tsv'\n",
    "    df = pd.read_csv(path, sep='\\t', index_col='ID')\n",
    "    \n",
    "    # Add the project ID to each row\n",
    "    df['Bioproject ID'] = project\n",
    "    \n",
    "    # Append the DataFrame to the list\n",
    "    merged_metadata.append(df)\n",
    "\n",
    "# Combine all DataFrames into one, aligning on columns\n",
    "combined_df = pd.concat(merged_metadata, axis=0, join='outer', sort=False)\n",
    "\n",
    "# Save the combined DataFrame to TSV\n",
    "combined_df.to_csv('combined_metadata.tsv', sep='\\t')\n",
    "\n",
    "print(\"All metadata has been merged and saved to 'combined_metadata.tsv'.\")"
   ]
  },
  {
   "cell_type": "markdown",
   "metadata": {},
   "source": [
    "There are still some projects left that need to be excluded. I will exclude all those that are not part of my list."
   ]
  },
  {
   "cell_type": "code",
   "execution_count": 2,
   "metadata": {},
   "outputs": [
    {
     "name": "stderr",
     "output_type": "stream",
     "text": [
      "/var/folders/yt/1j80yxc14_q516h016m97t8c0000gt/T/ipykernel_1187/340135257.py:4: DtypeWarning: Columns (2,3,4,5,6,7,8,9,10,11,16,17,18,19,20,21,22,23,24,25,26,27,28,29,30,31,32,33,34,35,36,37,38,39,40,42,43,44,45,46,47,48,49,50,51,52,53,54,55,56,57,58,59,60,61,62,63,64,65,66,67,68,69,70,71,72,73,74,75,76,77,78,79,80,81,82,83,84,85,86,87,88,89,90,91,92,93,94,95,96,97,98,99,100,101,102,103,104,105,106,107,108,109,110,111,112,113,114,115,116,117,118,119,120,121,122,123,124,125,127,128,129,130,131,132,133,134,135,136,137,138,139,140,141,142,143,144,145,146,147,148,149,151,152,153,154,155,156,157,158,159,160,161,162,163,164,165,166,167,168,169,170,171,172,173,174,175,176,178,179,180,181,182,183,184,185,186,187,188,191,192,193,194,195,196,197,198,199,200,201,202,203,204,205,206,207,208,209,210,211,212,213,214,215,216,217,218,219,220,221,222,223,224,225,226,227,228,229,230,231,232,233,234,235,236,237,238,239,240,241,242,244,245,246,247,248,249,250,251,252,253,254,255,256,257,258,259,260,261,262,263,264,265,266,267,268,269,270,271,272,273,274,275,276,277,278,279,280,281,282,283,284,285,286,287,288,289,290,291,292,293,294,295,296,297,298,299,300,301,302,303,304,305,306,307,308,309,310,311,312,313,314,315,316,317,318,319,320,321,322,323,324,325,326,327,328,329,330,331,332,333,334,335,336,337,338,339,340,341,342,343,344,345,346,347,348,349,350,351,352,353,354,355,356,357,358,359,360,361,362,363,364,365,366,367,368,369,370,371,372,373,374,375,376,377,378,379,380,381,382,383,384,385,386,387,388,389,390,391,392,393,394,395,396,397,398,399,400,401,402,403,404,405,406,407,408,409,410,411,412,413,414,415,416,417,418,419,420,421,422,423,424,425,426,427,428,429,430,431,432,433,434,435,436,437,438,439,440,441,442,443,444,445,446,447,448,449,450,451,452,453,454,455,456,457,458,459,460,461,462,463,464,465,466,467,468,469,470,471,472,473,474,475,476,477,478,479,480,481,482,483,484,485,486,487,488,489,490,491,492,493,494,495,496,497,498,499,500,501,502,503,504,505,506,507,508,509,510,511,512,513,514,515,516,517,518,519,520,521,522,523,524,525,526,527,528,529,530,531,532,533,534,535,536,537,539,541,543,544,545,546,547,548,549,550,551,552,553,554,555,556,557,558,559,560,561,562,563,564,565,566,567,568,569,570,571,572,573,574,575,576,577,578,579,580,581,582,583,584,585,586,587,588,589,590,591,592,593,594,595,596,597,598,599,600,601,602,603,604,605,606,607,608,609,610,611,612,613,614,615,616,617,618,619,620,621,622,623,624,625,626,627,628,629,630,631,632,635,636,637,638,643,644,646,647,648,649,650,654,655,656,657,658,659,664,667,670,674,678,681,682,683,684,686,687,688,689,693,694,695,696,697,698,700,701,702,703,704,705,706,707,710,713,715,717,718,719,720,721,722,723,725,726,727,728,729,730,732,733,734,735,736,737,738,739,740,741,742,743,744,745,747,748,749,750,751,752,753,754,755,756,757,758,759,760,761,762,763,764,765,766,767,768,769,770,771,772,773,774,775,776,777,778,779,780,781,782,783,784,785,786,787,788,789,790,791,792,793,794,795,799,800,801,802,803,804,805,806,807,808,809,810,811,812,813,814,815,816,817,819,821,825,827,828,829,830) have mixed types. Specify dtype option on import or set low_memory=False.\n",
      "  metadata_df = pd.read_csv('/Users/svenst/Documents/qiime2-wrkdir/global-gutfungi/Metadata/combined_metadata.tsv', sep='\\t')\n"
     ]
    }
   ],
   "source": [
    "import pandas as pd\n",
    "\n",
    "# Load the metadata file\n",
    "metadata_df = pd.read_csv('/Users/svenst/Documents/qiime2-wrkdir/global-gutfungi/Metadata/combined_metadata.tsv', sep='\\t')\n",
    "\n",
    "# Load the allowed Bioproject IDs\n",
    "allowed_ids_df = pd.read_csv('/Users/svenst/Documents/qiime2-wrkdir/global-gutfungi/Metadata/final-projects.tsv', sep='\\t', header=None)\n",
    "allowed_ids = set(allowed_ids_df[0])  # Assuming IDs are in the first column\n",
    "\n",
    "# Filter the metadata to include only rows with Bioproject IDs that are in the allowed list\n",
    "filtered_metadata = metadata_df[metadata_df['Bioproject ID'].isin(allowed_ids)]\n",
    "\n",
    "# Save the filtered data back to a new TSV file\n",
    "filtered_metadata.to_csv('combined_metadata_2.tsv', sep='\\t', index=False)\n"
   ]
  },
  {
   "cell_type": "markdown",
   "metadata": {},
   "source": [
    "Here I will exclude Run IDs that are non-ITS and the negative control, mock and extraction blanks from the scfa-paper."
   ]
  },
  {
   "cell_type": "code",
   "execution_count": 3,
   "metadata": {},
   "outputs": [],
   "source": [
    "# Load the exclusion list of IDs\n",
    "exclusion_ids_df = pd.read_csv('/Users/svenst/Documents/qiime2-wrkdir/global-gutfungi/Metadata/exclusion-ids.tsv', sep='\\t', header=None)\n",
    "exclusion_ids = set(exclusion_ids_df[0])  # Assuming IDs are in the first column\n",
    "\n",
    "# Exclude rows based on the exclusion list of IDs\n",
    "final_filtered_metadata = filtered_metadata[~filtered_metadata['ID'].isin(exclusion_ids)]\n",
    "\n",
    "# Save the final filtered data back to a new TSV file\n",
    "final_filtered_metadata.to_csv('/Users/svenst/Documents/qiime2-wrkdir/global-gutfungi/Metadata/final_filtered_metadata.tsv', sep='\\t', index=False)"
   ]
  },
  {
   "cell_type": "markdown",
   "metadata": {},
   "source": [
    "Now I need to inspect the columns and their content in order to be able to merge all columns that contain the same information but under different names."
   ]
  },
  {
   "cell_type": "code",
   "execution_count": 4,
   "metadata": {},
   "outputs": [
    {
     "name": "stdout",
     "output_type": "stream",
     "text": [
      "831\n"
     ]
    }
   ],
   "source": [
    "print(len(final_filtered_metadata.columns))"
   ]
  },
  {
   "cell_type": "code",
   "execution_count": 5,
   "metadata": {},
   "outputs": [
    {
     "name": "stdout",
     "output_type": "stream",
     "text": [
      "Number of unique project IDs: 67\n",
      "Unique project IDs: ['CNP0002114' 'AGP-paper_29795809' 'scfa-paper_34234185'\n",
      " 'crohns-paper_37122605' 'autism-paper_35966698' 'PRJCA010668'\n",
      " 'PRJDB13192' 'PRJDB5316' 'PRJEB25916' 'PRJEB29083' 'PRJEB33756'\n",
      " 'PRJEB34790' 'PRJEB35665' 'PRJEB37810' 'PRJEB38917' 'PRJEB38930'\n",
      " 'PRJEB42375' 'PRJEB42596' 'PRJEB46343' 'PRJEB50185' 'PRJEB50377'\n",
      " 'PRJEB53019' 'PRJEB59212' 'PRJEB61825' 'PRJNA271113' 'PRJNA356769'\n",
      " 'PRJNA379437' 'PRJNA419104' 'PRJNA478949' 'PRJNA517994' 'PRJNA541490'\n",
      " 'PRJNA557226' 'PRJNA565097' 'PRJNA579121' 'PRJNA579284' 'PRJNA589500'\n",
      " 'PRJNA590898' 'PRJNA607176' 'PRJNA627184' 'PRJNA637034' 'PRJNA647266'\n",
      " 'PRJNA655569' 'PRJNA662173' 'PRJNA668386' 'PRJNA668745' 'PRJNA670323'\n",
      " 'PRJNA676148' 'PRJNA686661' 'PRJNA692358' 'PRJNA698272' 'PRJNA703732'\n",
      " 'PRJNA715947' 'PRJNA735021' 'PRJNA746305' 'PRJNA746557' 'PRJNA751473'\n",
      " 'PRJNA756382' 'PRJNA778607' 'PRJNA791216' 'PRJNA794154' 'PRJNA813503'\n",
      " 'PRJNA814728' 'PRJNA833950' 'PRJNA834584' 'PRJNA850895' 'PRJNA935155'\n",
      " 'PRJNA987148']\n"
     ]
    }
   ],
   "source": [
    "# Get the unique project IDs\n",
    "unique_ids = final_filtered_metadata['Bioproject ID'].unique()\n",
    "\n",
    "# Count the number of unique project IDs\n",
    "num_unique_ids = final_filtered_metadata['Bioproject ID'].nunique()\n",
    "\n",
    "# Print the number of unique project IDs\n",
    "print(f\"Number of unique project IDs: {num_unique_ids}\")\n",
    "\n",
    "# Print the unique project IDs\n",
    "print(\"Unique project IDs:\", unique_ids)"
   ]
  },
  {
   "cell_type": "code",
   "execution_count": 8,
   "metadata": {},
   "outputs": [],
   "source": [
    "columns = final_filtered_metadata.columns.tolist()\n",
    "\n",
    "columns_df = pd.DataFrame([columns])\n",
    "\n",
    "columns_df.to_csv('columns.tsv', sep='\\t')"
   ]
  },
  {
   "cell_type": "markdown",
   "metadata": {},
   "source": [
    "### Merging Columns:"
   ]
  },
  {
   "cell_type": "markdown",
   "metadata": {},
   "source": [
    "Bioproject ID"
   ]
  },
  {
   "cell_type": "code",
   "execution_count": 11,
   "metadata": {},
   "outputs": [
    {
     "ename": "KeyError",
     "evalue": "'Bioproject Number [sample]'",
     "output_type": "error",
     "traceback": [
      "\u001b[0;31m---------------------------------------------------------------------------\u001b[0m",
      "\u001b[0;31mKeyError\u001b[0m                                  Traceback (most recent call last)",
      "File \u001b[0;32m~/anaconda3/envs/fondue/lib/python3.8/site-packages/pandas/core/indexes/base.py:3802\u001b[0m, in \u001b[0;36mIndex.get_loc\u001b[0;34m(self, key, method, tolerance)\u001b[0m\n\u001b[1;32m   3801\u001b[0m \u001b[38;5;28;01mtry\u001b[39;00m:\n\u001b[0;32m-> 3802\u001b[0m     \u001b[38;5;28;01mreturn\u001b[39;00m \u001b[38;5;28;43mself\u001b[39;49m\u001b[38;5;241;43m.\u001b[39;49m\u001b[43m_engine\u001b[49m\u001b[38;5;241;43m.\u001b[39;49m\u001b[43mget_loc\u001b[49m\u001b[43m(\u001b[49m\u001b[43mcasted_key\u001b[49m\u001b[43m)\u001b[49m\n\u001b[1;32m   3803\u001b[0m \u001b[38;5;28;01mexcept\u001b[39;00m \u001b[38;5;167;01mKeyError\u001b[39;00m \u001b[38;5;28;01mas\u001b[39;00m err:\n",
      "File \u001b[0;32m~/anaconda3/envs/fondue/lib/python3.8/site-packages/pandas/_libs/index.pyx:138\u001b[0m, in \u001b[0;36mpandas._libs.index.IndexEngine.get_loc\u001b[0;34m()\u001b[0m\n",
      "File \u001b[0;32m~/anaconda3/envs/fondue/lib/python3.8/site-packages/pandas/_libs/index.pyx:165\u001b[0m, in \u001b[0;36mpandas._libs.index.IndexEngine.get_loc\u001b[0;34m()\u001b[0m\n",
      "File \u001b[0;32mpandas/_libs/hashtable_class_helper.pxi:5745\u001b[0m, in \u001b[0;36mpandas._libs.hashtable.PyObjectHashTable.get_item\u001b[0;34m()\u001b[0m\n",
      "File \u001b[0;32mpandas/_libs/hashtable_class_helper.pxi:5753\u001b[0m, in \u001b[0;36mpandas._libs.hashtable.PyObjectHashTable.get_item\u001b[0;34m()\u001b[0m\n",
      "\u001b[0;31mKeyError\u001b[0m: 'Bioproject Number [sample]'",
      "\nThe above exception was the direct cause of the following exception:\n",
      "\u001b[0;31mKeyError\u001b[0m                                  Traceback (most recent call last)",
      "Cell \u001b[0;32mIn[11], line 1\u001b[0m\n\u001b[0;32m----> 1\u001b[0m final_filtered_metadata[\u001b[38;5;124m'\u001b[39m\u001b[38;5;124mBioproject ID\u001b[39m\u001b[38;5;124m'\u001b[39m] \u001b[38;5;241m=\u001b[39m final_filtered_metadata[\u001b[38;5;124m'\u001b[39m\u001b[38;5;124mBioproject ID\u001b[39m\u001b[38;5;124m'\u001b[39m]\u001b[38;5;241m.\u001b[39mfillna(\u001b[43mfinal_filtered_metadata\u001b[49m\u001b[43m[\u001b[49m\u001b[38;5;124;43m'\u001b[39;49m\u001b[38;5;124;43mBioproject Number [sample]\u001b[39;49m\u001b[38;5;124;43m'\u001b[39;49m\u001b[43m]\u001b[49m)\n\u001b[1;32m      3\u001b[0m final_filtered_metadata\u001b[38;5;241m.\u001b[39mdrop(\u001b[38;5;124m'\u001b[39m\u001b[38;5;124mBioproject Number [sample]\u001b[39m\u001b[38;5;124m'\u001b[39m, axis\u001b[38;5;241m=\u001b[39m\u001b[38;5;241m1\u001b[39m, inplace\u001b[38;5;241m=\u001b[39m\u001b[38;5;28;01mTrue\u001b[39;00m)\n\u001b[1;32m      5\u001b[0m \u001b[38;5;28mprint\u001b[39m(\u001b[38;5;28mlen\u001b[39m(final_filtered_metadata\u001b[38;5;241m.\u001b[39mcolumns))\n",
      "File \u001b[0;32m~/anaconda3/envs/fondue/lib/python3.8/site-packages/pandas/core/frame.py:3807\u001b[0m, in \u001b[0;36mDataFrame.__getitem__\u001b[0;34m(self, key)\u001b[0m\n\u001b[1;32m   3805\u001b[0m \u001b[38;5;28;01mif\u001b[39;00m \u001b[38;5;28mself\u001b[39m\u001b[38;5;241m.\u001b[39mcolumns\u001b[38;5;241m.\u001b[39mnlevels \u001b[38;5;241m>\u001b[39m \u001b[38;5;241m1\u001b[39m:\n\u001b[1;32m   3806\u001b[0m     \u001b[38;5;28;01mreturn\u001b[39;00m \u001b[38;5;28mself\u001b[39m\u001b[38;5;241m.\u001b[39m_getitem_multilevel(key)\n\u001b[0;32m-> 3807\u001b[0m indexer \u001b[38;5;241m=\u001b[39m \u001b[38;5;28;43mself\u001b[39;49m\u001b[38;5;241;43m.\u001b[39;49m\u001b[43mcolumns\u001b[49m\u001b[38;5;241;43m.\u001b[39;49m\u001b[43mget_loc\u001b[49m\u001b[43m(\u001b[49m\u001b[43mkey\u001b[49m\u001b[43m)\u001b[49m\n\u001b[1;32m   3808\u001b[0m \u001b[38;5;28;01mif\u001b[39;00m is_integer(indexer):\n\u001b[1;32m   3809\u001b[0m     indexer \u001b[38;5;241m=\u001b[39m [indexer]\n",
      "File \u001b[0;32m~/anaconda3/envs/fondue/lib/python3.8/site-packages/pandas/core/indexes/base.py:3804\u001b[0m, in \u001b[0;36mIndex.get_loc\u001b[0;34m(self, key, method, tolerance)\u001b[0m\n\u001b[1;32m   3802\u001b[0m     \u001b[38;5;28;01mreturn\u001b[39;00m \u001b[38;5;28mself\u001b[39m\u001b[38;5;241m.\u001b[39m_engine\u001b[38;5;241m.\u001b[39mget_loc(casted_key)\n\u001b[1;32m   3803\u001b[0m \u001b[38;5;28;01mexcept\u001b[39;00m \u001b[38;5;167;01mKeyError\u001b[39;00m \u001b[38;5;28;01mas\u001b[39;00m err:\n\u001b[0;32m-> 3804\u001b[0m     \u001b[38;5;28;01mraise\u001b[39;00m \u001b[38;5;167;01mKeyError\u001b[39;00m(key) \u001b[38;5;28;01mfrom\u001b[39;00m \u001b[38;5;21;01merr\u001b[39;00m\n\u001b[1;32m   3805\u001b[0m \u001b[38;5;28;01mexcept\u001b[39;00m \u001b[38;5;167;01mTypeError\u001b[39;00m:\n\u001b[1;32m   3806\u001b[0m     \u001b[38;5;66;03m# If we have a listlike key, _check_indexing_error will raise\u001b[39;00m\n\u001b[1;32m   3807\u001b[0m     \u001b[38;5;66;03m#  InvalidIndexError. Otherwise we fall through and re-raise\u001b[39;00m\n\u001b[1;32m   3808\u001b[0m     \u001b[38;5;66;03m#  the TypeError.\u001b[39;00m\n\u001b[1;32m   3809\u001b[0m     \u001b[38;5;28mself\u001b[39m\u001b[38;5;241m.\u001b[39m_check_indexing_error(key)\n",
      "\u001b[0;31mKeyError\u001b[0m: 'Bioproject Number [sample]'"
     ]
    }
   ],
   "source": [
    "final_filtered_metadata['Bioproject ID'] = final_filtered_metadata['Bioproject ID'].fillna(final_filtered_metadata['Bioproject Number [sample]'])\n",
    "\n",
    "final_filtered_metadata.drop('Bioproject Number [sample]', axis=1, inplace=True)\n",
    "\n",
    "print(len(final_filtered_metadata.columns))"
   ]
  },
  {
   "cell_type": "markdown",
   "metadata": {},
   "source": [
    "Organism"
   ]
  },
  {
   "cell_type": "code",
   "execution_count": 9,
   "metadata": {},
   "outputs": [
    {
     "name": "stderr",
     "output_type": "stream",
     "text": [
      "/var/folders/yt/1j80yxc14_q516h016m97t8c0000gt/T/ipykernel_1187/3971363057.py:1: SettingWithCopyWarning: \n",
      "A value is trying to be set on a copy of a slice from a DataFrame.\n",
      "Try using .loc[row_indexer,col_indexer] = value instead\n",
      "\n",
      "See the caveats in the documentation: https://pandas.pydata.org/pandas-docs/stable/user_guide/indexing.html#returning-a-view-versus-a-copy\n",
      "  final_filtered_metadata['Organism'] = final_filtered_metadata['Organism'].fillna(final_filtered_metadata['Organism [run]'])\n",
      "/var/folders/yt/1j80yxc14_q516h016m97t8c0000gt/T/ipykernel_1187/3971363057.py:3: SettingWithCopyWarning: \n",
      "A value is trying to be set on a copy of a slice from a DataFrame\n",
      "\n",
      "See the caveats in the documentation: https://pandas.pydata.org/pandas-docs/stable/user_guide/indexing.html#returning-a-view-versus-a-copy\n",
      "  final_filtered_metadata.drop('Organism [run]', axis=1, inplace=True)\n"
     ]
    }
   ],
   "source": [
    "final_filtered_metadata['Organism'] = final_filtered_metadata['Organism'].fillna(final_filtered_metadata['Organism [run]'])\n",
    "\n",
    "final_filtered_metadata.drop('Organism [run]', axis=1, inplace=True)\n",
    "\n",
    "print(len(final_filtered_metadata.columns))"
   ]
  },
  {
   "cell_type": "markdown",
   "metadata": {},
   "source": [
    "Library Source"
   ]
  },
  {
   "cell_type": "code",
   "execution_count": 12,
   "metadata": {},
   "outputs": [
    {
     "name": "stdout",
     "output_type": "stream",
     "text": [
      "828\n"
     ]
    },
    {
     "name": "stderr",
     "output_type": "stream",
     "text": [
      "/var/folders/yt/1j80yxc14_q516h016m97t8c0000gt/T/ipykernel_1187/862151734.py:1: SettingWithCopyWarning: \n",
      "A value is trying to be set on a copy of a slice from a DataFrame.\n",
      "Try using .loc[row_indexer,col_indexer] = value instead\n",
      "\n",
      "See the caveats in the documentation: https://pandas.pydata.org/pandas-docs/stable/user_guide/indexing.html#returning-a-view-versus-a-copy\n",
      "  final_filtered_metadata['Library Source'] = final_filtered_metadata['Library Source'].fillna(final_filtered_metadata['Library Source [sample]'])\n",
      "/var/folders/yt/1j80yxc14_q516h016m97t8c0000gt/T/ipykernel_1187/862151734.py:3: SettingWithCopyWarning: \n",
      "A value is trying to be set on a copy of a slice from a DataFrame\n",
      "\n",
      "See the caveats in the documentation: https://pandas.pydata.org/pandas-docs/stable/user_guide/indexing.html#returning-a-view-versus-a-copy\n",
      "  final_filtered_metadata.drop('Library Source [sample]', axis=1, inplace=True)\n"
     ]
    }
   ],
   "source": [
    "final_filtered_metadata['Library Source'] = final_filtered_metadata['Library Source'].fillna(final_filtered_metadata['Library Source [sample]'])\n",
    "\n",
    "final_filtered_metadata.drop('Library Source [sample]', axis=1, inplace=True)\n",
    "\n",
    "print(len(final_filtered_metadata.columns))"
   ]
  },
  {
   "cell_type": "markdown",
   "metadata": {},
   "source": [
    "Library Layout"
   ]
  },
  {
   "cell_type": "code",
   "execution_count": 13,
   "metadata": {},
   "outputs": [
    {
     "name": "stdout",
     "output_type": "stream",
     "text": [
      "827\n"
     ]
    },
    {
     "name": "stderr",
     "output_type": "stream",
     "text": [
      "/var/folders/yt/1j80yxc14_q516h016m97t8c0000gt/T/ipykernel_1187/2814512269.py:1: SettingWithCopyWarning: \n",
      "A value is trying to be set on a copy of a slice from a DataFrame.\n",
      "Try using .loc[row_indexer,col_indexer] = value instead\n",
      "\n",
      "See the caveats in the documentation: https://pandas.pydata.org/pandas-docs/stable/user_guide/indexing.html#returning-a-view-versus-a-copy\n",
      "  final_filtered_metadata['Library Layout'] = final_filtered_metadata['Library Layout'].fillna(final_filtered_metadata['Library Layout [sample]'])\n",
      "/var/folders/yt/1j80yxc14_q516h016m97t8c0000gt/T/ipykernel_1187/2814512269.py:3: SettingWithCopyWarning: \n",
      "A value is trying to be set on a copy of a slice from a DataFrame\n",
      "\n",
      "See the caveats in the documentation: https://pandas.pydata.org/pandas-docs/stable/user_guide/indexing.html#returning-a-view-versus-a-copy\n",
      "  final_filtered_metadata.drop('Library Layout [sample]', axis=1, inplace=True)\n"
     ]
    }
   ],
   "source": [
    "final_filtered_metadata['Library Layout'] = final_filtered_metadata['Library Layout'].fillna(final_filtered_metadata['Library Layout [sample]'])\n",
    "\n",
    "final_filtered_metadata.drop('Library Layout [sample]', axis=1, inplace=True)\n",
    "\n",
    "print(len(final_filtered_metadata.columns))"
   ]
  },
  {
   "cell_type": "markdown",
   "metadata": {},
   "source": [
    "Library Selection"
   ]
  },
  {
   "cell_type": "code",
   "execution_count": 19,
   "metadata": {},
   "outputs": [
    {
     "name": "stdout",
     "output_type": "stream",
     "text": [
      "826\n"
     ]
    },
    {
     "name": "stderr",
     "output_type": "stream",
     "text": [
      "/var/folders/yt/1j80yxc14_q516h016m97t8c0000gt/T/ipykernel_1187/414942330.py:1: SettingWithCopyWarning: \n",
      "A value is trying to be set on a copy of a slice from a DataFrame.\n",
      "Try using .loc[row_indexer,col_indexer] = value instead\n",
      "\n",
      "See the caveats in the documentation: https://pandas.pydata.org/pandas-docs/stable/user_guide/indexing.html#returning-a-view-versus-a-copy\n",
      "  final_filtered_metadata['Library Selection'] = final_filtered_metadata['Library Selection'].fillna(final_filtered_metadata['Library Selection [sample]'])\n",
      "/var/folders/yt/1j80yxc14_q516h016m97t8c0000gt/T/ipykernel_1187/414942330.py:3: SettingWithCopyWarning: \n",
      "A value is trying to be set on a copy of a slice from a DataFrame\n",
      "\n",
      "See the caveats in the documentation: https://pandas.pydata.org/pandas-docs/stable/user_guide/indexing.html#returning-a-view-versus-a-copy\n",
      "  final_filtered_metadata.drop('Library Selection [sample]', axis=1, inplace=True)\n"
     ]
    }
   ],
   "source": [
    "final_filtered_metadata['Library Selection'] = final_filtered_metadata['Library Selection'].fillna(final_filtered_metadata['Library Selection [sample]'])\n",
    "\n",
    "final_filtered_metadata.drop('Library Selection [sample]', axis=1, inplace=True)\n",
    "\n",
    "print(len(final_filtered_metadata.columns))"
   ]
  },
  {
   "cell_type": "markdown",
   "metadata": {},
   "source": [
    "Instrument"
   ]
  },
  {
   "cell_type": "code",
   "execution_count": 26,
   "metadata": {},
   "outputs": [
    {
     "name": "stdout",
     "output_type": "stream",
     "text": [
      "825\n"
     ]
    },
    {
     "name": "stderr",
     "output_type": "stream",
     "text": [
      "/var/folders/yt/1j80yxc14_q516h016m97t8c0000gt/T/ipykernel_1187/2577054525.py:1: SettingWithCopyWarning: \n",
      "A value is trying to be set on a copy of a slice from a DataFrame.\n",
      "Try using .loc[row_indexer,col_indexer] = value instead\n",
      "\n",
      "See the caveats in the documentation: https://pandas.pydata.org/pandas-docs/stable/user_guide/indexing.html#returning-a-view-versus-a-copy\n",
      "  final_filtered_metadata['Instrument'] = final_filtered_metadata['Instrument'].fillna(final_filtered_metadata['Instrument Model [sample]'])\n",
      "/var/folders/yt/1j80yxc14_q516h016m97t8c0000gt/T/ipykernel_1187/2577054525.py:3: SettingWithCopyWarning: \n",
      "A value is trying to be set on a copy of a slice from a DataFrame\n",
      "\n",
      "See the caveats in the documentation: https://pandas.pydata.org/pandas-docs/stable/user_guide/indexing.html#returning-a-view-versus-a-copy\n",
      "  final_filtered_metadata.drop('Instrument Model [sample]', axis=1, inplace=True)\n"
     ]
    }
   ],
   "source": [
    "final_filtered_metadata['Instrument'] = final_filtered_metadata['Instrument'].fillna(final_filtered_metadata['Instrument Model [sample]'])\n",
    "\n",
    "final_filtered_metadata.drop('Instrument Model [sample]', axis=1, inplace=True)\n",
    "\n",
    "print(len(final_filtered_metadata.columns))"
   ]
  },
  {
   "cell_type": "markdown",
   "metadata": {},
   "source": [
    "Platform"
   ]
  },
  {
   "cell_type": "code",
   "execution_count": 28,
   "metadata": {},
   "outputs": [
    {
     "name": "stdout",
     "output_type": "stream",
     "text": [
      "824\n"
     ]
    },
    {
     "name": "stderr",
     "output_type": "stream",
     "text": [
      "/var/folders/yt/1j80yxc14_q516h016m97t8c0000gt/T/ipykernel_1187/904540321.py:1: SettingWithCopyWarning: \n",
      "A value is trying to be set on a copy of a slice from a DataFrame.\n",
      "Try using .loc[row_indexer,col_indexer] = value instead\n",
      "\n",
      "See the caveats in the documentation: https://pandas.pydata.org/pandas-docs/stable/user_guide/indexing.html#returning-a-view-versus-a-copy\n",
      "  final_filtered_metadata['Platform'] = final_filtered_metadata['Platform'].fillna(final_filtered_metadata['Platform [sample]'])\n",
      "/var/folders/yt/1j80yxc14_q516h016m97t8c0000gt/T/ipykernel_1187/904540321.py:3: SettingWithCopyWarning: \n",
      "A value is trying to be set on a copy of a slice from a DataFrame\n",
      "\n",
      "See the caveats in the documentation: https://pandas.pydata.org/pandas-docs/stable/user_guide/indexing.html#returning-a-view-versus-a-copy\n",
      "  final_filtered_metadata.drop('Platform [sample]', axis=1, inplace=True)\n"
     ]
    }
   ],
   "source": [
    "final_filtered_metadata['Platform'] = final_filtered_metadata['Platform'].fillna(final_filtered_metadata['Platform [sample]'])\n",
    "\n",
    "final_filtered_metadata.drop('Platform [sample]', axis=1, inplace=True)\n",
    "\n",
    "print(len(final_filtered_metadata.columns))"
   ]
  },
  {
   "cell_type": "markdown",
   "metadata": {},
   "source": [
    "Center Name"
   ]
  },
  {
   "cell_type": "code",
   "execution_count": 33,
   "metadata": {},
   "outputs": [
    {
     "name": "stdout",
     "output_type": "stream",
     "text": [
      "823\n"
     ]
    },
    {
     "name": "stderr",
     "output_type": "stream",
     "text": [
      "/var/folders/yt/1j80yxc14_q516h016m97t8c0000gt/T/ipykernel_1187/1787436700.py:1: SettingWithCopyWarning: \n",
      "A value is trying to be set on a copy of a slice from a DataFrame.\n",
      "Try using .loc[row_indexer,col_indexer] = value instead\n",
      "\n",
      "See the caveats in the documentation: https://pandas.pydata.org/pandas-docs/stable/user_guide/indexing.html#returning-a-view-versus-a-copy\n",
      "  final_filtered_metadata['Center Name'] = final_filtered_metadata['Center Name'].fillna(final_filtered_metadata['Insdc center name [sample]'])\n",
      "/var/folders/yt/1j80yxc14_q516h016m97t8c0000gt/T/ipykernel_1187/1787436700.py:3: SettingWithCopyWarning: \n",
      "A value is trying to be set on a copy of a slice from a DataFrame\n",
      "\n",
      "See the caveats in the documentation: https://pandas.pydata.org/pandas-docs/stable/user_guide/indexing.html#returning-a-view-versus-a-copy\n",
      "  final_filtered_metadata.drop('Insdc center name [sample]', axis=1, inplace=True)\n"
     ]
    }
   ],
   "source": [
    "final_filtered_metadata['Center Name'] = final_filtered_metadata['Center Name'].fillna(final_filtered_metadata['Insdc center name [sample]'])\n",
    "\n",
    "final_filtered_metadata.drop('Insdc center name [sample]', axis=1, inplace=True)\n",
    "\n",
    "print(len(final_filtered_metadata.columns))"
   ]
  },
  {
   "cell_type": "markdown",
   "metadata": {},
   "source": [
    "Collection Date"
   ]
  },
  {
   "cell_type": "code",
   "execution_count": 39,
   "metadata": {},
   "outputs": [
    {
     "name": "stdout",
     "output_type": "stream",
     "text": [
      "820\n"
     ]
    },
    {
     "name": "stderr",
     "output_type": "stream",
     "text": [
      "/var/folders/yt/1j80yxc14_q516h016m97t8c0000gt/T/ipykernel_1187/3735048006.py:1: SettingWithCopyWarning: \n",
      "A value is trying to be set on a copy of a slice from a DataFrame.\n",
      "Try using .loc[row_indexer,col_indexer] = value instead\n",
      "\n",
      "See the caveats in the documentation: https://pandas.pydata.org/pandas-docs/stable/user_guide/indexing.html#returning-a-view-versus-a-copy\n",
      "  final_filtered_metadata['Collection Date [sample]'] = final_filtered_metadata['Collection Date [sample]'].fillna(final_filtered_metadata['Collection date [sample]']).fillna(final_filtered_metadata['Collect date [sample]']).fillna(final_filtered_metadata['Collection Date [run]'])\n",
      "/var/folders/yt/1j80yxc14_q516h016m97t8c0000gt/T/ipykernel_1187/3735048006.py:3: SettingWithCopyWarning: \n",
      "A value is trying to be set on a copy of a slice from a DataFrame\n",
      "\n",
      "See the caveats in the documentation: https://pandas.pydata.org/pandas-docs/stable/user_guide/indexing.html#returning-a-view-versus-a-copy\n",
      "  final_filtered_metadata.drop('Collection date [sample]', axis=1, inplace=True)\n",
      "/var/folders/yt/1j80yxc14_q516h016m97t8c0000gt/T/ipykernel_1187/3735048006.py:5: SettingWithCopyWarning: \n",
      "A value is trying to be set on a copy of a slice from a DataFrame\n",
      "\n",
      "See the caveats in the documentation: https://pandas.pydata.org/pandas-docs/stable/user_guide/indexing.html#returning-a-view-versus-a-copy\n",
      "  final_filtered_metadata.drop('Collect date [sample]', axis=1, inplace=True)\n",
      "/var/folders/yt/1j80yxc14_q516h016m97t8c0000gt/T/ipykernel_1187/3735048006.py:7: SettingWithCopyWarning: \n",
      "A value is trying to be set on a copy of a slice from a DataFrame\n",
      "\n",
      "See the caveats in the documentation: https://pandas.pydata.org/pandas-docs/stable/user_guide/indexing.html#returning-a-view-versus-a-copy\n",
      "  final_filtered_metadata.drop('Collection Date [run]', axis=1, inplace=True)\n"
     ]
    }
   ],
   "source": [
    "final_filtered_metadata['Collection Date [sample]'] = final_filtered_metadata['Collection Date [sample]'].fillna(final_filtered_metadata['Collection date [sample]']).fillna(final_filtered_metadata['Collect date [sample]']).fillna(final_filtered_metadata['Collection Date [run]'])\n",
    "\n",
    "final_filtered_metadata.drop('Collection date [sample]', axis=1, inplace=True)\n",
    "\n",
    "final_filtered_metadata.drop('Collect date [sample]', axis=1, inplace=True)\n",
    "\n",
    "final_filtered_metadata.drop('Collection Date [run]', axis=1, inplace=True)\n",
    "\n",
    "print(len(final_filtered_metadata.columns))"
   ]
  },
  {
   "cell_type": "markdown",
   "metadata": {},
   "source": [
    "Geo Loc Name"
   ]
  },
  {
   "cell_type": "code",
   "execution_count": 40,
   "metadata": {},
   "outputs": [
    {
     "name": "stdout",
     "output_type": "stream",
     "text": [
      "817\n"
     ]
    },
    {
     "name": "stderr",
     "output_type": "stream",
     "text": [
      "/var/folders/yt/1j80yxc14_q516h016m97t8c0000gt/T/ipykernel_1187/512548421.py:1: SettingWithCopyWarning: \n",
      "A value is trying to be set on a copy of a slice from a DataFrame.\n",
      "Try using .loc[row_indexer,col_indexer] = value instead\n",
      "\n",
      "See the caveats in the documentation: https://pandas.pydata.org/pandas-docs/stable/user_guide/indexing.html#returning-a-view-versus-a-copy\n",
      "  final_filtered_metadata['Geo Loc Name [sample]'] = final_filtered_metadata['Geo Loc Name [sample]'].fillna(final_filtered_metadata['Geo Loc Name [run]']).fillna(final_filtered_metadata['Geographic location (country and/or sea) [sample]']).fillna(final_filtered_metadata['Country [sample]'])\n",
      "/var/folders/yt/1j80yxc14_q516h016m97t8c0000gt/T/ipykernel_1187/512548421.py:3: SettingWithCopyWarning: \n",
      "A value is trying to be set on a copy of a slice from a DataFrame\n",
      "\n",
      "See the caveats in the documentation: https://pandas.pydata.org/pandas-docs/stable/user_guide/indexing.html#returning-a-view-versus-a-copy\n",
      "  final_filtered_metadata.drop('Geo Loc Name [run]', axis=1, inplace=True)\n",
      "/var/folders/yt/1j80yxc14_q516h016m97t8c0000gt/T/ipykernel_1187/512548421.py:5: SettingWithCopyWarning: \n",
      "A value is trying to be set on a copy of a slice from a DataFrame\n",
      "\n",
      "See the caveats in the documentation: https://pandas.pydata.org/pandas-docs/stable/user_guide/indexing.html#returning-a-view-versus-a-copy\n",
      "  final_filtered_metadata.drop('Geographic location (country and/or sea) [sample]', axis=1, inplace=True)\n",
      "/var/folders/yt/1j80yxc14_q516h016m97t8c0000gt/T/ipykernel_1187/512548421.py:7: SettingWithCopyWarning: \n",
      "A value is trying to be set on a copy of a slice from a DataFrame\n",
      "\n",
      "See the caveats in the documentation: https://pandas.pydata.org/pandas-docs/stable/user_guide/indexing.html#returning-a-view-versus-a-copy\n",
      "  final_filtered_metadata.drop('Country [sample]', axis=1, inplace=True)\n"
     ]
    }
   ],
   "source": [
    "final_filtered_metadata['Geo Loc Name [sample]'] = final_filtered_metadata['Geo Loc Name [sample]'].fillna(final_filtered_metadata['Geo Loc Name [run]']).fillna(final_filtered_metadata['Geographic location (country and/or sea) [sample]']).fillna(final_filtered_metadata['Country [sample]'])\n",
    "\n",
    "final_filtered_metadata.drop('Geo Loc Name [run]', axis=1, inplace=True)\n",
    "\n",
    "final_filtered_metadata.drop('Geographic location (country and/or sea) [sample]', axis=1, inplace=True)\n",
    "\n",
    "final_filtered_metadata.drop('Country [sample]', axis=1, inplace=True)\n",
    "\n",
    "print(len(final_filtered_metadata.columns))"
   ]
  },
  {
   "cell_type": "markdown",
   "metadata": {},
   "source": [
    "Host"
   ]
  },
  {
   "cell_type": "code",
   "execution_count": 41,
   "metadata": {},
   "outputs": [
    {
     "name": "stdout",
     "output_type": "stream",
     "text": [
      "815\n"
     ]
    },
    {
     "name": "stderr",
     "output_type": "stream",
     "text": [
      "/var/folders/yt/1j80yxc14_q516h016m97t8c0000gt/T/ipykernel_1187/3410593788.py:1: SettingWithCopyWarning: \n",
      "A value is trying to be set on a copy of a slice from a DataFrame.\n",
      "Try using .loc[row_indexer,col_indexer] = value instead\n",
      "\n",
      "See the caveats in the documentation: https://pandas.pydata.org/pandas-docs/stable/user_guide/indexing.html#returning-a-view-versus-a-copy\n",
      "  final_filtered_metadata['Host [sample]'] = final_filtered_metadata['Host [sample]'].fillna(final_filtered_metadata['Host [run]']).fillna(final_filtered_metadata['Host common name [sample]'])\n",
      "/var/folders/yt/1j80yxc14_q516h016m97t8c0000gt/T/ipykernel_1187/3410593788.py:3: SettingWithCopyWarning: \n",
      "A value is trying to be set on a copy of a slice from a DataFrame\n",
      "\n",
      "See the caveats in the documentation: https://pandas.pydata.org/pandas-docs/stable/user_guide/indexing.html#returning-a-view-versus-a-copy\n",
      "  final_filtered_metadata.drop('Host [run]', axis=1, inplace=True)\n",
      "/var/folders/yt/1j80yxc14_q516h016m97t8c0000gt/T/ipykernel_1187/3410593788.py:5: SettingWithCopyWarning: \n",
      "A value is trying to be set on a copy of a slice from a DataFrame\n",
      "\n",
      "See the caveats in the documentation: https://pandas.pydata.org/pandas-docs/stable/user_guide/indexing.html#returning-a-view-versus-a-copy\n",
      "  final_filtered_metadata.drop('Host common name [sample]', axis=1, inplace=True)\n"
     ]
    }
   ],
   "source": [
    "final_filtered_metadata['Host [sample]'] = final_filtered_metadata['Host [sample]'].fillna(final_filtered_metadata['Host [run]']).fillna(final_filtered_metadata['Host common name [sample]'])\n",
    "\n",
    "final_filtered_metadata.drop('Host [run]', axis=1, inplace=True)\n",
    "\n",
    "final_filtered_metadata.drop('Host common name [sample]', axis=1, inplace=True)\n",
    "\n",
    "print(len(final_filtered_metadata.columns))"
   ]
  },
  {
   "cell_type": "markdown",
   "metadata": {},
   "source": [
    "Latitude and Longitude"
   ]
  },
  {
   "cell_type": "code",
   "execution_count": 42,
   "metadata": {},
   "outputs": [
    {
     "name": "stdout",
     "output_type": "stream",
     "text": [
      "Non-NA counts before data manipulation:\n",
      "Lat Lon [sample]                            5947\n",
      "Lat Lon [run]                                 27\n",
      "Geographic location (latitude) [sample]     1187\n",
      "Geographic location (longitude) [sample]    1187\n",
      "Latitude [sample]                            312\n",
      "Longitude [sample]                           312\n",
      "dtype: int64\n"
     ]
    }
   ],
   "source": [
    "import pandas as pd\n",
    "\n",
    "# Assuming 'final_filtered_metadata' is your DataFrame\n",
    "print(\"Non-NA counts before data manipulation:\")\n",
    "print(final_filtered_metadata[['Lat Lon [sample]', 'Lat Lon [run]', 'Geographic location (latitude) [sample]', 'Geographic location (longitude) [sample]', 'Latitude [sample]', 'Longitude [sample]']].notna().sum())\n"
   ]
  },
  {
   "cell_type": "code",
   "execution_count": 47,
   "metadata": {},
   "outputs": [],
   "source": [
    "import pandas as pd\n",
    "import re\n",
    "\n",
    "def extract_and_assign_lat_lon(df, source_col, lat_target_col, lon_target_col):\n",
    "    if source_col in df.columns:\n",
    "        # Function to parse the latitude and longitude\n",
    "        def parse_lat_lon(s):\n",
    "            # Handle the case where coordinates are in '33.607 N 130.418 E' format\n",
    "            match = re.match(r'([+-]?\\d+\\.?\\d*)\\s*([NS])\\s*([+-]?\\d+\\.?\\d*)\\s*([EW])', s)\n",
    "            if match:\n",
    "                lat, lat_dir, lon, lon_dir = match.groups()\n",
    "                lat = float(lat) * (1 if lat_dir == 'N' else -1)\n",
    "                lon = float(lon) * (1 if lon_dir == 'E' else -1)\n",
    "                return lat, lon\n",
    "            # Handle the case where coordinates are in 'latitude, longitude' format\n",
    "            parts = s.split(',')\n",
    "            if len(parts) == 2:\n",
    "                try:\n",
    "                    return float(parts[0].strip()), float(parts[1].strip())\n",
    "                except ValueError:\n",
    "                    return None\n",
    "            return None\n",
    "\n",
    "        # Applying the parsing function to the column\n",
    "        coords = df[source_col].dropna().map(parse_lat_lon)\n",
    "        valid_coords = coords.dropna()\n",
    "\n",
    "        # Splitting the tuples into two separate Series for latitude and longitude\n",
    "        df.loc[valid_coords.index, lat_target_col] = valid_coords.map(lambda x: x[0])\n",
    "        df.loc[valid_coords.index, lon_target_col] = valid_coords.map(lambda x: x[1])\n",
    "\n",
    "# Columns with potential lat and lon information\n",
    "columns_with_lat_lon = ['Lat Lon [sample]', 'Lat Lon [run]']\n",
    "\n",
    "for col in columns_with_lat_lon:\n",
    "    extract_and_assign_lat_lon(final_filtered_metadata, col, 'Latitude [sample]', 'Longitude [sample]')\n"
   ]
  },
  {
   "cell_type": "code",
   "execution_count": 48,
   "metadata": {},
   "outputs": [
    {
     "name": "stdout",
     "output_type": "stream",
     "text": [
      "Non-NA counts after data manipulation:\n",
      "Latitude [sample]     4555\n",
      "Longitude [sample]    4555\n",
      "dtype: int64\n"
     ]
    }
   ],
   "source": [
    "# Check non-NA counts after extraction\n",
    "print(\"Non-NA counts after data manipulation:\")\n",
    "print(final_filtered_metadata[['Latitude [sample]', 'Longitude [sample]']].notna().sum())"
   ]
  },
  {
   "cell_type": "code",
   "execution_count": 49,
   "metadata": {},
   "outputs": [
    {
     "name": "stderr",
     "output_type": "stream",
     "text": [
      "/var/folders/yt/1j80yxc14_q516h016m97t8c0000gt/T/ipykernel_1187/2975052898.py:1: SettingWithCopyWarning: \n",
      "A value is trying to be set on a copy of a slice from a DataFrame\n",
      "\n",
      "See the caveats in the documentation: https://pandas.pydata.org/pandas-docs/stable/user_guide/indexing.html#returning-a-view-versus-a-copy\n",
      "  final_filtered_metadata.drop(columns=[\n"
     ]
    }
   ],
   "source": [
    "final_filtered_metadata.drop(columns=[\n",
    "    'Lat Lon [sample]', \n",
    "    'Lat Lon [run]', \n",
    "    'Geographic location (latitude) [sample]', \n",
    "    'Geographic location (longitude) [sample]'\n",
    "], inplace=True)\n"
   ]
  },
  {
   "cell_type": "markdown",
   "metadata": {},
   "source": [
    "Title"
   ]
  },
  {
   "cell_type": "code",
   "execution_count": 50,
   "metadata": {},
   "outputs": [
    {
     "name": "stdout",
     "output_type": "stream",
     "text": [
      "809\n"
     ]
    },
    {
     "name": "stderr",
     "output_type": "stream",
     "text": [
      "/var/folders/yt/1j80yxc14_q516h016m97t8c0000gt/T/ipykernel_1187/794517375.py:1: SettingWithCopyWarning: \n",
      "A value is trying to be set on a copy of a slice from a DataFrame.\n",
      "Try using .loc[row_indexer,col_indexer] = value instead\n",
      "\n",
      "See the caveats in the documentation: https://pandas.pydata.org/pandas-docs/stable/user_guide/indexing.html#returning-a-view-versus-a-copy\n",
      "  final_filtered_metadata['Title'] = final_filtered_metadata['Title'].fillna(final_filtered_metadata['Title [sample]']).fillna(final_filtered_metadata['Sra Title [run]'])\n",
      "/var/folders/yt/1j80yxc14_q516h016m97t8c0000gt/T/ipykernel_1187/794517375.py:3: SettingWithCopyWarning: \n",
      "A value is trying to be set on a copy of a slice from a DataFrame\n",
      "\n",
      "See the caveats in the documentation: https://pandas.pydata.org/pandas-docs/stable/user_guide/indexing.html#returning-a-view-versus-a-copy\n",
      "  final_filtered_metadata.drop('Title [sample]', axis=1, inplace=True)\n",
      "/var/folders/yt/1j80yxc14_q516h016m97t8c0000gt/T/ipykernel_1187/794517375.py:5: SettingWithCopyWarning: \n",
      "A value is trying to be set on a copy of a slice from a DataFrame\n",
      "\n",
      "See the caveats in the documentation: https://pandas.pydata.org/pandas-docs/stable/user_guide/indexing.html#returning-a-view-versus-a-copy\n",
      "  final_filtered_metadata.drop('Sra Title [run]', axis=1, inplace=True)\n"
     ]
    }
   ],
   "source": [
    "final_filtered_metadata['Title'] = final_filtered_metadata['Title'].fillna(final_filtered_metadata['Title [sample]']).fillna(final_filtered_metadata['Sra Title [run]'])\n",
    "\n",
    "final_filtered_metadata.drop('Title [sample]', axis=1, inplace=True)\n",
    "\n",
    "final_filtered_metadata.drop('Sra Title [run]', axis=1, inplace=True)\n",
    "\n",
    "print(len(final_filtered_metadata.columns))"
   ]
  },
  {
   "cell_type": "markdown",
   "metadata": {},
   "source": [
    "Patient ID"
   ]
  },
  {
   "cell_type": "code",
   "execution_count": 51,
   "metadata": {},
   "outputs": [
    {
     "name": "stdout",
     "output_type": "stream",
     "text": [
      "807\n"
     ]
    },
    {
     "name": "stderr",
     "output_type": "stream",
     "text": [
      "/var/folders/yt/1j80yxc14_q516h016m97t8c0000gt/T/ipykernel_1187/1130974947.py:1: SettingWithCopyWarning: \n",
      "A value is trying to be set on a copy of a slice from a DataFrame.\n",
      "Try using .loc[row_indexer,col_indexer] = value instead\n",
      "\n",
      "See the caveats in the documentation: https://pandas.pydata.org/pandas-docs/stable/user_guide/indexing.html#returning-a-view-versus-a-copy\n",
      "  final_filtered_metadata['Patient Id [sample]'] = final_filtered_metadata['Patient Id [sample]'].fillna(final_filtered_metadata['Patient [sample]']).fillna(final_filtered_metadata['Patientid [sample]'])\n",
      "/var/folders/yt/1j80yxc14_q516h016m97t8c0000gt/T/ipykernel_1187/1130974947.py:3: SettingWithCopyWarning: \n",
      "A value is trying to be set on a copy of a slice from a DataFrame\n",
      "\n",
      "See the caveats in the documentation: https://pandas.pydata.org/pandas-docs/stable/user_guide/indexing.html#returning-a-view-versus-a-copy\n",
      "  final_filtered_metadata.drop('Patient [sample]', axis=1, inplace=True)\n",
      "/var/folders/yt/1j80yxc14_q516h016m97t8c0000gt/T/ipykernel_1187/1130974947.py:5: SettingWithCopyWarning: \n",
      "A value is trying to be set on a copy of a slice from a DataFrame\n",
      "\n",
      "See the caveats in the documentation: https://pandas.pydata.org/pandas-docs/stable/user_guide/indexing.html#returning-a-view-versus-a-copy\n",
      "  final_filtered_metadata.drop('Patientid [sample]', axis=1, inplace=True)\n"
     ]
    }
   ],
   "source": [
    "final_filtered_metadata['Patient Id [sample]'] = final_filtered_metadata['Patient Id [sample]'].fillna(final_filtered_metadata['Patient [sample]']).fillna(final_filtered_metadata['Patientid [sample]'])\n",
    "\n",
    "final_filtered_metadata.drop('Patient [sample]', axis=1, inplace=True)\n",
    "\n",
    "final_filtered_metadata.drop('Patientid [sample]', axis=1, inplace=True)\n",
    "\n",
    "print(len(final_filtered_metadata.columns))"
   ]
  },
  {
   "cell_type": "markdown",
   "metadata": {},
   "source": [
    "Age Categories"
   ]
  },
  {
   "cell_type": "code",
   "execution_count": 52,
   "metadata": {},
   "outputs": [
    {
     "name": "stdout",
     "output_type": "stream",
     "text": [
      "806\n"
     ]
    },
    {
     "name": "stderr",
     "output_type": "stream",
     "text": [
      "/var/folders/yt/1j80yxc14_q516h016m97t8c0000gt/T/ipykernel_1187/1923824365.py:1: SettingWithCopyWarning: \n",
      "A value is trying to be set on a copy of a slice from a DataFrame.\n",
      "Try using .loc[row_indexer,col_indexer] = value instead\n",
      "\n",
      "See the caveats in the documentation: https://pandas.pydata.org/pandas-docs/stable/user_guide/indexing.html#returning-a-view-versus-a-copy\n",
      "  final_filtered_metadata['Age Categories [run]'] = final_filtered_metadata['Age Categories [run]'].fillna(final_filtered_metadata['Age cat [sample]'])\n",
      "/var/folders/yt/1j80yxc14_q516h016m97t8c0000gt/T/ipykernel_1187/1923824365.py:3: SettingWithCopyWarning: \n",
      "A value is trying to be set on a copy of a slice from a DataFrame\n",
      "\n",
      "See the caveats in the documentation: https://pandas.pydata.org/pandas-docs/stable/user_guide/indexing.html#returning-a-view-versus-a-copy\n",
      "  final_filtered_metadata.drop('Age cat [sample]', axis=1, inplace=True)\n"
     ]
    }
   ],
   "source": [
    "final_filtered_metadata['Age Categories [run]'] = final_filtered_metadata['Age Categories [run]'].fillna(final_filtered_metadata['Age cat [sample]'])\n",
    "\n",
    "final_filtered_metadata.drop('Age cat [sample]', axis=1, inplace=True)\n",
    "\n",
    "print(len(final_filtered_metadata.columns))"
   ]
  },
  {
   "cell_type": "markdown",
   "metadata": {},
   "source": [
    "Inflammatory Bowel Disease"
   ]
  },
  {
   "cell_type": "code",
   "execution_count": 53,
   "metadata": {},
   "outputs": [
    {
     "name": "stdout",
     "output_type": "stream",
     "text": [
      "805\n"
     ]
    },
    {
     "name": "stderr",
     "output_type": "stream",
     "text": [
      "/var/folders/yt/1j80yxc14_q516h016m97t8c0000gt/T/ipykernel_1187/2685391555.py:1: SettingWithCopyWarning: \n",
      "A value is trying to be set on a copy of a slice from a DataFrame.\n",
      "Try using .loc[row_indexer,col_indexer] = value instead\n",
      "\n",
      "See the caveats in the documentation: https://pandas.pydata.org/pandas-docs/stable/user_guide/indexing.html#returning-a-view-versus-a-copy\n",
      "  final_filtered_metadata['Inflammatory Bowel Disease [run]'] = final_filtered_metadata['Inflammatory Bowel Disease [run]'].fillna(final_filtered_metadata['Ibd [sample]'])\n",
      "/var/folders/yt/1j80yxc14_q516h016m97t8c0000gt/T/ipykernel_1187/2685391555.py:3: SettingWithCopyWarning: \n",
      "A value is trying to be set on a copy of a slice from a DataFrame\n",
      "\n",
      "See the caveats in the documentation: https://pandas.pydata.org/pandas-docs/stable/user_guide/indexing.html#returning-a-view-versus-a-copy\n",
      "  final_filtered_metadata.drop('Ibd [sample]', axis=1, inplace=True)\n"
     ]
    }
   ],
   "source": [
    "final_filtered_metadata['Inflammatory Bowel Disease [run]'] = final_filtered_metadata['Inflammatory Bowel Disease [run]'].fillna(final_filtered_metadata['Ibd [sample]'])\n",
    "\n",
    "final_filtered_metadata.drop('Ibd [sample]', axis=1, inplace=True)\n",
    "\n",
    "print(len(final_filtered_metadata.columns))"
   ]
  },
  {
   "cell_type": "markdown",
   "metadata": {},
   "source": [
    "Ethnicity"
   ]
  },
  {
   "cell_type": "code",
   "execution_count": 55,
   "metadata": {},
   "outputs": [
    {
     "name": "stdout",
     "output_type": "stream",
     "text": [
      "804\n"
     ]
    },
    {
     "name": "stderr",
     "output_type": "stream",
     "text": [
      "/var/folders/yt/1j80yxc14_q516h016m97t8c0000gt/T/ipykernel_1187/2094727847.py:1: SettingWithCopyWarning: \n",
      "A value is trying to be set on a copy of a slice from a DataFrame.\n",
      "Try using .loc[row_indexer,col_indexer] = value instead\n",
      "\n",
      "See the caveats in the documentation: https://pandas.pydata.org/pandas-docs/stable/user_guide/indexing.html#returning-a-view-versus-a-copy\n",
      "  final_filtered_metadata['Ethnicity [sample]'] = final_filtered_metadata['Ethnicity [sample]'].fillna(final_filtered_metadata['Ethnicity [run]'])\n",
      "/var/folders/yt/1j80yxc14_q516h016m97t8c0000gt/T/ipykernel_1187/2094727847.py:3: SettingWithCopyWarning: \n",
      "A value is trying to be set on a copy of a slice from a DataFrame\n",
      "\n",
      "See the caveats in the documentation: https://pandas.pydata.org/pandas-docs/stable/user_guide/indexing.html#returning-a-view-versus-a-copy\n",
      "  final_filtered_metadata.drop('Ethnicity [run]', axis=1, inplace=True)\n"
     ]
    }
   ],
   "source": [
    "final_filtered_metadata['Ethnicity [sample]'] = final_filtered_metadata['Ethnicity [sample]'].fillna(final_filtered_metadata['Ethnicity [run]'])\n",
    "\n",
    "final_filtered_metadata.drop('Ethnicity [run]', axis=1, inplace=True)\n",
    "\n",
    "print(len(final_filtered_metadata.columns))"
   ]
  },
  {
   "cell_type": "markdown",
   "metadata": {},
   "source": [
    "Host Age"
   ]
  },
  {
   "cell_type": "code",
   "execution_count": 57,
   "metadata": {},
   "outputs": [
    {
     "name": "stdout",
     "output_type": "stream",
     "text": [
      "800\n"
     ]
    },
    {
     "name": "stderr",
     "output_type": "stream",
     "text": [
      "/var/folders/yt/1j80yxc14_q516h016m97t8c0000gt/T/ipykernel_1187/1654452942.py:1: SettingWithCopyWarning: \n",
      "A value is trying to be set on a copy of a slice from a DataFrame.\n",
      "Try using .loc[row_indexer,col_indexer] = value instead\n",
      "\n",
      "See the caveats in the documentation: https://pandas.pydata.org/pandas-docs/stable/user_guide/indexing.html#returning-a-view-versus-a-copy\n",
      "  final_filtered_metadata['Host Age [sample]'] = final_filtered_metadata['Host Age [sample]'].fillna(final_filtered_metadata['Childage [sample]']).fillna(final_filtered_metadata['Age [sample]']).fillna(final_filtered_metadata['Age years [sample]']).fillna(final_filtered_metadata['Age Corrected [sample]'])\n",
      "/var/folders/yt/1j80yxc14_q516h016m97t8c0000gt/T/ipykernel_1187/1654452942.py:3: SettingWithCopyWarning: \n",
      "A value is trying to be set on a copy of a slice from a DataFrame\n",
      "\n",
      "See the caveats in the documentation: https://pandas.pydata.org/pandas-docs/stable/user_guide/indexing.html#returning-a-view-versus-a-copy\n",
      "  final_filtered_metadata.drop('Childage [sample]', axis=1, inplace=True)\n",
      "/var/folders/yt/1j80yxc14_q516h016m97t8c0000gt/T/ipykernel_1187/1654452942.py:5: SettingWithCopyWarning: \n",
      "A value is trying to be set on a copy of a slice from a DataFrame\n",
      "\n",
      "See the caveats in the documentation: https://pandas.pydata.org/pandas-docs/stable/user_guide/indexing.html#returning-a-view-versus-a-copy\n",
      "  final_filtered_metadata.drop('Age [sample]', axis=1, inplace=True)\n",
      "/var/folders/yt/1j80yxc14_q516h016m97t8c0000gt/T/ipykernel_1187/1654452942.py:7: SettingWithCopyWarning: \n",
      "A value is trying to be set on a copy of a slice from a DataFrame\n",
      "\n",
      "See the caveats in the documentation: https://pandas.pydata.org/pandas-docs/stable/user_guide/indexing.html#returning-a-view-versus-a-copy\n",
      "  final_filtered_metadata.drop('Age years [sample]', axis=1, inplace=True)\n",
      "/var/folders/yt/1j80yxc14_q516h016m97t8c0000gt/T/ipykernel_1187/1654452942.py:9: SettingWithCopyWarning: \n",
      "A value is trying to be set on a copy of a slice from a DataFrame\n",
      "\n",
      "See the caveats in the documentation: https://pandas.pydata.org/pandas-docs/stable/user_guide/indexing.html#returning-a-view-versus-a-copy\n",
      "  final_filtered_metadata.drop('Age Corrected [sample]', axis=1, inplace=True)\n"
     ]
    }
   ],
   "source": [
    "final_filtered_metadata['Host Age [sample]'] = final_filtered_metadata['Host Age [sample]'].fillna(final_filtered_metadata['Childage [sample]']).fillna(final_filtered_metadata['Age [sample]']).fillna(final_filtered_metadata['Age years [sample]']).fillna(final_filtered_metadata['Age Corrected [sample]'])\n",
    "\n",
    "final_filtered_metadata.drop('Childage [sample]', axis=1, inplace=True)\n",
    "\n",
    "final_filtered_metadata.drop('Age [sample]', axis=1, inplace=True)\n",
    "\n",
    "final_filtered_metadata.drop('Age years [sample]', axis=1, inplace=True)\n",
    "\n",
    "final_filtered_metadata.drop('Age Corrected [sample]', axis=1, inplace=True)\n",
    "\n",
    "print(len(final_filtered_metadata.columns))"
   ]
  },
  {
   "cell_type": "markdown",
   "metadata": {},
   "source": [
    "Sample ID"
   ]
  },
  {
   "cell_type": "code",
   "execution_count": 58,
   "metadata": {},
   "outputs": [
    {
     "name": "stdout",
     "output_type": "stream",
     "text": [
      "797\n"
     ]
    },
    {
     "name": "stderr",
     "output_type": "stream",
     "text": [
      "/var/folders/yt/1j80yxc14_q516h016m97t8c0000gt/T/ipykernel_1187/1685574894.py:1: SettingWithCopyWarning: \n",
      "A value is trying to be set on a copy of a slice from a DataFrame.\n",
      "Try using .loc[row_indexer,col_indexer] = value instead\n",
      "\n",
      "See the caveats in the documentation: https://pandas.pydata.org/pandas-docs/stable/user_guide/indexing.html#returning-a-view-versus-a-copy\n",
      "  final_filtered_metadata['Sample Id [sample]'] = final_filtered_metadata['Sample Id [sample]'].fillna(final_filtered_metadata['Sample Id Unique [sample]']).fillna(final_filtered_metadata['Sample Name [sample]']).fillna(final_filtered_metadata['Sample name [sample]'])\n",
      "/var/folders/yt/1j80yxc14_q516h016m97t8c0000gt/T/ipykernel_1187/1685574894.py:3: SettingWithCopyWarning: \n",
      "A value is trying to be set on a copy of a slice from a DataFrame\n",
      "\n",
      "See the caveats in the documentation: https://pandas.pydata.org/pandas-docs/stable/user_guide/indexing.html#returning-a-view-versus-a-copy\n",
      "  final_filtered_metadata.drop('Sample Id Unique [sample]', axis=1, inplace=True)\n",
      "/var/folders/yt/1j80yxc14_q516h016m97t8c0000gt/T/ipykernel_1187/1685574894.py:5: SettingWithCopyWarning: \n",
      "A value is trying to be set on a copy of a slice from a DataFrame\n",
      "\n",
      "See the caveats in the documentation: https://pandas.pydata.org/pandas-docs/stable/user_guide/indexing.html#returning-a-view-versus-a-copy\n",
      "  final_filtered_metadata.drop('Sample Name [sample]', axis=1, inplace=True)\n",
      "/var/folders/yt/1j80yxc14_q516h016m97t8c0000gt/T/ipykernel_1187/1685574894.py:7: SettingWithCopyWarning: \n",
      "A value is trying to be set on a copy of a slice from a DataFrame\n",
      "\n",
      "See the caveats in the documentation: https://pandas.pydata.org/pandas-docs/stable/user_guide/indexing.html#returning-a-view-versus-a-copy\n",
      "  final_filtered_metadata.drop('Sample name [sample]', axis=1, inplace=True)\n"
     ]
    }
   ],
   "source": [
    "final_filtered_metadata['Sample Id [sample]'] = final_filtered_metadata['Sample Id [sample]'].fillna(final_filtered_metadata['Sample Id Unique [sample]']).fillna(final_filtered_metadata['Sample Name [sample]']).fillna(final_filtered_metadata['Sample name [sample]'])\n",
    "\n",
    "final_filtered_metadata.drop('Sample Id Unique [sample]', axis=1, inplace=True)\n",
    "\n",
    "final_filtered_metadata.drop('Sample Name [sample]', axis=1, inplace=True)\n",
    "\n",
    "final_filtered_metadata.drop('Sample name [sample]', axis=1, inplace=True)\n",
    "\n",
    "print(len(final_filtered_metadata.columns))"
   ]
  },
  {
   "cell_type": "markdown",
   "metadata": {},
   "source": [
    "Host Disease"
   ]
  },
  {
   "cell_type": "code",
   "execution_count": 61,
   "metadata": {},
   "outputs": [
    {
     "name": "stdout",
     "output_type": "stream",
     "text": [
      "796\n"
     ]
    },
    {
     "name": "stderr",
     "output_type": "stream",
     "text": [
      "/var/folders/yt/1j80yxc14_q516h016m97t8c0000gt/T/ipykernel_1187/2770456401.py:1: SettingWithCopyWarning: \n",
      "A value is trying to be set on a copy of a slice from a DataFrame.\n",
      "Try using .loc[row_indexer,col_indexer] = value instead\n",
      "\n",
      "See the caveats in the documentation: https://pandas.pydata.org/pandas-docs/stable/user_guide/indexing.html#returning-a-view-versus-a-copy\n",
      "  final_filtered_metadata['Host Disease [sample]'] = final_filtered_metadata['Host Disease [sample]'].fillna(final_filtered_metadata['Disease [sample]'])\n",
      "/var/folders/yt/1j80yxc14_q516h016m97t8c0000gt/T/ipykernel_1187/2770456401.py:3: SettingWithCopyWarning: \n",
      "A value is trying to be set on a copy of a slice from a DataFrame\n",
      "\n",
      "See the caveats in the documentation: https://pandas.pydata.org/pandas-docs/stable/user_guide/indexing.html#returning-a-view-versus-a-copy\n",
      "  final_filtered_metadata.drop('Disease [sample]', axis=1, inplace=True)\n"
     ]
    }
   ],
   "source": [
    "final_filtered_metadata['Host Disease [sample]'] = final_filtered_metadata['Host Disease [sample]'].fillna(final_filtered_metadata['Disease [sample]'])\n",
    "\n",
    "final_filtered_metadata.drop('Disease [sample]', axis=1, inplace=True)\n",
    "\n",
    "print(len(final_filtered_metadata.columns))"
   ]
  },
  {
   "cell_type": "markdown",
   "metadata": {},
   "source": [
    "Host Sex"
   ]
  },
  {
   "cell_type": "code",
   "execution_count": 63,
   "metadata": {},
   "outputs": [
    {
     "name": "stdout",
     "output_type": "stream",
     "text": [
      "795\n"
     ]
    },
    {
     "name": "stderr",
     "output_type": "stream",
     "text": [
      "/var/folders/yt/1j80yxc14_q516h016m97t8c0000gt/T/ipykernel_1187/3553119569.py:1: SettingWithCopyWarning: \n",
      "A value is trying to be set on a copy of a slice from a DataFrame.\n",
      "Try using .loc[row_indexer,col_indexer] = value instead\n",
      "\n",
      "See the caveats in the documentation: https://pandas.pydata.org/pandas-docs/stable/user_guide/indexing.html#returning-a-view-versus-a-copy\n",
      "  final_filtered_metadata['Host Sex [sample]'] = final_filtered_metadata['Host Sex [sample]'].fillna(final_filtered_metadata['Sex [sample]'])\n",
      "/var/folders/yt/1j80yxc14_q516h016m97t8c0000gt/T/ipykernel_1187/3553119569.py:3: SettingWithCopyWarning: \n",
      "A value is trying to be set on a copy of a slice from a DataFrame\n",
      "\n",
      "See the caveats in the documentation: https://pandas.pydata.org/pandas-docs/stable/user_guide/indexing.html#returning-a-view-versus-a-copy\n",
      "  final_filtered_metadata.drop('Sex [sample]', axis=1, inplace=True)\n"
     ]
    }
   ],
   "source": [
    "final_filtered_metadata['Host Sex [sample]'] = final_filtered_metadata['Host Sex [sample]'].fillna(final_filtered_metadata['Sex [sample]'])\n",
    "\n",
    "final_filtered_metadata.drop('Sex [sample]', axis=1, inplace=True)\n",
    "\n",
    "print(len(final_filtered_metadata.columns))"
   ]
  },
  {
   "cell_type": "markdown",
   "metadata": {},
   "source": [
    "Timepoint"
   ]
  },
  {
   "cell_type": "code",
   "execution_count": 65,
   "metadata": {},
   "outputs": [
    {
     "name": "stdout",
     "output_type": "stream",
     "text": [
      "794\n"
     ]
    },
    {
     "name": "stderr",
     "output_type": "stream",
     "text": [
      "/var/folders/yt/1j80yxc14_q516h016m97t8c0000gt/T/ipykernel_1187/4245427190.py:1: SettingWithCopyWarning: \n",
      "A value is trying to be set on a copy of a slice from a DataFrame.\n",
      "Try using .loc[row_indexer,col_indexer] = value instead\n",
      "\n",
      "See the caveats in the documentation: https://pandas.pydata.org/pandas-docs/stable/user_guide/indexing.html#returning-a-view-versus-a-copy\n",
      "  final_filtered_metadata['Timepoint [sample]'] = final_filtered_metadata['Timepoint [sample]'].fillna(final_filtered_metadata['Time.point [sample]'])\n",
      "/var/folders/yt/1j80yxc14_q516h016m97t8c0000gt/T/ipykernel_1187/4245427190.py:3: SettingWithCopyWarning: \n",
      "A value is trying to be set on a copy of a slice from a DataFrame\n",
      "\n",
      "See the caveats in the documentation: https://pandas.pydata.org/pandas-docs/stable/user_guide/indexing.html#returning-a-view-versus-a-copy\n",
      "  final_filtered_metadata.drop('Time.point [sample]', axis=1, inplace=True)\n"
     ]
    }
   ],
   "source": [
    "final_filtered_metadata['Timepoint [sample]'] = final_filtered_metadata['Timepoint [sample]'].fillna(final_filtered_metadata['Time.point [sample]'])\n",
    "\n",
    "final_filtered_metadata.drop('Time.point [sample]', axis=1, inplace=True)\n",
    "\n",
    "print(len(final_filtered_metadata.columns))"
   ]
  },
  {
   "cell_type": "markdown",
   "metadata": {},
   "source": [
    "Treatment"
   ]
  },
  {
   "cell_type": "code",
   "execution_count": 66,
   "metadata": {},
   "outputs": [
    {
     "name": "stdout",
     "output_type": "stream",
     "text": [
      "793\n"
     ]
    },
    {
     "name": "stderr",
     "output_type": "stream",
     "text": [
      "/var/folders/yt/1j80yxc14_q516h016m97t8c0000gt/T/ipykernel_1187/131731300.py:1: SettingWithCopyWarning: \n",
      "A value is trying to be set on a copy of a slice from a DataFrame.\n",
      "Try using .loc[row_indexer,col_indexer] = value instead\n",
      "\n",
      "See the caveats in the documentation: https://pandas.pydata.org/pandas-docs/stable/user_guide/indexing.html#returning-a-view-versus-a-copy\n",
      "  final_filtered_metadata['Treatment [sample]'] = final_filtered_metadata['Treatment [sample]'].fillna(final_filtered_metadata['Treatment.arm [sample]'])\n",
      "/var/folders/yt/1j80yxc14_q516h016m97t8c0000gt/T/ipykernel_1187/131731300.py:3: SettingWithCopyWarning: \n",
      "A value is trying to be set on a copy of a slice from a DataFrame\n",
      "\n",
      "See the caveats in the documentation: https://pandas.pydata.org/pandas-docs/stable/user_guide/indexing.html#returning-a-view-versus-a-copy\n",
      "  final_filtered_metadata.drop('Treatment.arm [sample]', axis=1, inplace=True)\n"
     ]
    }
   ],
   "source": [
    "final_filtered_metadata['Treatment [sample]'] = final_filtered_metadata['Treatment [sample]'].fillna(final_filtered_metadata['Treatment.arm [sample]'])\n",
    "\n",
    "final_filtered_metadata.drop('Treatment.arm [sample]', axis=1, inplace=True)\n",
    "\n",
    "print(len(final_filtered_metadata.columns))"
   ]
  },
  {
   "cell_type": "markdown",
   "metadata": {},
   "source": [
    "BMI"
   ]
  },
  {
   "cell_type": "code",
   "execution_count": 67,
   "metadata": {},
   "outputs": [
    {
     "name": "stdout",
     "output_type": "stream",
     "text": [
      "790\n"
     ]
    },
    {
     "name": "stderr",
     "output_type": "stream",
     "text": [
      "/var/folders/yt/1j80yxc14_q516h016m97t8c0000gt/T/ipykernel_1187/3556309207.py:1: SettingWithCopyWarning: \n",
      "A value is trying to be set on a copy of a slice from a DataFrame.\n",
      "Try using .loc[row_indexer,col_indexer] = value instead\n",
      "\n",
      "See the caveats in the documentation: https://pandas.pydata.org/pandas-docs/stable/user_guide/indexing.html#returning-a-view-versus-a-copy\n",
      "  final_filtered_metadata['Bmi [sample]'] = final_filtered_metadata['Bmi [sample]'].fillna(final_filtered_metadata['Bmi Number [run]']).fillna(final_filtered_metadata['Host Bmi [sample]']).fillna(final_filtered_metadata['Host Body Mass Index [sample]'])\n",
      "/var/folders/yt/1j80yxc14_q516h016m97t8c0000gt/T/ipykernel_1187/3556309207.py:3: SettingWithCopyWarning: \n",
      "A value is trying to be set on a copy of a slice from a DataFrame\n",
      "\n",
      "See the caveats in the documentation: https://pandas.pydata.org/pandas-docs/stable/user_guide/indexing.html#returning-a-view-versus-a-copy\n",
      "  final_filtered_metadata.drop('Bmi Number [run]', axis=1, inplace=True)\n",
      "/var/folders/yt/1j80yxc14_q516h016m97t8c0000gt/T/ipykernel_1187/3556309207.py:5: SettingWithCopyWarning: \n",
      "A value is trying to be set on a copy of a slice from a DataFrame\n",
      "\n",
      "See the caveats in the documentation: https://pandas.pydata.org/pandas-docs/stable/user_guide/indexing.html#returning-a-view-versus-a-copy\n",
      "  final_filtered_metadata.drop('Host Bmi [sample]', axis=1, inplace=True)\n",
      "/var/folders/yt/1j80yxc14_q516h016m97t8c0000gt/T/ipykernel_1187/3556309207.py:7: SettingWithCopyWarning: \n",
      "A value is trying to be set on a copy of a slice from a DataFrame\n",
      "\n",
      "See the caveats in the documentation: https://pandas.pydata.org/pandas-docs/stable/user_guide/indexing.html#returning-a-view-versus-a-copy\n",
      "  final_filtered_metadata.drop('Host Body Mass Index [sample]', axis=1, inplace=True)\n"
     ]
    }
   ],
   "source": [
    "final_filtered_metadata['Bmi [sample]'] = final_filtered_metadata['Bmi [sample]'].fillna(final_filtered_metadata['Bmi Number [run]']).fillna(final_filtered_metadata['Host Bmi [sample]']).fillna(final_filtered_metadata['Host Body Mass Index [sample]'])\n",
    "\n",
    "final_filtered_metadata.drop('Bmi Number [run]', axis=1, inplace=True)\n",
    "\n",
    "final_filtered_metadata.drop('Host Bmi [sample]', axis=1, inplace=True)\n",
    "\n",
    "final_filtered_metadata.drop('Host Body Mass Index [sample]', axis=1, inplace=True)\n",
    "\n",
    "print(len(final_filtered_metadata.columns))"
   ]
  },
  {
   "cell_type": "markdown",
   "metadata": {},
   "source": [
    "Smoking"
   ]
  },
  {
   "cell_type": "code",
   "execution_count": 68,
   "metadata": {},
   "outputs": [
    {
     "name": "stdout",
     "output_type": "stream",
     "text": [
      "788\n"
     ]
    },
    {
     "name": "stderr",
     "output_type": "stream",
     "text": [
      "/var/folders/yt/1j80yxc14_q516h016m97t8c0000gt/T/ipykernel_1187/1759545858.py:1: SettingWithCopyWarning: \n",
      "A value is trying to be set on a copy of a slice from a DataFrame.\n",
      "Try using .loc[row_indexer,col_indexer] = value instead\n",
      "\n",
      "See the caveats in the documentation: https://pandas.pydata.org/pandas-docs/stable/user_guide/indexing.html#returning-a-view-versus-a-copy\n",
      "  final_filtered_metadata['Smoking [sample]'] = final_filtered_metadata['Smoking [sample]'].fillna(final_filtered_metadata['Smoker [run]']).fillna(final_filtered_metadata['Smoking Frequency [sample]'])\n",
      "/var/folders/yt/1j80yxc14_q516h016m97t8c0000gt/T/ipykernel_1187/1759545858.py:3: SettingWithCopyWarning: \n",
      "A value is trying to be set on a copy of a slice from a DataFrame\n",
      "\n",
      "See the caveats in the documentation: https://pandas.pydata.org/pandas-docs/stable/user_guide/indexing.html#returning-a-view-versus-a-copy\n",
      "  final_filtered_metadata.drop('Smoker [run]', axis=1, inplace=True)\n",
      "/var/folders/yt/1j80yxc14_q516h016m97t8c0000gt/T/ipykernel_1187/1759545858.py:5: SettingWithCopyWarning: \n",
      "A value is trying to be set on a copy of a slice from a DataFrame\n",
      "\n",
      "See the caveats in the documentation: https://pandas.pydata.org/pandas-docs/stable/user_guide/indexing.html#returning-a-view-versus-a-copy\n",
      "  final_filtered_metadata.drop('Smoking Frequency [sample]', axis=1, inplace=True)\n"
     ]
    }
   ],
   "source": [
    "final_filtered_metadata['Smoking [sample]'] = final_filtered_metadata['Smoking [sample]'].fillna(final_filtered_metadata['Smoker [run]']).fillna(final_filtered_metadata['Smoking Frequency [sample]'])\n",
    "\n",
    "final_filtered_metadata.drop('Smoker [run]', axis=1, inplace=True)\n",
    "\n",
    "final_filtered_metadata.drop('Smoking Frequency [sample]', axis=1, inplace=True)\n",
    "\n",
    "print(len(final_filtered_metadata.columns))"
   ]
  },
  {
   "cell_type": "markdown",
   "metadata": {},
   "source": [
    "Subject ID"
   ]
  },
  {
   "cell_type": "code",
   "execution_count": 70,
   "metadata": {},
   "outputs": [
    {
     "name": "stdout",
     "output_type": "stream",
     "text": [
      "786\n"
     ]
    },
    {
     "name": "stderr",
     "output_type": "stream",
     "text": [
      "/var/folders/yt/1j80yxc14_q516h016m97t8c0000gt/T/ipykernel_1187/3428359655.py:1: SettingWithCopyWarning: \n",
      "A value is trying to be set on a copy of a slice from a DataFrame.\n",
      "Try using .loc[row_indexer,col_indexer] = value instead\n",
      "\n",
      "See the caveats in the documentation: https://pandas.pydata.org/pandas-docs/stable/user_guide/indexing.html#returning-a-view-versus-a-copy\n",
      "  final_filtered_metadata['Subject Id [sample]'] = final_filtered_metadata['Subject Id [sample]'].fillna(final_filtered_metadata['Host Subject Id [sample]']).fillna(final_filtered_metadata['Host subject id [sample]'])\n",
      "/var/folders/yt/1j80yxc14_q516h016m97t8c0000gt/T/ipykernel_1187/3428359655.py:3: SettingWithCopyWarning: \n",
      "A value is trying to be set on a copy of a slice from a DataFrame\n",
      "\n",
      "See the caveats in the documentation: https://pandas.pydata.org/pandas-docs/stable/user_guide/indexing.html#returning-a-view-versus-a-copy\n",
      "  final_filtered_metadata.drop('Host Subject Id [sample]', axis=1, inplace=True)\n",
      "/var/folders/yt/1j80yxc14_q516h016m97t8c0000gt/T/ipykernel_1187/3428359655.py:5: SettingWithCopyWarning: \n",
      "A value is trying to be set on a copy of a slice from a DataFrame\n",
      "\n",
      "See the caveats in the documentation: https://pandas.pydata.org/pandas-docs/stable/user_guide/indexing.html#returning-a-view-versus-a-copy\n",
      "  final_filtered_metadata.drop('Host subject id [sample]', axis=1, inplace=True)\n"
     ]
    }
   ],
   "source": [
    "final_filtered_metadata['Subject Id [sample]'] = final_filtered_metadata['Subject Id [sample]'].fillna(final_filtered_metadata['Host Subject Id [sample]']).fillna(final_filtered_metadata['Host subject id [sample]'])\n",
    "\n",
    "final_filtered_metadata.drop('Host Subject Id [sample]', axis=1, inplace=True)\n",
    "\n",
    "final_filtered_metadata.drop('Host subject id [sample]', axis=1, inplace=True)\n",
    "\n",
    "print(len(final_filtered_metadata.columns))"
   ]
  },
  {
   "cell_type": "markdown",
   "metadata": {},
   "source": [
    "Weight"
   ]
  },
  {
   "cell_type": "code",
   "execution_count": 71,
   "metadata": {},
   "outputs": [
    {
     "name": "stdout",
     "output_type": "stream",
     "text": [
      "785\n"
     ]
    },
    {
     "name": "stderr",
     "output_type": "stream",
     "text": [
      "/var/folders/yt/1j80yxc14_q516h016m97t8c0000gt/T/ipykernel_1187/1505593515.py:1: SettingWithCopyWarning: \n",
      "A value is trying to be set on a copy of a slice from a DataFrame.\n",
      "Try using .loc[row_indexer,col_indexer] = value instead\n",
      "\n",
      "See the caveats in the documentation: https://pandas.pydata.org/pandas-docs/stable/user_guide/indexing.html#returning-a-view-versus-a-copy\n",
      "  final_filtered_metadata['Weight [sample]'] = final_filtered_metadata['Weight [sample]'].fillna(final_filtered_metadata['Weight kg [sample]'])\n",
      "/var/folders/yt/1j80yxc14_q516h016m97t8c0000gt/T/ipykernel_1187/1505593515.py:3: SettingWithCopyWarning: \n",
      "A value is trying to be set on a copy of a slice from a DataFrame\n",
      "\n",
      "See the caveats in the documentation: https://pandas.pydata.org/pandas-docs/stable/user_guide/indexing.html#returning-a-view-versus-a-copy\n",
      "  final_filtered_metadata.drop('Weight kg [sample]', axis=1, inplace=True)\n"
     ]
    }
   ],
   "source": [
    "final_filtered_metadata['Weight [sample]'] = final_filtered_metadata['Weight [sample]'].fillna(final_filtered_metadata['Weight kg [sample]'])\n",
    "\n",
    "final_filtered_metadata.drop('Weight kg [sample]', axis=1, inplace=True)\n",
    "\n",
    "print(len(final_filtered_metadata.columns))"
   ]
  },
  {
   "cell_type": "markdown",
   "metadata": {},
   "source": [
    "Diet"
   ]
  },
  {
   "cell_type": "code",
   "execution_count": 72,
   "metadata": {},
   "outputs": [
    {
     "name": "stdout",
     "output_type": "stream",
     "text": [
      "784\n"
     ]
    },
    {
     "name": "stderr",
     "output_type": "stream",
     "text": [
      "/var/folders/yt/1j80yxc14_q516h016m97t8c0000gt/T/ipykernel_1187/3680933629.py:1: SettingWithCopyWarning: \n",
      "A value is trying to be set on a copy of a slice from a DataFrame.\n",
      "Try using .loc[row_indexer,col_indexer] = value instead\n",
      "\n",
      "See the caveats in the documentation: https://pandas.pydata.org/pandas-docs/stable/user_guide/indexing.html#returning-a-view-versus-a-copy\n",
      "  final_filtered_metadata['Host Diet [sample]'] = final_filtered_metadata['Host Diet [sample]'].fillna(final_filtered_metadata['Diet type [sample]'])\n",
      "/var/folders/yt/1j80yxc14_q516h016m97t8c0000gt/T/ipykernel_1187/3680933629.py:3: SettingWithCopyWarning: \n",
      "A value is trying to be set on a copy of a slice from a DataFrame\n",
      "\n",
      "See the caveats in the documentation: https://pandas.pydata.org/pandas-docs/stable/user_guide/indexing.html#returning-a-view-versus-a-copy\n",
      "  final_filtered_metadata.drop('Diet type [sample]', axis=1, inplace=True)\n"
     ]
    }
   ],
   "source": [
    "final_filtered_metadata['Host Diet [sample]'] = final_filtered_metadata['Host Diet [sample]'].fillna(final_filtered_metadata['Diet type [sample]'])\n",
    "\n",
    "final_filtered_metadata.drop('Diet type [sample]', axis=1, inplace=True)\n",
    "\n",
    "print(len(final_filtered_metadata.columns))"
   ]
  },
  {
   "cell_type": "markdown",
   "metadata": {},
   "source": [
    "Height"
   ]
  },
  {
   "cell_type": "code",
   "execution_count": 73,
   "metadata": {},
   "outputs": [
    {
     "name": "stdout",
     "output_type": "stream",
     "text": [
      "782\n"
     ]
    },
    {
     "name": "stderr",
     "output_type": "stream",
     "text": [
      "/var/folders/yt/1j80yxc14_q516h016m97t8c0000gt/T/ipykernel_1187/488400465.py:1: SettingWithCopyWarning: \n",
      "A value is trying to be set on a copy of a slice from a DataFrame.\n",
      "Try using .loc[row_indexer,col_indexer] = value instead\n",
      "\n",
      "See the caveats in the documentation: https://pandas.pydata.org/pandas-docs/stable/user_guide/indexing.html#returning-a-view-versus-a-copy\n",
      "  final_filtered_metadata['Host Height [sample]'] = final_filtered_metadata['Host Height [sample]'].fillna(final_filtered_metadata['Height [sample]']).fillna(final_filtered_metadata['Height cm [sample]'])\n",
      "/var/folders/yt/1j80yxc14_q516h016m97t8c0000gt/T/ipykernel_1187/488400465.py:3: SettingWithCopyWarning: \n",
      "A value is trying to be set on a copy of a slice from a DataFrame\n",
      "\n",
      "See the caveats in the documentation: https://pandas.pydata.org/pandas-docs/stable/user_guide/indexing.html#returning-a-view-versus-a-copy\n",
      "  final_filtered_metadata.drop('Height [sample]', axis=1, inplace=True)\n",
      "/var/folders/yt/1j80yxc14_q516h016m97t8c0000gt/T/ipykernel_1187/488400465.py:5: SettingWithCopyWarning: \n",
      "A value is trying to be set on a copy of a slice from a DataFrame\n",
      "\n",
      "See the caveats in the documentation: https://pandas.pydata.org/pandas-docs/stable/user_guide/indexing.html#returning-a-view-versus-a-copy\n",
      "  final_filtered_metadata.drop('Height cm [sample]', axis=1, inplace=True)\n"
     ]
    }
   ],
   "source": [
    "final_filtered_metadata['Host Height [sample]'] = final_filtered_metadata['Host Height [sample]'].fillna(final_filtered_metadata['Height [sample]']).fillna(final_filtered_metadata['Height cm [sample]'])\n",
    "\n",
    "final_filtered_metadata.drop('Height [sample]', axis=1, inplace=True)\n",
    "\n",
    "final_filtered_metadata.drop('Height cm [sample]', axis=1, inplace=True)\n",
    "\n",
    "print(len(final_filtered_metadata.columns))"
   ]
  },
  {
   "cell_type": "markdown",
   "metadata": {},
   "source": [
    "Steroids"
   ]
  },
  {
   "cell_type": "code",
   "execution_count": 74,
   "metadata": {},
   "outputs": [
    {
     "name": "stdout",
     "output_type": "stream",
     "text": [
      "781\n"
     ]
    },
    {
     "name": "stderr",
     "output_type": "stream",
     "text": [
      "/var/folders/yt/1j80yxc14_q516h016m97t8c0000gt/T/ipykernel_1187/2597505574.py:1: SettingWithCopyWarning: \n",
      "A value is trying to be set on a copy of a slice from a DataFrame.\n",
      "Try using .loc[row_indexer,col_indexer] = value instead\n",
      "\n",
      "See the caveats in the documentation: https://pandas.pydata.org/pandas-docs/stable/user_guide/indexing.html#returning-a-view-versus-a-copy\n",
      "  final_filtered_metadata['Steroids [sample]'] = final_filtered_metadata['Steroids [sample]'].fillna(final_filtered_metadata['Steroid [run]'])\n",
      "/var/folders/yt/1j80yxc14_q516h016m97t8c0000gt/T/ipykernel_1187/2597505574.py:3: SettingWithCopyWarning: \n",
      "A value is trying to be set on a copy of a slice from a DataFrame\n",
      "\n",
      "See the caveats in the documentation: https://pandas.pydata.org/pandas-docs/stable/user_guide/indexing.html#returning-a-view-versus-a-copy\n",
      "  final_filtered_metadata.drop('Steroid [run]', axis=1, inplace=True)\n"
     ]
    }
   ],
   "source": [
    "final_filtered_metadata['Steroids [sample]'] = final_filtered_metadata['Steroids [sample]'].fillna(final_filtered_metadata['Steroid [run]'])\n",
    "\n",
    "final_filtered_metadata.drop('Steroid [run]', axis=1, inplace=True)\n",
    "\n",
    "print(len(final_filtered_metadata.columns))"
   ]
  },
  {
   "cell_type": "markdown",
   "metadata": {},
   "source": [
    "Antibiotics"
   ]
  },
  {
   "cell_type": "code",
   "execution_count": 76,
   "metadata": {},
   "outputs": [
    {
     "name": "stdout",
     "output_type": "stream",
     "text": [
      "778\n"
     ]
    },
    {
     "name": "stderr",
     "output_type": "stream",
     "text": [
      "/var/folders/yt/1j80yxc14_q516h016m97t8c0000gt/T/ipykernel_1187/870115779.py:1: SettingWithCopyWarning: \n",
      "A value is trying to be set on a copy of a slice from a DataFrame.\n",
      "Try using .loc[row_indexer,col_indexer] = value instead\n",
      "\n",
      "See the caveats in the documentation: https://pandas.pydata.org/pandas-docs/stable/user_guide/indexing.html#returning-a-view-versus-a-copy\n",
      "  final_filtered_metadata['Antibiotics [sample]'] = final_filtered_metadata['Antibiotics [sample]'].fillna(final_filtered_metadata['Antibiotics [run]']).fillna(final_filtered_metadata['Antibiotic [sample]']).fillna(final_filtered_metadata['Antibiotic Use [sample]'])\n",
      "/var/folders/yt/1j80yxc14_q516h016m97t8c0000gt/T/ipykernel_1187/870115779.py:3: SettingWithCopyWarning: \n",
      "A value is trying to be set on a copy of a slice from a DataFrame\n",
      "\n",
      "See the caveats in the documentation: https://pandas.pydata.org/pandas-docs/stable/user_guide/indexing.html#returning-a-view-versus-a-copy\n",
      "  final_filtered_metadata.drop('Antibiotics [run]', axis=1, inplace=True)\n",
      "/var/folders/yt/1j80yxc14_q516h016m97t8c0000gt/T/ipykernel_1187/870115779.py:5: SettingWithCopyWarning: \n",
      "A value is trying to be set on a copy of a slice from a DataFrame\n",
      "\n",
      "See the caveats in the documentation: https://pandas.pydata.org/pandas-docs/stable/user_guide/indexing.html#returning-a-view-versus-a-copy\n",
      "  final_filtered_metadata.drop('Antibiotic [sample]', axis=1, inplace=True)\n",
      "/var/folders/yt/1j80yxc14_q516h016m97t8c0000gt/T/ipykernel_1187/870115779.py:7: SettingWithCopyWarning: \n",
      "A value is trying to be set on a copy of a slice from a DataFrame\n",
      "\n",
      "See the caveats in the documentation: https://pandas.pydata.org/pandas-docs/stable/user_guide/indexing.html#returning-a-view-versus-a-copy\n",
      "  final_filtered_metadata.drop('Antibiotic Use [sample]', axis=1, inplace=True)\n"
     ]
    }
   ],
   "source": [
    "final_filtered_metadata['Antibiotics [sample]'] = final_filtered_metadata['Antibiotics [sample]'].fillna(final_filtered_metadata['Antibiotics [run]']).fillna(final_filtered_metadata['Antibiotic [sample]']).fillna(final_filtered_metadata['Antibiotic Use [sample]'])\n",
    "\n",
    "final_filtered_metadata.drop('Antibiotics [run]', axis=1, inplace=True)\n",
    "\n",
    "final_filtered_metadata.drop('Antibiotic [sample]', axis=1, inplace=True)\n",
    "\n",
    "final_filtered_metadata.drop('Antibiotic Use [sample]', axis=1, inplace=True)\n",
    "\n",
    "print(len(final_filtered_metadata.columns))"
   ]
  },
  {
   "cell_type": "markdown",
   "metadata": {},
   "source": [
    "### Reduce Number of Columns\n",
    "\n",
    "Now I will exclude all columns except those that we decided to keep."
   ]
  },
  {
   "cell_type": "code",
   "execution_count": 77,
   "metadata": {},
   "outputs": [],
   "source": [
    "columns_to_keep = pd.read_csv('/Users/svenst/Documents/qiime2-wrkdir/global-gutfungi/Metadata/final-columns.tsv', header=None, sep='\\t').iloc[:, 0].tolist()"
   ]
  },
  {
   "cell_type": "code",
   "execution_count": 78,
   "metadata": {},
   "outputs": [],
   "source": [
    "# Filter to keep only the columns in the list that are also in the DataFrame\n",
    "final_filtered_metadata = final_filtered_metadata[final_filtered_metadata.columns.intersection(columns_to_keep)]"
   ]
  },
  {
   "cell_type": "code",
   "execution_count": 79,
   "metadata": {},
   "outputs": [
    {
     "name": "stdout",
     "output_type": "stream",
     "text": [
      "Remaining columns in DataFrame: ['ID', 'Bioproject ID', 'Experiment ID', 'Biosample ID', 'Study ID', 'Sample Accession', 'Organism', 'Library Source', 'Library Layout', 'Library Selection', 'Instrument', 'Platform', 'Alcohol Frequency [sample]', 'Alcohol consumption [sample]', 'Anonymized name [sample]', 'Antibiotic History [sample]', 'Autoimmune [sample]', 'Birth year [sample]', 'Bmi Cat [sample]', 'Bmi Corrected [sample]', 'Bmi [sample]', 'Country of birth [sample]', 'Csection [sample]', 'Drinking Water Source [sample]', 'Fed As Infant [sample]', 'Height Units [sample]', 'Host taxid [sample]', 'Ibs [sample]', 'Latitude [sample]', 'Library Name', 'Longitude [sample]', 'Name', 'Orig Sample Name [experiment]', 'Pcr Primers [experiment]', 'Race [sample]', 'State [sample]', 'Submitter id [sample]', 'Target Gene [experiment]', 'Target Subfragment [experiment]', 'Tax ID', 'Types Of Plants [sample]', 'Vegetable Frequency [sample]', 'Weight Units [sample]', 'Collection Date [sample]', 'Env Broad Scale [sample]', 'Env Local Scale [sample]', 'Geo Loc Name [sample]', 'Host [sample]', 'Host Age [sample]', 'Host Sex [sample]', 'Investigation type [sample]', 'Scientific Name [sample]', 'Sequencing method [sample]', 'Common name [sample]', 'Irritable bowel syndrome (ibs) [study]', 'Environmental package [sample]', 'Env Biome [sample]', 'Env Feature [sample]', 'Sample Prefix [sample]', 'Ethnicity [sample]', 'Host Disease [sample]', 'Timepoint [sample]', 'Day [sample]', 'Patient Id [sample]', 'Sample Id [sample]', 'Time [sample]', 'Smoking [sample]', 'Gastrointest Disord [sample]', 'Treatment [sample]', 'Source Material Id [sample]', 'Age Solid Food Intro [sample]', 'Agegp 3 [sample]', 'Agegp [sample]', 'Antibiotics [sample]', 'Antibioticsixmonths [sample]', 'Child Breastfed [sample]', 'Drinkingwater [sample]', 'Exclusively Breastfed [sample]', 'Hospitalised First 6mnths [sample]', 'Housinginfrastructure [sample]', 'How Long Breastfed [sample]', 'How Was The Child Born [sample]', 'Months Child Breastfed [sample]', 'Pet In Household [sample]', 'Poorgrowth [sample]', 'Prem Birth [sample]', 'Storage Method [sample]', 'Age Categories [run]', 'Diabetes Mellitus [run]', 'Diarrhea [run]', 'Inflammatory Bowel Disease [run]', 'Sample Or Control [run]', 'Sex [run]', 'Host Height [sample]', 'Code [sample]', 'Animal Contact [sample]', 'Bristol Stool Scale [sample]', 'Delivery Mode [sample]', 'Drinking [sample]', 'Subject Id [sample]', 'Weight [sample]']\n"
     ]
    }
   ],
   "source": [
    "# Print the columns of the DataFrame to verify\n",
    "print(\"Remaining columns in DataFrame:\", final_filtered_metadata.columns.tolist())"
   ]
  },
  {
   "cell_type": "markdown",
   "metadata": {},
   "source": [
    "### Final Analysis"
   ]
  },
  {
   "cell_type": "code",
   "execution_count": 80,
   "metadata": {},
   "outputs": [
    {
     "name": "stdout",
     "output_type": "stream",
     "text": [
      "Number of rows: 10460\n",
      "Number of columns: 101\n"
     ]
    }
   ],
   "source": [
    "# Getting the shape of the DataFrame\n",
    "num_rows, num_columns = final_filtered_metadata.shape\n",
    "\n",
    "# Printing the number of rows and columns\n",
    "print(\"Number of rows:\", num_rows)\n",
    "print(\"Number of columns:\", num_columns)\n"
   ]
  },
  {
   "cell_type": "code",
   "execution_count": 81,
   "metadata": {},
   "outputs": [],
   "source": [
    "# Export the DataFrame to a TSV file\n",
    "final_filtered_metadata.to_csv('fungi-project-metadata_final.tsv', sep='\\t', index=False)"
   ]
  }
 ],
 "metadata": {
  "kernelspec": {
   "display_name": "qiime2-amplicon-2024.5",
   "language": "python",
   "name": "python3"
  },
  "language_info": {
   "codemirror_mode": {
    "name": "ipython",
    "version": 3
   },
   "file_extension": ".py",
   "mimetype": "text/x-python",
   "name": "python",
   "nbconvert_exporter": "python",
   "pygments_lexer": "ipython3",
   "version": "3.8.18"
  }
 },
 "nbformat": 4,
 "nbformat_minor": 2
}
