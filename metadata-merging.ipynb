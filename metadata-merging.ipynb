{
 "cells": [
  {
   "cell_type": "code",
   "execution_count": 3,
   "metadata": {},
   "outputs": [
    {
     "name": "stdout",
     "output_type": "stream",
     "text": [
      "['CNP0002114', 'AGP-paper_29795809', 'scfa-paper_34234185', 'crohns-paper_37122605', 'autism-paper_35966698', 'PRJCA010668', 'PRJDB13192', 'PRJDB5316', 'PRJEB25916', 'PRJEB29083', 'PRJEB33756', 'PRJEB34790', 'PRJEB35665', 'PRJEB37810', 'PRJEB38917', 'PRJEB38930', 'PRJEB42375', 'PRJEB42596', 'PRJEB46343', 'PRJEB50185', 'PRJEB50377', 'PRJEB53019', 'PRJEB59212', 'PRJEB61825', 'PRJNA271113', 'PRJNA356769', 'PRJNA379437', 'PRJNA419104', 'PRJNA478949', 'PRJNA517994', 'PRJNA541490', 'PRJNA557226', 'PRJNA565097', 'PRJNA579121', 'PRJNA579284', 'PRJNA589500', 'PRJNA590898', 'PRJNA607176', 'PRJNA627184', 'PRJNA637034', 'PRJNA647266', 'PRJNA655569', 'PRJNA662173', 'PRJNA668386', 'PRJNA668745', 'PRJNA670323', 'PRJNA676148', 'PRJNA686661', 'PRJNA692358', 'PRJNA698272', 'PRJNA703732', 'PRJNA715947', 'PRJNA735021', 'PRJNA746305', 'PRJNA746557', 'PRJNA751473', 'PRJNA756382', 'PRJNA778607', 'PRJNA791216', 'PRJNA794154', 'PRJNA813503', 'PRJNA814728', 'PRJNA833950', 'PRJNA834584', 'PRJNA850895', 'PRJNA935155', 'PRJNA987148']\n"
     ]
    }
   ],
   "source": [
    "import os\n",
    "import csv\n",
    "import subprocess\n",
    "import pandas as pd\n",
    "import numpy as np\n",
    "import matplotlib.pyplot as plt\n",
    "import shutil\n",
    "import csv\n",
    "\n",
    "# Path to your TSV file\n",
    "file_path = 'path/to/tsv'\n",
    "\n",
    "# List to hold the project IDs\n",
    "project_ids = []\n",
    "\n",
    "# Open the file and read it\n",
    "with open(file_path, newline='') as file:\n",
    "    reader = csv.reader(file, delimiter='\\t')\n",
    "    for row in reader:\n",
    "        # Assuming the project ID is in the first column\n",
    "        project_ids.append(row[0])\n",
    "\n",
    "print(project_ids)"
   ]
  },
  {
   "cell_type": "markdown",
   "metadata": {},
   "source": [
    "The metadata files seem to be corrupted or have other problems so I need to re-import them.\n",
    "\n",
    "First I need to get the accession IDs:"
   ]
  },
  {
   "cell_type": "code",
   "execution_count": 8,
   "metadata": {},
   "outputs": [
    {
     "name": "stdout",
     "output_type": "stream",
     "text": [
     ]
    }
   ],
   "source": [
    "for project in project_ids:\n",
    "    input_tsv = f'/Volumes/ANTONS/GLOBAL-GUT-FUNGI/Sven-data/final/{project}/{project}-ids.tsv.txt'\n",
    "\n",
    "    if os.path.isfile(input_tsv):\n",
    "        # Path for the exported file\n",
    "        export_qza = f'/Users/svenst/Documents/qiime2-wrkdir/global-gutfungi/Metadata/accession-ids/{project}-ids.qza'\n",
    "        \n",
    "        # QIIME 2 command to export the metadata.qza file to a tsv file\n",
    "        accession_cmd = [\n",
    "            'qiime',\n",
    "            'tools',\n",
    "            'import',\n",
    "            '--type', 'NCBIAccessionIDs',\n",
    "            '--input-path', input_tsv,\n",
    "            '--output-path', export_qza\n",
    "        ]\n",
    "        subprocess.run(accession_cmd, check=True)\n",
    "        print(f\"Imported {project} IDs to {export_qza}\")\n",
    "    else:\n",
    "        print(f\"Accession IDs File for {project} does not exist.\")\n",
    "\n",
    "print(\"Process completed.\")"
   ]
  },
  {
   "cell_type": "markdown",
   "metadata": {},
   "source": [
    "I will re-fetch the metadata based on the accession IDs and will exclude all non-ITS or shotgun samples after the merging step."
   ]
  },
  {
   "cell_type": "code",
   "execution_count": 10,
   "metadata": {},
   "outputs": [
    {
     "name": "stdout",
     "output_type": "stream",
     "text": [
     ]
    }
   ],
   "source": [
    "for project in project_ids:\n",
    "    input_qza = f'/Users/svenst/Documents/qiime2-wrkdir/global-gutfungi/Metadata/accession-ids/{project}-ids.qza'\n",
    "\n",
    "    if os.path.isfile(input_qza):\n",
    "        # Path for the exported file\n",
    "        output_metadata = f'/Users/svenst/Documents/qiime2-wrkdir/global-gutfungi/Metadata/metadata-files/{project}-metadata.qza'\n",
    "        output_failed_ids = f'/Users/svenst/Documents/qiime2-wrkdir/global-gutfungi/Metadata/metadata-files/{project}-failed-IDs.qza'\n",
    "        \n",
    "        # QIIME 2 command to export the metadata.qza file to a tsv file\n",
    "        accession_cmd = [\n",
    "            'qiime',\n",
    "            'fondue',\n",
    "            'get-metadata',\n",
    "            '--i-accession-ids', input_qza,\n",
    "            '--p-n-jobs', '1',\n",
    "            '--p-email', 'sven.stoltenberg@hest.ethz.ch',\n",
    "            '--o-metadata', output_metadata,\n",
    "            '--o-failed-runs', output_failed_ids\n",
    "        ]\n",
    "        subprocess.run(accession_cmd, check=True)\n",
    "        print(f\"Imported {project} metadata to {output_metadata}\")\n",
    "    else:\n",
    "        print(f\"Accession IDs File for {project} does not exist.\")\n",
    "\n",
    "print(\"Process completed.\")"
   ]
  },
  {
   "cell_type": "code",
   "execution_count": 4,
   "metadata": {},
   "outputs": [
    {
     "name": "stdout",
     "output_type": "stream",
     "text": [
     ]
    }
   ],
   "source": [
    "import subprocess\n",
    "\n",
    "# Loop through each project ID and handle the failed-IDs.qza\n",
    "for project in project_ids:\n",
    "    failed_ids_qza = f'/Users/svenst/Documents/qiime2-wrkdir/global-gutfungi/Metadata/metadata-files/{project}-failed-IDs.qza'\n",
    "    output_failed_ids_tsv = f'/Users/svenst/Documents/qiime2-wrkdir/global-gutfungi/Metadata/metadata-files/{project}-failed-IDs.tsv'\n",
    "    \n",
    "    if os.path.isfile(failed_ids_qza):\n",
    "        # Command to export QZA to TSV\n",
    "        export_cmd = [\n",
    "            'qiime',\n",
    "            'tools',\n",
    "            'export',\n",
    "            '--input-path', failed_ids_qza,\n",
    "            '--output-path', output_failed_ids_tsv  # Make sure this path is to a directory, not a file\n",
    "        ]\n",
    "        subprocess.run(export_cmd, check=True)\n",
    "        print(f\"Exported failed IDs for {project} to {output_failed_ids_tsv}\")\n",
    "    else:\n",
    "        print(f\"Failed IDs file for {project} does not exist.\")\n",
    "\n",
    "print(\"Failed IDs export process completed.\")\n"
   ]
  },
  {
   "cell_type": "markdown",
   "metadata": {},
   "source": [
    "### Additional Steps for American Gut Project Paper"
   ]
  },
  {
   "cell_type": "code",
   "execution_count": 14,
   "metadata": {},
   "outputs": [
    {
     "name": "stdout",
     "output_type": "stream",
     "text": [
      "\u001b[32mImported /Volumes/ANTONS/GLOBAL-GUT-FUNGI/Sven-data/final/AGP-paper_29795809/AGP-paper_29795809-ids.tsv as NCBIAccessionIDsDirFmt to /Users/svenst/Documents/qiime2-wrkdir/global-gutfungi/Metadata/accession-ids/AGP-paper_29795809-ids.qza\u001b[0m\n"
     ]
    }
   ],
   "source": [
    "!qiime tools import \\\n",
    "    --type NCBIAccessionIDs \\\n",
    "    --input-path /Volumes/ANTONS/GLOBAL-GUT-FUNGI/Sven-data/final/AGP-paper_29795809/AGP-paper_29795809-ids.tsv \\\n",
    "    --output-path /Users/svenst/Documents/qiime2-wrkdir/global-gutfungi/Metadata/accession-ids/AGP-paper_29795809-ids.qza"
   ]
  },
  {
   "cell_type": "code",
   "execution_count": 15,
   "metadata": {},
   "outputs": [
    {
     "name": "stdout",
     "output_type": "stream",
     "text": [
      "\u001b[32mSaved SRAMetadata to: /Users/svenst/Documents/qiime2-wrkdir/global-gutfungi/Metadata/metadata-files/AGP-paper_29795809-metadata.qza\u001b[0m\n",
      "\u001b[32mSaved SRAFailedIDs to: /Users/svenst/Documents/qiime2-wrkdir/global-gutfungi/Metadata/metadata-files/AGP-paper_29795809-failed-IDs.qza\u001b[0m\n"
     ]
    }
   ],
   "source": [
    "!qiime fondue get-metadata \\\n",
    "    --i-accession-ids /Users/svenst/Documents/qiime2-wrkdir/global-gutfungi/Metadata/accession-ids/AGP-paper_29795809-ids.qza \\\n",
    "    --p-n-jobs 1 \\\n",
    "    --p-email sven.stoltenberg@hest.ethz.ch \\\n",
    "    --o-metadata /Users/svenst/Documents/qiime2-wrkdir/global-gutfungi/Metadata/metadata-files/AGP-paper_29795809-metadata.qza \\\n",
    "    --o-failed-runs /Users/svenst/Documents/qiime2-wrkdir/global-gutfungi/Metadata/metadata-files/AGP-paper_29795809-failed-IDs.qza"
   ]
  },
  {
   "cell_type": "markdown",
   "metadata": {},
   "source": [
    "Now I will export the qza-files to tsv-format so that I can then merge them with all non-SRA metadata files."
   ]
  },
  {
   "cell_type": "code",
   "execution_count": 12,
   "metadata": {},
   "outputs": [
    {
     "name": "stdout",
     "output_type": "stream",
     "text": [
     ]
    }
   ],
   "source": [
    "for project in project_ids:\n",
    "    metadata_qza = f'/Users/svenst/Documents/qiime2-wrkdir/global-gutfungi/Metadata/metadata-files/{project}-metadata.qza'\n",
    "\n",
    "    if os.path.isfile(metadata_qza):\n",
    "        exported_tsv = f'/Users/svenst/Documents/qiime2-wrkdir/global-gutfungi/Metadata/metadata-files/{project}-metadata'\n",
    "\n",
    "        export_cmd = [\n",
    "            'qiime',\n",
    "            'tools',\n",
    "            'export',\n",
    "            '--input-path', metadata_qza,\n",
    "            '--output-path', exported_tsv\n",
    "        ]\n",
    "        subprocess.run(export_cmd, check=True)\n",
    "        print(f\"Exported {project} metadata to {exported_tsv}\")\n",
    "    else:\n",
    "        print(f\"QZA-File for {project} does not exist.\")"
   ]
  },
  {
   "cell_type": "code",
   "execution_count": 16,
   "metadata": {},
   "outputs": [
    {
     "name": "stdout",
     "output_type": "stream",
     "text": [
      "\u001b[32mExported /Users/svenst/Documents/qiime2-wrkdir/global-gutfungi/Metadata/metadata-files/AGP-paper_29795809-metadata.qza as SRAMetadataDirFmt to directory /Users/svenst/Documents/qiime2-wrkdir/global-gutfungi/Metadata/metadata-files/AGP-paper_29795809-metadata\u001b[0m\n"
     ]
    }
   ],
   "source": [
    "!qiime tools export \\\n",
    "    --input-path /Users/svenst/Documents/qiime2-wrkdir/global-gutfungi/Metadata/metadata-files/AGP-paper_29795809-metadata.qza \\\n",
    "    --output-path /Users/svenst/Documents/qiime2-wrkdir/global-gutfungi/Metadata/metadata-files/AGP-paper_29795809-metadata"
   ]
  },
  {
   "cell_type": "code",
   "execution_count": 25,
   "metadata": {},
   "outputs": [
    {
     "name": "stdout",
     "output_type": "stream",
     "text": [
      "All metadata has been merged and saved to 'combined_metadata.tsv'.\n"
     ]
    }
   ],
   "source": [
    "merged_metadata = []\n",
    "all_columns = set()  # A set to track all columns across files\n",
    "\n",
    "for project in project_ids:\n",
    "    # Load the exported metadata files\n",
    "    path = f'/Users/svenst/Documents/qiime2-wrkdir/global-gutfungi/Metadata/metadata-files/{project}-metadata/sra-metadata.tsv'\n",
    "    df = pd.read_csv(path, sep='\\t', index_col='ID')\n",
    "    \n",
    "    # Add the project ID to each row\n",
    "    df['Bioproject ID'] = project\n",
    "    \n",
    "    # Append the DataFrame to the list\n",
    "    merged_metadata.append(df)\n",
    "\n",
    "# Combine all DataFrames into one, aligning on columns\n",
    "combined_df = pd.concat(merged_metadata, axis=0, join='outer', sort=False)\n",
    "\n",
    "# Save the combined DataFrame to TSV\n",
    "combined_df.to_csv('combined_metadata.tsv', sep='\\t')\n",
    "\n",
    "print(\"All metadata has been merged and saved to 'combined_metadata.tsv'.\")"
   ]
  },
  {
   "cell_type": "markdown",
   "metadata": {},
   "source": [
    "There are still some projects left that need to be excluded. I will exclude all those that are not part of my list."
   ]
  },
  {
   "cell_type": "code",
   "execution_count": 2,
   "metadata": {},
   "outputs": [
    {
     "name": "stderr",
     "output_type": "stream",
     "text": [
     ]
    }
   ],
   "source": [
    "import pandas as pd\n",
    "\n",
    "# Load the metadata file\n",
    "metadata_df = pd.read_csv('/Users/svenst/Documents/qiime2-wrkdir/global-gutfungi/Metadata/combined_metadata.tsv', sep='\\t')\n",
    "\n",
    "# Load the allowed Bioproject IDs\n",
    "allowed_ids_df = pd.read_csv('/Users/svenst/Documents/qiime2-wrkdir/global-gutfungi/Metadata/final-projects.tsv', sep='\\t', header=None)\n",
    "allowed_ids = set(allowed_ids_df[0])  # Assuming IDs are in the first column\n",
    "\n",
    "# Filter the metadata to include only rows with Bioproject IDs that are in the allowed list\n",
    "filtered_metadata = metadata_df[metadata_df['Bioproject ID'].isin(allowed_ids)]\n",
    "\n",
    "# Save the filtered data back to a new TSV file\n",
    "filtered_metadata.to_csv('combined_metadata_2.tsv', sep='\\t', index=False)\n"
   ]
  },
  {
   "cell_type": "markdown",
   "metadata": {},
   "source": [
    "Here I will exclude Run IDs that are non-ITS and the negative control, mock and extraction blanks from the scfa-paper."
   ]
  },
  {
   "cell_type": "code",
   "execution_count": 3,
   "metadata": {},
   "outputs": [],
   "source": [
    "# Load the exclusion list of IDs\n",
    "exclusion_ids_df = pd.read_csv('/Users/svenst/Documents/qiime2-wrkdir/global-gutfungi/Metadata/exclusion-ids.tsv', sep='\\t', header=None)\n",
    "exclusion_ids = set(exclusion_ids_df[0])  # Assuming IDs are in the first column\n",
    "\n",
    "# Exclude rows based on the exclusion list of IDs\n",
    "final_filtered_metadata = filtered_metadata[~filtered_metadata['ID'].isin(exclusion_ids)]\n",
    "\n",
    "# Save the final filtered data back to a new TSV file\n",
    "final_filtered_metadata.to_csv('/Users/svenst/Documents/qiime2-wrkdir/global-gutfungi/Metadata/final_filtered_metadata.tsv', sep='\\t', index=False)"
   ]
  },
  {
   "cell_type": "markdown",
   "metadata": {},
   "source": [
    "Now I need to inspect the columns and their content in order to be able to merge all columns that contain the same information but under different names."
   ]
  },
  {
   "cell_type": "code",
   "execution_count": 4,
   "metadata": {},
   "outputs": [
    {
     "name": "stdout",
     "output_type": "stream",
     "text": [
      "831\n"
     ]
    }
   ],
   "source": [
    "print(len(final_filtered_metadata.columns))"
   ]
  },
  {
   "cell_type": "code",
   "execution_count": 5,
   "metadata": {},
   "outputs": [
    {
     "name": "stdout",
     "output_type": "stream",
     "text": [
     ]
    }
   ],
   "source": [
    "# Get the unique project IDs\n",
    "unique_ids = final_filtered_metadata['Bioproject ID'].unique()\n",
    "\n",
    "# Count the number of unique project IDs\n",
    "num_unique_ids = final_filtered_metadata['Bioproject ID'].nunique()\n",
    "\n",
    "# Print the number of unique project IDs\n",
    "print(f\"Number of unique project IDs: {num_unique_ids}\")\n",
    "\n",
    "# Print the unique project IDs\n",
    "print(\"Unique project IDs:\", unique_ids)"
   ]
  },
  {
   "cell_type": "code",
   "execution_count": 8,
   "metadata": {},
   "outputs": [],
   "source": [
    "columns = final_filtered_metadata.columns.tolist()\n",
    "\n",
    "columns_df = pd.DataFrame([columns])\n",
    "\n",
    "columns_df.to_csv('columns.tsv', sep='\\t')"
   ]
  },
  {
   "cell_type": "markdown",
   "metadata": {},
   "source": [
    "### Merging Columns:"
   ]
  },
  {
   "cell_type": "markdown",
   "metadata": {},
   "source": [
    "Bioproject ID"
   ]
  },
  {
   "cell_type": "code",
   "execution_count": 11,
   "metadata": {},
   "outputs": [
    {
     "ename": "KeyError",
     "evalue": "'Bioproject Number [sample]'",
     "output_type": "error",
     "traceback": [
     ]
    }
   ],
   "source": [
    "final_filtered_metadata['Bioproject ID'] = final_filtered_metadata['Bioproject ID'].fillna(final_filtered_metadata['Bioproject Number [sample]'])\n",
    "\n",
    "final_filtered_metadata.drop('Bioproject Number [sample]', axis=1, inplace=True)\n",
    "\n",
    "print(len(final_filtered_metadata.columns))"
   ]
  },
  {
   "cell_type": "markdown",
   "metadata": {},
   "source": [
    "Organism"
   ]
  },
  {
   "cell_type": "code",
   "execution_count": 9,
   "metadata": {},
   "outputs": [
    {
     "name": "stderr",
     "output_type": "stream",
     "text": [
     ]
    }
   ],
   "source": [
    "final_filtered_metadata['Organism'] = final_filtered_metadata['Organism'].fillna(final_filtered_metadata['Organism [run]'])\n",
    "\n",
    "final_filtered_metadata.drop('Organism [run]', axis=1, inplace=True)\n",
    "\n",
    "print(len(final_filtered_metadata.columns))"
   ]
  },
  {
   "cell_type": "markdown",
   "metadata": {},
   "source": [
    "Library Source"
   ]
  },
  {
   "cell_type": "code",
   "execution_count": 12,
   "metadata": {},
   "outputs": [
    {
     "name": "stdout",
     "output_type": "stream",
     "text": [
      "828\n"
     ]
    },
    {
     "name": "stderr",
     "output_type": "stream",
     "text": [
     ]
    }
   ],
   "source": [
    "final_filtered_metadata['Library Source'] = final_filtered_metadata['Library Source'].fillna(final_filtered_metadata['Library Source [sample]'])\n",
    "\n",
    "final_filtered_metadata.drop('Library Source [sample]', axis=1, inplace=True)\n",
    "\n",
    "print(len(final_filtered_metadata.columns))"
   ]
  },
  {
   "cell_type": "markdown",
   "metadata": {},
   "source": [
    "Library Layout"
   ]
  },
  {
   "cell_type": "code",
   "execution_count": 13,
   "metadata": {},
   "outputs": [
    {
     "name": "stdout",
     "output_type": "stream",
     "text": [
      "827\n"
     ]
    },
    {
     "name": "stderr",
     "output_type": "stream",
     "text": [
     ]
    }
   ],
   "source": [
    "final_filtered_metadata['Library Layout'] = final_filtered_metadata['Library Layout'].fillna(final_filtered_metadata['Library Layout [sample]'])\n",
    "\n",
    "final_filtered_metadata.drop('Library Layout [sample]', axis=1, inplace=True)\n",
    "\n",
    "print(len(final_filtered_metadata.columns))"
   ]
  },
  {
   "cell_type": "markdown",
   "metadata": {},
   "source": [
    "Library Selection"
   ]
  },
  {
   "cell_type": "code",
   "execution_count": 19,
   "metadata": {},
   "outputs": [
    {
     "name": "stdout",
     "output_type": "stream",
     "text": [
      "826\n"
     ]
    },
    {
     "name": "stderr",
     "output_type": "stream",
     "text": [
     ]
    }
   ],
   "source": [
    "final_filtered_metadata['Library Selection'] = final_filtered_metadata['Library Selection'].fillna(final_filtered_metadata['Library Selection [sample]'])\n",
    "\n",
    "final_filtered_metadata.drop('Library Selection [sample]', axis=1, inplace=True)\n",
    "\n",
    "print(len(final_filtered_metadata.columns))"
   ]
  },
  {
   "cell_type": "markdown",
   "metadata": {},
   "source": [
    "Instrument"
   ]
  },
  {
   "cell_type": "code",
   "execution_count": 26,
   "metadata": {},
   "outputs": [
    {
     "name": "stdout",
     "output_type": "stream",
     "text": [
      "825\n"
     ]
    },
    {
     "name": "stderr",
     "output_type": "stream",
     "text": [
     ]
    }
   ],
   "source": [
    "final_filtered_metadata['Instrument'] = final_filtered_metadata['Instrument'].fillna(final_filtered_metadata['Instrument Model [sample]'])\n",
    "\n",
    "final_filtered_metadata.drop('Instrument Model [sample]', axis=1, inplace=True)\n",
    "\n",
    "print(len(final_filtered_metadata.columns))"
   ]
  },
  {
   "cell_type": "markdown",
   "metadata": {},
   "source": [
    "Platform"
   ]
  },
  {
   "cell_type": "code",
   "execution_count": 28,
   "metadata": {},
   "outputs": [
    {
     "name": "stdout",
     "output_type": "stream",
     "text": [
      "824\n"
     ]
    },
    {
     "name": "stderr",
     "output_type": "stream",
     "text": [
     ]
    }
   ],
   "source": [
    "final_filtered_metadata['Platform'] = final_filtered_metadata['Platform'].fillna(final_filtered_metadata['Platform [sample]'])\n",
    "\n",
    "final_filtered_metadata.drop('Platform [sample]', axis=1, inplace=True)\n",
    "\n",
    "print(len(final_filtered_metadata.columns))"
   ]
  },
  {
   "cell_type": "markdown",
   "metadata": {},
   "source": [
    "Center Name"
   ]
  },
  {
   "cell_type": "code",
   "execution_count": 33,
   "metadata": {},
   "outputs": [
    {
     "name": "stdout",
     "output_type": "stream",
     "text": [
      "823\n"
     ]
    },
    {
     "name": "stderr",
     "output_type": "stream",
     "text": [
     ]
    }
   ],
   "source": [
    "final_filtered_metadata['Center Name'] = final_filtered_metadata['Center Name'].fillna(final_filtered_metadata['Insdc center name [sample]'])\n",
    "\n",
    "final_filtered_metadata.drop('Insdc center name [sample]', axis=1, inplace=True)\n",
    "\n",
    "print(len(final_filtered_metadata.columns))"
   ]
  },
  {
   "cell_type": "markdown",
   "metadata": {},
   "source": [
    "Collection Date"
   ]
  },
  {
   "cell_type": "code",
   "execution_count": 39,
   "metadata": {},
   "outputs": [
    {
     "name": "stdout",
     "output_type": "stream",
     "text": [
      "820\n"
     ]
    },
    {
     "name": "stderr",
     "output_type": "stream",
     "text": [
     ]
    }
   ],
   "source": [
    "final_filtered_metadata['Collection Date [sample]'] = final_filtered_metadata['Collection Date [sample]'].fillna(final_filtered_metadata['Collection date [sample]']).fillna(final_filtered_metadata['Collect date [sample]']).fillna(final_filtered_metadata['Collection Date [run]'])\n",
    "\n",
    "final_filtered_metadata.drop('Collection date [sample]', axis=1, inplace=True)\n",
    "\n",
    "final_filtered_metadata.drop('Collect date [sample]', axis=1, inplace=True)\n",
    "\n",
    "final_filtered_metadata.drop('Collection Date [run]', axis=1, inplace=True)\n",
    "\n",
    "print(len(final_filtered_metadata.columns))"
   ]
  },
  {
   "cell_type": "markdown",
   "metadata": {},
   "source": [
    "Geo Loc Name"
   ]
  },
  {
   "cell_type": "code",
   "execution_count": 40,
   "metadata": {},
   "outputs": [
    {
     "name": "stdout",
     "output_type": "stream",
     "text": [
      "817\n"
     ]
    },
    {
     "name": "stderr",
     "output_type": "stream",
     "text": [
     ]
    }
   ],
   "source": [
    "final_filtered_metadata['Geo Loc Name [sample]'] = final_filtered_metadata['Geo Loc Name [sample]'].fillna(final_filtered_metadata['Geo Loc Name [run]']).fillna(final_filtered_metadata['Geographic location (country and/or sea) [sample]']).fillna(final_filtered_metadata['Country [sample]'])\n",
    "\n",
    "final_filtered_metadata.drop('Geo Loc Name [run]', axis=1, inplace=True)\n",
    "\n",
    "final_filtered_metadata.drop('Geographic location (country and/or sea) [sample]', axis=1, inplace=True)\n",
    "\n",
    "final_filtered_metadata.drop('Country [sample]', axis=1, inplace=True)\n",
    "\n",
    "print(len(final_filtered_metadata.columns))"
   ]
  },
  {
   "cell_type": "markdown",
   "metadata": {},
   "source": [
    "Host"
   ]
  },
  {
   "cell_type": "code",
   "execution_count": 41,
   "metadata": {},
   "outputs": [
    {
     "name": "stdout",
     "output_type": "stream",
     "text": [
      "815\n"
     ]
    },
    {
     "name": "stderr",
     "output_type": "stream",
     "text": [
     ]
    }
   ],
   "source": [
    "final_filtered_metadata['Host [sample]'] = final_filtered_metadata['Host [sample]'].fillna(final_filtered_metadata['Host [run]']).fillna(final_filtered_metadata['Host common name [sample]'])\n",
    "\n",
    "final_filtered_metadata.drop('Host [run]', axis=1, inplace=True)\n",
    "\n",
    "final_filtered_metadata.drop('Host common name [sample]', axis=1, inplace=True)\n",
    "\n",
    "print(len(final_filtered_metadata.columns))"
   ]
  },
  {
   "cell_type": "markdown",
   "metadata": {},
   "source": [
    "Latitude and Longitude"
   ]
  },
  {
   "cell_type": "code",
   "execution_count": 42,
   "metadata": {},
   "outputs": [
    {
     "name": "stdout",
     "output_type": "stream",
     "text": [
      "Non-NA counts before data manipulation:\n",
      "Lat Lon [sample]                            5947\n",
      "Lat Lon [run]                                 27\n",
      "Geographic location (latitude) [sample]     1187\n",
      "Geographic location (longitude) [sample]    1187\n",
      "Latitude [sample]                            312\n",
      "Longitude [sample]                           312\n",
      "dtype: int64\n"
     ]
    }
   ],
   "source": [
    "import pandas as pd\n",
    "\n",
    "# Assuming 'final_filtered_metadata' is your DataFrame\n",
    "print(\"Non-NA counts before data manipulation:\")\n",
    "print(final_filtered_metadata[['Lat Lon [sample]', 'Lat Lon [run]', 'Geographic location (latitude) [sample]', 'Geographic location (longitude) [sample]', 'Latitude [sample]', 'Longitude [sample]']].notna().sum())\n"
   ]
  },
  {
   "cell_type": "code",
   "execution_count": 47,
   "metadata": {},
   "outputs": [],
   "source": [
    "import pandas as pd\n",
    "import re\n",
    "\n",
    "def extract_and_assign_lat_lon(df, source_col, lat_target_col, lon_target_col):\n",
    "    if source_col in df.columns:\n",
    "        # Function to parse the latitude and longitude\n",
    "        def parse_lat_lon(s):\n",
    "            # Handle the case where coordinates are in '33.607 N 130.418 E' format\n",
    "            match = re.match(r'([+-]?\\d+\\.?\\d*)\\s*([NS])\\s*([+-]?\\d+\\.?\\d*)\\s*([EW])', s)\n",
    "            if match:\n",
    "                lat, lat_dir, lon, lon_dir = match.groups()\n",
    "                lat = float(lat) * (1 if lat_dir == 'N' else -1)\n",
    "                lon = float(lon) * (1 if lon_dir == 'E' else -1)\n",
    "                return lat, lon\n",
    "            # Handle the case where coordinates are in 'latitude, longitude' format\n",
    "            parts = s.split(',')\n",
    "            if len(parts) == 2:\n",
    "                try:\n",
    "                    return float(parts[0].strip()), float(parts[1].strip())\n",
    "                except ValueError:\n",
    "                    return None\n",
    "            return None\n",
    "\n",
    "        # Applying the parsing function to the column\n",
    "        coords = df[source_col].dropna().map(parse_lat_lon)\n",
    "        valid_coords = coords.dropna()\n",
    "\n",
    "        # Splitting the tuples into two separate Series for latitude and longitude\n",
    "        df.loc[valid_coords.index, lat_target_col] = valid_coords.map(lambda x: x[0])\n",
    "        df.loc[valid_coords.index, lon_target_col] = valid_coords.map(lambda x: x[1])\n",
    "\n",
    "# Columns with potential lat and lon information\n",
    "columns_with_lat_lon = ['Lat Lon [sample]', 'Lat Lon [run]']\n",
    "\n",
    "for col in columns_with_lat_lon:\n",
    "    extract_and_assign_lat_lon(final_filtered_metadata, col, 'Latitude [sample]', 'Longitude [sample]')\n"
   ]
  },
  {
   "cell_type": "code",
   "execution_count": 48,
   "metadata": {},
   "outputs": [
    {
     "name": "stdout",
     "output_type": "stream",
     "text": [
      "Non-NA counts after data manipulation:\n",
      "Latitude [sample]     4555\n",
      "Longitude [sample]    4555\n",
      "dtype: int64\n"
     ]
    }
   ],
   "source": [
    "# Check non-NA counts after extraction\n",
    "print(\"Non-NA counts after data manipulation:\")\n",
    "print(final_filtered_metadata[['Latitude [sample]', 'Longitude [sample]']].notna().sum())"
   ]
  },
  {
   "cell_type": "code",
   "execution_count": 49,
   "metadata": {},
   "outputs": [
    {
     "name": "stderr",
     "output_type": "stream",
     "text": [
     ]
    }
   ],
   "source": [
    "final_filtered_metadata.drop(columns=[\n",
    "    'Lat Lon [sample]', \n",
    "    'Lat Lon [run]', \n",
    "    'Geographic location (latitude) [sample]', \n",
    "    'Geographic location (longitude) [sample]'\n",
    "], inplace=True)\n"
   ]
  },
  {
   "cell_type": "markdown",
   "metadata": {},
   "source": [
    "Title"
   ]
  },
  {
   "cell_type": "code",
   "execution_count": 50,
   "metadata": {},
   "outputs": [
    {
     "name": "stdout",
     "output_type": "stream",
     "text": [
      "809\n"
     ]
    },
    {
     "name": "stderr",
     "output_type": "stream",
     "text": [
     ]
    }
   ],
   "source": [
    "final_filtered_metadata['Title'] = final_filtered_metadata['Title'].fillna(final_filtered_metadata['Title [sample]']).fillna(final_filtered_metadata['Sra Title [run]'])\n",
    "\n",
    "final_filtered_metadata.drop('Title [sample]', axis=1, inplace=True)\n",
    "\n",
    "final_filtered_metadata.drop('Sra Title [run]', axis=1, inplace=True)\n",
    "\n",
    "print(len(final_filtered_metadata.columns))"
   ]
  },
  {
   "cell_type": "markdown",
   "metadata": {},
   "source": [
    "Patient ID"
   ]
  },
  {
   "cell_type": "code",
   "execution_count": 51,
   "metadata": {},
   "outputs": [
    {
     "name": "stdout",
     "output_type": "stream",
     "text": [
      "807\n"
     ]
    },
    {
     "name": "stderr",
     "output_type": "stream",
     "text": [
     ]
    }
   ],
   "source": [
    "final_filtered_metadata['Patient Id [sample]'] = final_filtered_metadata['Patient Id [sample]'].fillna(final_filtered_metadata['Patient [sample]']).fillna(final_filtered_metadata['Patientid [sample]'])\n",
    "\n",
    "final_filtered_metadata.drop('Patient [sample]', axis=1, inplace=True)\n",
    "\n",
    "final_filtered_metadata.drop('Patientid [sample]', axis=1, inplace=True)\n",
    "\n",
    "print(len(final_filtered_metadata.columns))"
   ]
  },
  {
   "cell_type": "markdown",
   "metadata": {},
   "source": [
    "Age Categories"
   ]
  },
  {
   "cell_type": "code",
   "execution_count": 52,
   "metadata": {},
   "outputs": [
    {
     "name": "stdout",
     "output_type": "stream",
     "text": [
      "806\n"
     ]
    },
    {
     "name": "stderr",
     "output_type": "stream",
     "text": [
     ]
    }
   ],
   "source": [
    "final_filtered_metadata['Age Categories [run]'] = final_filtered_metadata['Age Categories [run]'].fillna(final_filtered_metadata['Age cat [sample]'])\n",
    "\n",
    "final_filtered_metadata.drop('Age cat [sample]', axis=1, inplace=True)\n",
    "\n",
    "print(len(final_filtered_metadata.columns))"
   ]
  },
  {
   "cell_type": "markdown",
   "metadata": {},
   "source": [
    "Inflammatory Bowel Disease"
   ]
  },
  {
   "cell_type": "code",
   "execution_count": 53,
   "metadata": {},
   "outputs": [
    {
     "name": "stdout",
     "output_type": "stream",
     "text": [
      "805\n"
     ]
    },
    {
     "name": "stderr",
     "output_type": "stream",
     "text": [
     ]
    }
   ],
   "source": [
    "final_filtered_metadata['Inflammatory Bowel Disease [run]'] = final_filtered_metadata['Inflammatory Bowel Disease [run]'].fillna(final_filtered_metadata['Ibd [sample]'])\n",
    "\n",
    "final_filtered_metadata.drop('Ibd [sample]', axis=1, inplace=True)\n",
    "\n",
    "print(len(final_filtered_metadata.columns))"
   ]
  },
  {
   "cell_type": "markdown",
   "metadata": {},
   "source": [
    "Ethnicity"
   ]
  },
  {
   "cell_type": "code",
   "execution_count": 55,
   "metadata": {},
   "outputs": [
    {
     "name": "stdout",
     "output_type": "stream",
     "text": [
      "804\n"
     ]
    },
    {
     "name": "stderr",
     "output_type": "stream",
     "text": [
     ]
    }
   ],
   "source": [
    "final_filtered_metadata['Ethnicity [sample]'] = final_filtered_metadata['Ethnicity [sample]'].fillna(final_filtered_metadata['Ethnicity [run]'])\n",
    "\n",
    "final_filtered_metadata.drop('Ethnicity [run]', axis=1, inplace=True)\n",
    "\n",
    "print(len(final_filtered_metadata.columns))"
   ]
  },
  {
   "cell_type": "markdown",
   "metadata": {},
   "source": [
    "Host Age"
   ]
  },
  {
   "cell_type": "code",
   "execution_count": 57,
   "metadata": {},
   "outputs": [
    {
     "name": "stdout",
     "output_type": "stream",
     "text": [
      "800\n"
     ]
    },
    {
     "name": "stderr",
     "output_type": "stream",
     "text": [
     ]
    }
   ],
   "source": [
    "final_filtered_metadata['Host Age [sample]'] = final_filtered_metadata['Host Age [sample]'].fillna(final_filtered_metadata['Childage [sample]']).fillna(final_filtered_metadata['Age [sample]']).fillna(final_filtered_metadata['Age years [sample]']).fillna(final_filtered_metadata['Age Corrected [sample]'])\n",
    "\n",
    "final_filtered_metadata.drop('Childage [sample]', axis=1, inplace=True)\n",
    "\n",
    "final_filtered_metadata.drop('Age [sample]', axis=1, inplace=True)\n",
    "\n",
    "final_filtered_metadata.drop('Age years [sample]', axis=1, inplace=True)\n",
    "\n",
    "final_filtered_metadata.drop('Age Corrected [sample]', axis=1, inplace=True)\n",
    "\n",
    "print(len(final_filtered_metadata.columns))"
   ]
  },
  {
   "cell_type": "markdown",
   "metadata": {},
   "source": [
    "Sample ID"
   ]
  },
  {
   "cell_type": "code",
   "execution_count": 58,
   "metadata": {},
   "outputs": [
    {
     "name": "stdout",
     "output_type": "stream",
     "text": [
      "797\n"
     ]
    },
    {
     "name": "stderr",
     "output_type": "stream",
     "text": [
     ]
    }
   ],
   "source": [
    "final_filtered_metadata['Sample Id [sample]'] = final_filtered_metadata['Sample Id [sample]'].fillna(final_filtered_metadata['Sample Id Unique [sample]']).fillna(final_filtered_metadata['Sample Name [sample]']).fillna(final_filtered_metadata['Sample name [sample]'])\n",
    "\n",
    "final_filtered_metadata.drop('Sample Id Unique [sample]', axis=1, inplace=True)\n",
    "\n",
    "final_filtered_metadata.drop('Sample Name [sample]', axis=1, inplace=True)\n",
    "\n",
    "final_filtered_metadata.drop('Sample name [sample]', axis=1, inplace=True)\n",
    "\n",
    "print(len(final_filtered_metadata.columns))"
   ]
  },
  {
   "cell_type": "markdown",
   "metadata": {},
   "source": [
    "Host Disease"
   ]
  },
  {
   "cell_type": "code",
   "execution_count": 61,
   "metadata": {},
   "outputs": [
    {
     "name": "stdout",
     "output_type": "stream",
     "text": [
      "796\n"
     ]
    },
    {
     "name": "stderr",
     "output_type": "stream",
     "text": [
     ]
    }
   ],
   "source": [
    "final_filtered_metadata['Host Disease [sample]'] = final_filtered_metadata['Host Disease [sample]'].fillna(final_filtered_metadata['Disease [sample]'])\n",
    "\n",
    "final_filtered_metadata.drop('Disease [sample]', axis=1, inplace=True)\n",
    "\n",
    "print(len(final_filtered_metadata.columns))"
   ]
  },
  {
   "cell_type": "markdown",
   "metadata": {},
   "source": [
    "Host Sex"
   ]
  },
  {
   "cell_type": "code",
   "execution_count": 63,
   "metadata": {},
   "outputs": [
    {
     "name": "stdout",
     "output_type": "stream",
     "text": [
      "795\n"
     ]
    },
    {
     "name": "stderr",
     "output_type": "stream",
     "text": [
     ]
    }
   ],
   "source": [
    "final_filtered_metadata['Host Sex [sample]'] = final_filtered_metadata['Host Sex [sample]'].fillna(final_filtered_metadata['Sex [sample]'])\n",
    "\n",
    "final_filtered_metadata.drop('Sex [sample]', axis=1, inplace=True)\n",
    "\n",
    "print(len(final_filtered_metadata.columns))"
   ]
  },
  {
   "cell_type": "markdown",
   "metadata": {},
   "source": [
    "Timepoint"
   ]
  },
  {
   "cell_type": "code",
   "execution_count": 65,
   "metadata": {},
   "outputs": [
    {
     "name": "stdout",
     "output_type": "stream",
     "text": [
      "794\n"
     ]
    },
    {
     "name": "stderr",
     "output_type": "stream",
     "text": [
     ]
    }
   ],
   "source": [
    "final_filtered_metadata['Timepoint [sample]'] = final_filtered_metadata['Timepoint [sample]'].fillna(final_filtered_metadata['Time.point [sample]'])\n",
    "\n",
    "final_filtered_metadata.drop('Time.point [sample]', axis=1, inplace=True)\n",
    "\n",
    "print(len(final_filtered_metadata.columns))"
   ]
  },
  {
   "cell_type": "markdown",
   "metadata": {},
   "source": [
    "Treatment"
   ]
  },
  {
   "cell_type": "code",
   "execution_count": 66,
   "metadata": {},
   "outputs": [
    {
     "name": "stdout",
     "output_type": "stream",
     "text": [
      "793\n"
     ]
    },
    {
     "name": "stderr",
     "output_type": "stream",
     "text": [
     ]
    }
   ],
   "source": [
    "final_filtered_metadata['Treatment [sample]'] = final_filtered_metadata['Treatment [sample]'].fillna(final_filtered_metadata['Treatment.arm [sample]'])\n",
    "\n",
    "final_filtered_metadata.drop('Treatment.arm [sample]', axis=1, inplace=True)\n",
    "\n",
    "print(len(final_filtered_metadata.columns))"
   ]
  },
  {
   "cell_type": "markdown",
   "metadata": {},
   "source": [
    "BMI"
   ]
  },
  {
   "cell_type": "code",
   "execution_count": 67,
   "metadata": {},
   "outputs": [
    {
     "name": "stdout",
     "output_type": "stream",
     "text": [
      "790\n"
     ]
    },
    {
     "name": "stderr",
     "output_type": "stream",
     "text": [
     ]
    }
   ],
   "source": [
    "final_filtered_metadata['Bmi [sample]'] = final_filtered_metadata['Bmi [sample]'].fillna(final_filtered_metadata['Bmi Number [run]']).fillna(final_filtered_metadata['Host Bmi [sample]']).fillna(final_filtered_metadata['Host Body Mass Index [sample]'])\n",
    "\n",
    "final_filtered_metadata.drop('Bmi Number [run]', axis=1, inplace=True)\n",
    "\n",
    "final_filtered_metadata.drop('Host Bmi [sample]', axis=1, inplace=True)\n",
    "\n",
    "final_filtered_metadata.drop('Host Body Mass Index [sample]', axis=1, inplace=True)\n",
    "\n",
    "print(len(final_filtered_metadata.columns))"
   ]
  },
  {
   "cell_type": "markdown",
   "metadata": {},
   "source": [
    "Smoking"
   ]
  },
  {
   "cell_type": "code",
   "execution_count": 68,
   "metadata": {},
   "outputs": [
    {
     "name": "stdout",
     "output_type": "stream",
     "text": [
      "788\n"
     ]
    },
    {
     "name": "stderr",
     "output_type": "stream",
     "text": [
     ]
    }
   ],
   "source": [
    "final_filtered_metadata['Smoking [sample]'] = final_filtered_metadata['Smoking [sample]'].fillna(final_filtered_metadata['Smoker [run]']).fillna(final_filtered_metadata['Smoking Frequency [sample]'])\n",
    "\n",
    "final_filtered_metadata.drop('Smoker [run]', axis=1, inplace=True)\n",
    "\n",
    "final_filtered_metadata.drop('Smoking Frequency [sample]', axis=1, inplace=True)\n",
    "\n",
    "print(len(final_filtered_metadata.columns))"
   ]
  },
  {
   "cell_type": "markdown",
   "metadata": {},
   "source": [
    "Subject ID"
   ]
  },
  {
   "cell_type": "code",
   "execution_count": 70,
   "metadata": {},
   "outputs": [
    {
     "name": "stdout",
     "output_type": "stream",
     "text": [
      "786\n"
     ]
    },
    {
     "name": "stderr",
     "output_type": "stream",
     "text": [
     ]
    }
   ],
   "source": [
    "final_filtered_metadata['Subject Id [sample]'] = final_filtered_metadata['Subject Id [sample]'].fillna(final_filtered_metadata['Host Subject Id [sample]']).fillna(final_filtered_metadata['Host subject id [sample]'])\n",
    "\n",
    "final_filtered_metadata.drop('Host Subject Id [sample]', axis=1, inplace=True)\n",
    "\n",
    "final_filtered_metadata.drop('Host subject id [sample]', axis=1, inplace=True)\n",
    "\n",
    "print(len(final_filtered_metadata.columns))"
   ]
  },
  {
   "cell_type": "markdown",
   "metadata": {},
   "source": [
    "Weight"
   ]
  },
  {
   "cell_type": "code",
   "execution_count": 71,
   "metadata": {},
   "outputs": [
    {
     "name": "stdout",
     "output_type": "stream",
     "text": [
      "785\n"
     ]
    },
    {
     "name": "stderr",
     "output_type": "stream",
     "text": [
     ]
    }
   ],
   "source": [
    "final_filtered_metadata['Weight [sample]'] = final_filtered_metadata['Weight [sample]'].fillna(final_filtered_metadata['Weight kg [sample]'])\n",
    "\n",
    "final_filtered_metadata.drop('Weight kg [sample]', axis=1, inplace=True)\n",
    "\n",
    "print(len(final_filtered_metadata.columns))"
   ]
  },
  {
   "cell_type": "markdown",
   "metadata": {},
   "source": [
    "Diet"
   ]
  },
  {
   "cell_type": "code",
   "execution_count": 72,
   "metadata": {},
   "outputs": [
    {
     "name": "stdout",
     "output_type": "stream",
     "text": [
      "784\n"
     ]
    },
    {
     "name": "stderr",
     "output_type": "stream",
     "text": [
     ]
    }
   ],
   "source": [
    "final_filtered_metadata['Host Diet [sample]'] = final_filtered_metadata['Host Diet [sample]'].fillna(final_filtered_metadata['Diet type [sample]'])\n",
    "\n",
    "final_filtered_metadata.drop('Diet type [sample]', axis=1, inplace=True)\n",
    "\n",
    "print(len(final_filtered_metadata.columns))"
   ]
  },
  {
   "cell_type": "markdown",
   "metadata": {},
   "source": [
    "Height"
   ]
  },
  {
   "cell_type": "code",
   "execution_count": 73,
   "metadata": {},
   "outputs": [
    {
     "name": "stdout",
     "output_type": "stream",
     "text": [
      "782\n"
     ]
    },
    {
     "name": "stderr",
     "output_type": "stream",
     "text": [
     ]
    }
   ],
   "source": [
    "final_filtered_metadata['Host Height [sample]'] = final_filtered_metadata['Host Height [sample]'].fillna(final_filtered_metadata['Height [sample]']).fillna(final_filtered_metadata['Height cm [sample]'])\n",
    "\n",
    "final_filtered_metadata.drop('Height [sample]', axis=1, inplace=True)\n",
    "\n",
    "final_filtered_metadata.drop('Height cm [sample]', axis=1, inplace=True)\n",
    "\n",
    "print(len(final_filtered_metadata.columns))"
   ]
  },
  {
   "cell_type": "markdown",
   "metadata": {},
   "source": [
    "Steroids"
   ]
  },
  {
   "cell_type": "code",
   "execution_count": 74,
   "metadata": {},
   "outputs": [
    {
     "name": "stdout",
     "output_type": "stream",
     "text": [
      "781\n"
     ]
    },
    {
     "name": "stderr",
     "output_type": "stream",
     "text": [
     ]
    }
   ],
   "source": [
    "final_filtered_metadata['Steroids [sample]'] = final_filtered_metadata['Steroids [sample]'].fillna(final_filtered_metadata['Steroid [run]'])\n",
    "\n",
    "final_filtered_metadata.drop('Steroid [run]', axis=1, inplace=True)\n",
    "\n",
    "print(len(final_filtered_metadata.columns))"
   ]
  },
  {
   "cell_type": "markdown",
   "metadata": {},
   "source": [
    "Antibiotics"
   ]
  },
  {
   "cell_type": "code",
   "execution_count": 76,
   "metadata": {},
   "outputs": [
    {
     "name": "stdout",
     "output_type": "stream",
     "text": [
      "778\n"
     ]
    },
    {
     "name": "stderr",
     "output_type": "stream",
     "text": [
     ]
    }
   ],
   "source": [
    "final_filtered_metadata['Antibiotics [sample]'] = final_filtered_metadata['Antibiotics [sample]'].fillna(final_filtered_metadata['Antibiotics [run]']).fillna(final_filtered_metadata['Antibiotic [sample]']).fillna(final_filtered_metadata['Antibiotic Use [sample]'])\n",
    "\n",
    "final_filtered_metadata.drop('Antibiotics [run]', axis=1, inplace=True)\n",
    "\n",
    "final_filtered_metadata.drop('Antibiotic [sample]', axis=1, inplace=True)\n",
    "\n",
    "final_filtered_metadata.drop('Antibiotic Use [sample]', axis=1, inplace=True)\n",
    "\n",
    "print(len(final_filtered_metadata.columns))"
   ]
  },
  {
   "cell_type": "markdown",
   "metadata": {},
   "source": [
    "### Reduce Number of Columns\n",
    "\n",
    "Now I will exclude all columns except those that we decided to keep."
   ]
  },
  {
   "cell_type": "code",
   "execution_count": 77,
   "metadata": {},
   "outputs": [],
   "source": [
    "columns_to_keep = pd.read_csv('/Users/svenst/Documents/qiime2-wrkdir/global-gutfungi/Metadata/final-columns.tsv', header=None, sep='\\t').iloc[:, 0].tolist()"
   ]
  },
  {
   "cell_type": "code",
   "execution_count": 78,
   "metadata": {},
   "outputs": [],
   "source": [
    "# Filter to keep only the columns in the list that are also in the DataFrame\n",
    "final_filtered_metadata = final_filtered_metadata[final_filtered_metadata.columns.intersection(columns_to_keep)]"
   ]
  },
  {
   "cell_type": "code",
   "execution_count": 79,
   "metadata": {},
   "outputs": [
    {
     "name": "stdout",
     "output_type": "stream",
     "text": [
      "Remaining columns in DataFrame: ['ID', 'Bioproject ID', 'Experiment ID', 'Biosample ID', 'Study ID', 'Sample Accession', 'Organism', 'Library Source', 'Library Layout', 'Library Selection', 'Instrument', 'Platform', 'Alcohol Frequency [sample]', 'Alcohol consumption [sample]', 'Anonymized name [sample]', 'Antibiotic History [sample]', 'Autoimmune [sample]', 'Birth year [sample]', 'Bmi Cat [sample]', 'Bmi Corrected [sample]', 'Bmi [sample]', 'Country of birth [sample]', 'Csection [sample]', 'Drinking Water Source [sample]', 'Fed As Infant [sample]', 'Height Units [sample]', 'Host taxid [sample]', 'Ibs [sample]', 'Latitude [sample]', 'Library Name', 'Longitude [sample]', 'Name', 'Orig Sample Name [experiment]', 'Pcr Primers [experiment]', 'Race [sample]', 'State [sample]', 'Submitter id [sample]', 'Target Gene [experiment]', 'Target Subfragment [experiment]', 'Tax ID', 'Types Of Plants [sample]', 'Vegetable Frequency [sample]', 'Weight Units [sample]', 'Collection Date [sample]', 'Env Broad Scale [sample]', 'Env Local Scale [sample]', 'Geo Loc Name [sample]', 'Host [sample]', 'Host Age [sample]', 'Host Sex [sample]', 'Investigation type [sample]', 'Scientific Name [sample]', 'Sequencing method [sample]', 'Common name [sample]', 'Irritable bowel syndrome (ibs) [study]', 'Environmental package [sample]', 'Env Biome [sample]', 'Env Feature [sample]', 'Sample Prefix [sample]', 'Ethnicity [sample]', 'Host Disease [sample]', 'Timepoint [sample]', 'Day [sample]', 'Patient Id [sample]', 'Sample Id [sample]', 'Time [sample]', 'Smoking [sample]', 'Gastrointest Disord [sample]', 'Treatment [sample]', 'Source Material Id [sample]', 'Age Solid Food Intro [sample]', 'Agegp 3 [sample]', 'Agegp [sample]', 'Antibiotics [sample]', 'Antibioticsixmonths [sample]', 'Child Breastfed [sample]', 'Drinkingwater [sample]', 'Exclusively Breastfed [sample]', 'Hospitalised First 6mnths [sample]', 'Housinginfrastructure [sample]', 'How Long Breastfed [sample]', 'How Was The Child Born [sample]', 'Months Child Breastfed [sample]', 'Pet In Household [sample]', 'Poorgrowth [sample]', 'Prem Birth [sample]', 'Storage Method [sample]', 'Age Categories [run]', 'Diabetes Mellitus [run]', 'Diarrhea [run]', 'Inflammatory Bowel Disease [run]', 'Sample Or Control [run]', 'Sex [run]', 'Host Height [sample]', 'Code [sample]', 'Animal Contact [sample]', 'Bristol Stool Scale [sample]', 'Delivery Mode [sample]', 'Drinking [sample]', 'Subject Id [sample]', 'Weight [sample]']\n"
     ]
    }
   ],
   "source": [
    "# Print the columns of the DataFrame to verify\n",
    "print(\"Remaining columns in DataFrame:\", final_filtered_metadata.columns.tolist())"
   ]
  },
  {
   "cell_type": "markdown",
   "metadata": {},
   "source": [
    "### Final Analysis"
   ]
  },
  {
   "cell_type": "code",
   "execution_count": 80,
   "metadata": {},
   "outputs": [
    {
     "name": "stdout",
     "output_type": "stream",
     "text": [
      "Number of rows: 10460\n",
      "Number of columns: 101\n"
     ]
    }
   ],
   "source": [
    "# Getting the shape of the DataFrame\n",
    "num_rows, num_columns = final_filtered_metadata.shape\n",
    "\n",
    "# Printing the number of rows and columns\n",
    "print(\"Number of rows:\", num_rows)\n",
    "print(\"Number of columns:\", num_columns)\n"
   ]
  },
  {
   "cell_type": "code",
   "execution_count": 81,
   "metadata": {},
   "outputs": [],
   "source": [
    "# Export the DataFrame to a TSV file\n",
    "final_filtered_metadata.to_csv('fungi-project-metadata_final.tsv', sep='\\t', index=False)"
   ]
  }
 ],
 "metadata": {
  "kernelspec": {
   "display_name": "qiime2-amplicon-2024.5",
   "language": "python",
   "name": "python3"
  },
  "language_info": {
   "codemirror_mode": {
    "name": "ipython",
    "version": 3
   },
   "file_extension": ".py",
   "mimetype": "text/x-python",
   "name": "python",
   "nbconvert_exporter": "python",
   "pygments_lexer": "ipython3",
   "version": "3.8.18"
  }
 },
 "nbformat": 4,
 "nbformat_minor": 2
}
