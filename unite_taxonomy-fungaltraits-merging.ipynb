{
 "cells": [
  {
   "cell_type": "code",
   "execution_count": 1,
   "metadata": {},
   "outputs": [],
   "source": [
    "import pandas as pd\n",
    "import re\n",
    "\n",
    "#get dataframes for UNITE taxonomy and FungalTraits\n",
    "unite_taxonomy = pd.read_csv('/Users/svenst/Documents/qiime2-wrkdir/global-gutfungi/UNITE-FungalTraits/aa683f84-5373-4e3f-a43d-bcc28bb9a658/data/taxonomy.tsv', delimiter='\\t')  # Replace 'path_to_your_file.csv' with your file path\n",
    "\n",
    "fungal_traits = pd.read_excel('/Users/svenst/Documents/qiime2-wrkdir/global-gutfungi/UNITE-FungalTraits/FungalTraits-classification.xlsx')  # Replace 'path_to_your_file.xlsx' with your file path\n",
    "\n",
    "#define function to extract genus from taxonomic label\n",
    "def extract_genus(taxon):\n",
    "    match = re.search(r'(g__[^;]+)', taxon)\n",
    "    if match:\n",
    "        return match.group(1)  # This keeps 'g__' with the genus name\n",
    "    return None  # Return None if 'g__' is not found\n",
    "\n",
    "#extract genus from UNITE taxonomy\n",
    "unite_taxonomy['Genus'] = unite_taxonomy['Taxon'].apply(extract_genus)\n",
    "\n",
    "#see if it worked\n",
    "print(unite_taxonomy.head())\n",
    "\n",
    "# Get the index of the 'GENUS' column\n",
    "index_of_genus = fungal_traits.columns.get_loc(\"GENUS\") + 1\n",
    "\n",
    "# Insert 'g__Genus' right after 'GENUS'\n",
    "fungal_traits.insert(index_of_genus, 'g__Genus', 'g__' + fungal_traits['GENUS'])\n",
    "\n",
    "\n",
    "fungal_traits_filled = fungal_traits.fillna('not reported')\n",
    "\n",
    "\n",
    "# Merging 'unite_taxonomy' and 'fungal_traits_filled' based on common genus column\n",
    "merged_df = pd.merge(unite_taxonomy, fungal_traits_filled, left_on='Genus', right_on='g__Genus', how='left')\n",
    "\n",
    "#look at file\n",
    "print(merged_df.head())\n",
    "\n",
    "#save\n",
    "merged_df.to_csv('unite_fungaltraits_merged.tsv', sep='\\t', index=False)"
   ]
  }
 ],
 "metadata": {
  "kernelspec": {
   "display_name": "base",
   "language": "python",
   "name": "python3"
  },
  "language_info": {
   "codemirror_mode": {
    "name": "ipython",
    "version": 3
   },
   "file_extension": ".py",
   "mimetype": "text/x-python",
   "name": "python",
   "nbconvert_exporter": "python",
   "pygments_lexer": "ipython3",
   "version": "3.9.19"
  }
 },
 "nbformat": 4,
 "nbformat_minor": 2
}
